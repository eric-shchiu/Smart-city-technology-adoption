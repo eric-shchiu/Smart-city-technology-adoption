{
 "cells": [
  {
   "cell_type": "code",
   "execution_count": 1,
   "id": "25d5e3d8-152c-4952-ad93-f8afce5e93dc",
   "metadata": {},
   "outputs": [],
   "source": [
    "import pandas as pd\n",
    "import numpy as np\n",
    "from matplotlib import pyplot as plt\n",
    "import seaborn as sns"
   ]
  },
  {
   "cell_type": "markdown",
   "id": "e830540d-cbdc-4d8b-86fa-5914babaec11",
   "metadata": {},
   "source": [
    "# Read Data"
   ]
  },
  {
   "cell_type": "code",
   "execution_count": 2,
   "id": "d93d36ee-3440-4f81-bfe8-e340ffecc80c",
   "metadata": {},
   "outputs": [
    {
     "data": {
      "text/html": [
       "<div>\n",
       "<style scoped>\n",
       "    .dataframe tbody tr th:only-of-type {\n",
       "        vertical-align: middle;\n",
       "    }\n",
       "\n",
       "    .dataframe tbody tr th {\n",
       "        vertical-align: top;\n",
       "    }\n",
       "\n",
       "    .dataframe thead th {\n",
       "        text-align: right;\n",
       "    }\n",
       "</style>\n",
       "<table border=\"1\" class=\"dataframe\">\n",
       "  <thead>\n",
       "    <tr style=\"text-align: right;\">\n",
       "      <th></th>\n",
       "      <th>NTDID</th>\n",
       "      <th>AgencyName</th>\n",
       "      <th>OrgType</th>\n",
       "      <th>reptype</th>\n",
       "      <th>id</th>\n",
       "      <th>survey_response</th>\n",
       "      <th>pop</th>\n",
       "      <th>mile</th>\n",
       "      <th>VOMS</th>\n",
       "      <th>revenue</th>\n",
       "      <th>City</th>\n",
       "      <th>County</th>\n",
       "      <th>Address</th>\n",
       "      <th>Zip</th>\n",
       "    </tr>\n",
       "  </thead>\n",
       "  <tbody>\n",
       "    <tr>\n",
       "      <th>0</th>\n",
       "      <td>NaN</td>\n",
       "      <td>Access Services</td>\n",
       "      <td>Independent Public Agency</td>\n",
       "      <td>NaN</td>\n",
       "      <td>NaN</td>\n",
       "      <td>0</td>\n",
       "      <td>NaN</td>\n",
       "      <td>NaN</td>\n",
       "      <td>NaN</td>\n",
       "      <td>NaN</td>\n",
       "      <td>El Monte</td>\n",
       "      <td>NaN</td>\n",
       "      <td>PO Box 5728</td>\n",
       "      <td>91734</td>\n",
       "    </tr>\n",
       "    <tr>\n",
       "      <th>1</th>\n",
       "      <td>90014</td>\n",
       "      <td>Alameda-Contra Costa Transit District</td>\n",
       "      <td>Independent Public Agency</td>\n",
       "      <td>Full Reporter</td>\n",
       "      <td>Principal City</td>\n",
       "      <td>0</td>\n",
       "      <td>1425275.0</td>\n",
       "      <td>364.0</td>\n",
       "      <td>794.0</td>\n",
       "      <td>520172455.0</td>\n",
       "      <td>Oakland</td>\n",
       "      <td>Alameda</td>\n",
       "      <td>1600 Franklin Street</td>\n",
       "      <td>94612</td>\n",
       "    </tr>\n",
       "    <tr>\n",
       "      <th>2</th>\n",
       "      <td>90247</td>\n",
       "      <td>Alhambra</td>\n",
       "      <td>Local Government</td>\n",
       "      <td>Reduced Reporter</td>\n",
       "      <td>Suburban City</td>\n",
       "      <td>0</td>\n",
       "      <td>83089.0</td>\n",
       "      <td>8.0</td>\n",
       "      <td>15.0</td>\n",
       "      <td>1893158.0</td>\n",
       "      <td>Alhambra</td>\n",
       "      <td>Los Angeles</td>\n",
       "      <td>111 S First Street</td>\n",
       "      <td>91801</td>\n",
       "    </tr>\n",
       "    <tr>\n",
       "      <th>3</th>\n",
       "      <td>NaN</td>\n",
       "      <td>Alpine County Local Transportation Commission</td>\n",
       "      <td>MPO/RTPA</td>\n",
       "      <td>NaN</td>\n",
       "      <td>NaN</td>\n",
       "      <td>1</td>\n",
       "      <td>NaN</td>\n",
       "      <td>NaN</td>\n",
       "      <td>NaN</td>\n",
       "      <td>NaN</td>\n",
       "      <td>Markleeville</td>\n",
       "      <td>NaN</td>\n",
       "      <td>50 Diamond Valley Road</td>\n",
       "      <td>96120</td>\n",
       "    </tr>\n",
       "    <tr>\n",
       "      <th>4</th>\n",
       "      <td>90182</td>\n",
       "      <td>Altamont Corridor Express</td>\n",
       "      <td>Independent Public Agency</td>\n",
       "      <td>Full Reporter</td>\n",
       "      <td>Principal City</td>\n",
       "      <td>1</td>\n",
       "      <td>4094704.0</td>\n",
       "      <td>28.0</td>\n",
       "      <td>34.0</td>\n",
       "      <td>39739603.0</td>\n",
       "      <td>Stockton</td>\n",
       "      <td>San Joaquin</td>\n",
       "      <td>NaN</td>\n",
       "      <td>NaN</td>\n",
       "    </tr>\n",
       "  </tbody>\n",
       "</table>\n",
       "</div>"
      ],
      "text/plain": [
       "   NTDID                                     AgencyName  \\\n",
       "0    NaN                                Access Services   \n",
       "1  90014          Alameda-Contra Costa Transit District   \n",
       "2  90247                                       Alhambra   \n",
       "3    NaN  Alpine County Local Transportation Commission   \n",
       "4  90182                      Altamont Corridor Express   \n",
       "\n",
       "                     OrgType           reptype              id  \\\n",
       "0  Independent Public Agency               NaN             NaN   \n",
       "1  Independent Public Agency     Full Reporter  Principal City   \n",
       "2           Local Government  Reduced Reporter   Suburban City   \n",
       "3                   MPO/RTPA               NaN             NaN   \n",
       "4  Independent Public Agency     Full Reporter  Principal City   \n",
       "\n",
       "   survey_response        pop   mile   VOMS      revenue          City  \\\n",
       "0                0        NaN    NaN    NaN          NaN      El Monte   \n",
       "1                0  1425275.0  364.0  794.0  520172455.0       Oakland   \n",
       "2                0    83089.0    8.0   15.0    1893158.0      Alhambra   \n",
       "3                1        NaN    NaN    NaN          NaN  Markleeville   \n",
       "4                1  4094704.0   28.0   34.0   39739603.0      Stockton   \n",
       "\n",
       "        County                 Address    Zip  \n",
       "0          NaN             PO Box 5728  91734  \n",
       "1      Alameda    1600 Franklin Street  94612  \n",
       "2  Los Angeles      111 S First Street  91801  \n",
       "3          NaN  50 Diamond Valley Road  96120  \n",
       "4  San Joaquin                     NaN    NaN  "
      ]
     },
     "execution_count": 2,
     "metadata": {},
     "output_type": "execute_result"
    }
   ],
   "source": [
    "transit_survey = pd.read_csv('Data/transit_survey.csv')\n",
    "transit_survey.head()"
   ]
  },
  {
   "cell_type": "code",
   "execution_count": 3,
   "id": "3684dbd3-118e-4e79-813b-2d5f1528b94e",
   "metadata": {},
   "outputs": [
    {
     "data": {
      "text/html": [
       "<div>\n",
       "<style scoped>\n",
       "    .dataframe tbody tr th:only-of-type {\n",
       "        vertical-align: middle;\n",
       "    }\n",
       "\n",
       "    .dataframe tbody tr th {\n",
       "        vertical-align: top;\n",
       "    }\n",
       "\n",
       "    .dataframe thead th {\n",
       "        text-align: right;\n",
       "    }\n",
       "</style>\n",
       "<table border=\"1\" class=\"dataframe\">\n",
       "  <thead>\n",
       "    <tr style=\"text-align: right;\">\n",
       "      <th></th>\n",
       "      <th>Video/ Audio</th>\n",
       "      <th>URL</th>\n",
       "      <th>Transit relevent ?</th>\n",
       "      <th>Count - video(past 12 months)</th>\n",
       "      <th>Count - Meetings (past 12 months)</th>\n",
       "      <th>Transportation Commission/City Counsil/ Planning Commission?</th>\n",
       "      <th>Mentioned Transportation Topic?</th>\n",
       "      <th>Transportation Commission Existed?</th>\n",
       "      <th>Transportation Commission video posted (&gt;2 in the last year)?</th>\n",
       "      <th>If no transportation commission, other meetings posted?</th>\n",
       "      <th>...</th>\n",
       "      <th>Zip</th>\n",
       "      <th>Phone</th>\n",
       "      <th>Primary Contact - Title</th>\n",
       "      <th>CALACT</th>\n",
       "      <th>Contact</th>\n",
       "      <th>Email.y</th>\n",
       "      <th>CATEGORY</th>\n",
       "      <th>OT</th>\n",
       "      <th>City</th>\n",
       "      <th>post_video</th>\n",
       "    </tr>\n",
       "  </thead>\n",
       "  <tbody>\n",
       "    <tr>\n",
       "      <th>1</th>\n",
       "      <td>no</td>\n",
       "      <td>NaN</td>\n",
       "      <td>NaN</td>\n",
       "      <td>NaN</td>\n",
       "      <td>NaN</td>\n",
       "      <td>NaN</td>\n",
       "      <td>NaN</td>\n",
       "      <td>NaN</td>\n",
       "      <td>NaN</td>\n",
       "      <td>NaN</td>\n",
       "      <td>...</td>\n",
       "      <td>91734</td>\n",
       "      <td>213-270-6000</td>\n",
       "      <td>Strategic Planner</td>\n",
       "      <td>CALACT Member</td>\n",
       "      <td>Eric Haack</td>\n",
       "      <td>Haack@accessla.org</td>\n",
       "      <td>NaN</td>\n",
       "      <td>Independent Public Agency</td>\n",
       "      <td>El Monte</td>\n",
       "      <td>0</td>\n",
       "    </tr>\n",
       "    <tr>\n",
       "      <th>2</th>\n",
       "      <td>granicus</td>\n",
       "      <td>https://actransit.legistar.com/Calendar.aspx</td>\n",
       "      <td>Yes</td>\n",
       "      <td>36.0</td>\n",
       "      <td>90</td>\n",
       "      <td>NaN</td>\n",
       "      <td>NaN</td>\n",
       "      <td>NaN</td>\n",
       "      <td>NaN</td>\n",
       "      <td>NaN</td>\n",
       "      <td>...</td>\n",
       "      <td>94612</td>\n",
       "      <td>510-891-7213</td>\n",
       "      <td>Accessible Services Manager</td>\n",
       "      <td>CALACT Member</td>\n",
       "      <td>Mallory Nestor-Brush</td>\n",
       "      <td>mnestor@actransit.org</td>\n",
       "      <td>NaN</td>\n",
       "      <td>Independent Public Agency</td>\n",
       "      <td>Oakland</td>\n",
       "      <td>1</td>\n",
       "    </tr>\n",
       "    <tr>\n",
       "      <th>3</th>\n",
       "      <td>own website</td>\n",
       "      <td>https://spectrumstream.com/streaming/alhambra/...</td>\n",
       "      <td>No</td>\n",
       "      <td>19.0</td>\n",
       "      <td>150</td>\n",
       "      <td>NaN</td>\n",
       "      <td>NaN</td>\n",
       "      <td>NaN</td>\n",
       "      <td>NaN</td>\n",
       "      <td>NaN</td>\n",
       "      <td>...</td>\n",
       "      <td>91801</td>\n",
       "      <td>626-570-3254</td>\n",
       "      <td>Fleet Manager</td>\n",
       "      <td>CALACT Member</td>\n",
       "      <td>Joseph Villegas</td>\n",
       "      <td>jvillegas@cityofalhambra.org</td>\n",
       "      <td>NaN</td>\n",
       "      <td>Local Government</td>\n",
       "      <td>Alhambra</td>\n",
       "      <td>1</td>\n",
       "    </tr>\n",
       "    <tr>\n",
       "      <th>4</th>\n",
       "      <td>own website</td>\n",
       "      <td>http://alpinecountyca.iqm2.com/citizens/defaul...</td>\n",
       "      <td>No</td>\n",
       "      <td>30.0</td>\n",
       "      <td>43</td>\n",
       "      <td>NaN</td>\n",
       "      <td>NaN</td>\n",
       "      <td>NaN</td>\n",
       "      <td>NaN</td>\n",
       "      <td>NaN</td>\n",
       "      <td>...</td>\n",
       "      <td>96120</td>\n",
       "      <td>530-694-2140</td>\n",
       "      <td>Community Development Manager</td>\n",
       "      <td>CALACT Member</td>\n",
       "      <td>Debbie Burkett</td>\n",
       "      <td>dburkett@alpinecountyca.gov</td>\n",
       "      <td>NaN</td>\n",
       "      <td>MPO/RTPA</td>\n",
       "      <td>Markleeville</td>\n",
       "      <td>1</td>\n",
       "    </tr>\n",
       "    <tr>\n",
       "      <th>5</th>\n",
       "      <td>youtube</td>\n",
       "      <td>https://www.youtube.com/@altamontcorridorexpre...</td>\n",
       "      <td>No</td>\n",
       "      <td>1.0</td>\n",
       "      <td>NaN</td>\n",
       "      <td>NaN</td>\n",
       "      <td>NaN</td>\n",
       "      <td>NaN</td>\n",
       "      <td>NaN</td>\n",
       "      <td>NaN</td>\n",
       "      <td>...</td>\n",
       "      <td>NaN</td>\n",
       "      <td>NaN</td>\n",
       "      <td>NaN</td>\n",
       "      <td>NaN</td>\n",
       "      <td>NaN</td>\n",
       "      <td>NaN</td>\n",
       "      <td>NaN</td>\n",
       "      <td>Independent Public Agency</td>\n",
       "      <td>Stockton</td>\n",
       "      <td>0</td>\n",
       "    </tr>\n",
       "  </tbody>\n",
       "</table>\n",
       "<p>5 rows × 43 columns</p>\n",
       "</div>"
      ],
      "text/plain": [
       "  Video/ Audio                                                URL  \\\n",
       "1           no                                                NaN   \n",
       "2     granicus       https://actransit.legistar.com/Calendar.aspx   \n",
       "3  own website  https://spectrumstream.com/streaming/alhambra/...   \n",
       "4  own website  http://alpinecountyca.iqm2.com/citizens/defaul...   \n",
       "5      youtube  https://www.youtube.com/@altamontcorridorexpre...   \n",
       "\n",
       "  Transit relevent ?  Count - video(past 12 months)  \\\n",
       "1                NaN                            NaN   \n",
       "2                Yes                           36.0   \n",
       "3                 No                           19.0   \n",
       "4                 No                           30.0   \n",
       "5                 No                            1.0   \n",
       "\n",
       "  Count - Meetings (past 12 months)  \\\n",
       "1                               NaN   \n",
       "2                                90   \n",
       "3                               150   \n",
       "4                                43   \n",
       "5                               NaN   \n",
       "\n",
       "  Transportation Commission/City Counsil/ Planning Commission?  \\\n",
       "1                                                NaN             \n",
       "2                                                NaN             \n",
       "3                                                NaN             \n",
       "4                                                NaN             \n",
       "5                                                NaN             \n",
       "\n",
       "  Mentioned Transportation Topic? Transportation Commission Existed?  \\\n",
       "1                             NaN                                NaN   \n",
       "2                             NaN                                NaN   \n",
       "3                             NaN                                NaN   \n",
       "4                             NaN                                NaN   \n",
       "5                             NaN                                NaN   \n",
       "\n",
       "  Transportation Commission video posted (>2 in the last year)?  \\\n",
       "1                                                NaN              \n",
       "2                                                NaN              \n",
       "3                                                NaN              \n",
       "4                                                NaN              \n",
       "5                                                NaN              \n",
       "\n",
       "  If no transportation commission, other meetings posted?  ...    Zip  \\\n",
       "1                                                NaN       ...  91734   \n",
       "2                                                NaN       ...  94612   \n",
       "3                                                NaN       ...  91801   \n",
       "4                                                NaN       ...  96120   \n",
       "5                                                NaN       ...    NaN   \n",
       "\n",
       "          Phone        Primary Contact - Title         CALACT  \\\n",
       "1  213-270-6000              Strategic Planner  CALACT Member   \n",
       "2  510-891-7213    Accessible Services Manager  CALACT Member   \n",
       "3  626-570-3254                  Fleet Manager  CALACT Member   \n",
       "4  530-694-2140  Community Development Manager  CALACT Member   \n",
       "5           NaN                            NaN            NaN   \n",
       "\n",
       "                Contact                       Email.y  CATEGORY  \\\n",
       "1            Eric Haack            Haack@accessla.org       NaN   \n",
       "2  Mallory Nestor-Brush         mnestor@actransit.org       NaN   \n",
       "3       Joseph Villegas  jvillegas@cityofalhambra.org       NaN   \n",
       "4        Debbie Burkett   dburkett@alpinecountyca.gov       NaN   \n",
       "5                   NaN                           NaN       NaN   \n",
       "\n",
       "                          OT          City  post_video  \n",
       "1  Independent Public Agency      El Monte           0  \n",
       "2  Independent Public Agency       Oakland           1  \n",
       "3           Local Government      Alhambra           1  \n",
       "4                   MPO/RTPA  Markleeville           1  \n",
       "5  Independent Public Agency      Stockton           0  \n",
       "\n",
       "[5 rows x 43 columns]"
      ]
     },
     "execution_count": 3,
     "metadata": {},
     "output_type": "execute_result"
    }
   ],
   "source": [
    "transit_survey_video = pd.read_csv('Data/transit_survey_agencies_video_V2.csv')\n",
    "transit_survey_video = transit_survey_video.drop(0)\n",
    "transit_survey_video['Video/ Audio'] = transit_survey_video['Video/ Audio'].str.lower()\n",
    "transit_survey_video.head()\n",
    "\n",
    "transit_survey_video['post_video'] = 0\n",
    "transit_survey_video.loc[transit_survey_video['Count - video(past 12 months)']>12, 'post_video'] = 1\n",
    "transit_survey_video.head()"
   ]
  },
  {
   "cell_type": "code",
   "execution_count": 4,
   "id": "fa163797",
   "metadata": {},
   "outputs": [
    {
     "data": {
      "text/plain": [
       "1                                   Access Services\n",
       "2             Alameda-Contra Costa Transit District\n",
       "3                                  City of Alhambra\n",
       "4                                               NaN\n",
       "5                         Altamont Corridor Express\n",
       "                           ...                     \n",
       "222                                             NaN\n",
       "223             Yolo County Transportation District\n",
       "224    Yosemite Area Regional Transportation System\n",
       "225                   Yuba-Sutter Transit Authority\n",
       "226                                     Yurok Tribe\n",
       "Name: AgencyName, Length: 226, dtype: object"
      ]
     },
     "execution_count": 4,
     "metadata": {},
     "output_type": "execute_result"
    }
   ],
   "source": [
    "transit_survey_video['AgencyName']"
   ]
  },
  {
   "cell_type": "code",
   "execution_count": 5,
   "id": "103b6bdf",
   "metadata": {},
   "outputs": [
    {
     "data": {
      "text/plain": [
       "0                                    Access Services\n",
       "1              Alameda-Contra Costa Transit District\n",
       "2                                           Alhambra\n",
       "3      Alpine County Local Transportation Commission\n",
       "4                          Altamont Corridor Express\n",
       "                           ...                      \n",
       "221                               Whittier - Transit\n",
       "222              Yolo County Transportation District\n",
       "223     Yosemite Area Regional Transportation System\n",
       "224                    Yuba-Sutter Transit Authority\n",
       "225                                      Yurok Tribe\n",
       "Name: AgencyName, Length: 226, dtype: object"
      ]
     },
     "execution_count": 5,
     "metadata": {},
     "output_type": "execute_result"
    }
   ],
   "source": [
    "transit_survey['AgencyName']"
   ]
  },
  {
   "cell_type": "markdown",
   "id": "e317fe7e-8b10-4070-966a-138ab232d058",
   "metadata": {},
   "source": [
    "# Data Exploratory"
   ]
  },
  {
   "cell_type": "markdown",
   "id": "8de724a8-b864-48c6-a35c-6655b1f584fa",
   "metadata": {},
   "source": [
    "## Meta data"
   ]
  },
  {
   "cell_type": "code",
   "execution_count": 6,
   "id": "5b04b577-9a94-4c4c-b059-24bb05fdb538",
   "metadata": {},
   "outputs": [
    {
     "data": {
      "text/plain": [
       "Text(0.5, 1.0, 'Type of cities')"
      ]
     },
     "execution_count": 6,
     "metadata": {},
     "output_type": "execute_result"
    },
    {
     "data": {
      "image/png": "[encoded data removed]",
      "text/plain": [
       "<Figure size 432x288 with 1 Axes>"
      ]
     },
     "metadata": {
      "needs_background": "light"
     },
     "output_type": "display_data"
    }
   ],
   "source": [
    "ax = sns.countplot(data = transit_survey_video, x = 'id')\n",
    "\n",
    "for container in ax.containers:\n",
    "    ax.bar_label(container)\n",
    "    \n",
    "plt.ylim(0,80)\n",
    "plt.title('Type of cities', fontsize = 15)"
   ]
  },
  {
   "cell_type": "code",
   "execution_count": 7,
   "id": "b0ec7db6-1a5d-4407-a4f8-0e6089115f59",
   "metadata": {},
   "outputs": [
    {
     "data": {
      "text/plain": [
       "(array([0, 1, 2, 3]),\n",
       " [Text(0, 0, 'Independent Public Agency'),\n",
       "  Text(1, 0, 'Local Government'),\n",
       "  Text(2, 0, 'MPO/RTPA'),\n",
       "  Text(3, 0, 'Other')])"
      ]
     },
     "execution_count": 7,
     "metadata": {},
     "output_type": "execute_result"
    },
    {
     "data": {
      "image/png": "[encoded data removed]",
      "text/plain": [
       "<Figure size 432x288 with 1 Axes>"
      ]
     },
     "metadata": {
      "needs_background": "light"
     },
     "output_type": "display_data"
    }
   ],
   "source": [
    "ax = sns.countplot(data = transit_survey_video, x = 'OT')\n",
    "\n",
    "for container in ax.containers:\n",
    "    ax.bar_label(container)\n",
    "\n",
    "plt.ylim(0,130)\n",
    "plt.title('Type of organization', fontsize = 15)\n",
    "plt.xticks(rotation = 45, horizontalalignment='right')"
   ]
  },
  {
   "cell_type": "code",
   "execution_count": 8,
   "id": "eaf71537-323d-4c3f-a74f-6480edadd434",
   "metadata": {},
   "outputs": [
    {
     "data": {
      "text/plain": [
       "Text(0.5, 1.0, 'Population')"
      ]
     },
     "execution_count": 8,
     "metadata": {},
     "output_type": "execute_result"
    },
    {
     "data": {
      "image/png": "[encoded data removed]",
      "text/plain": [
       "<Figure size 432x288 with 1 Axes>"
      ]
     },
     "metadata": {
      "needs_background": "light"
     },
     "output_type": "display_data"
    }
   ],
   "source": [
    "sns.boxplot(data = transit_survey_video, x = 'pop')\n",
    "plt.title('Population', fontsize = 15)"
   ]
  },
  {
   "cell_type": "code",
   "execution_count": 9,
   "id": "7f12558f-5240-4193-83ba-7b8903b09975",
   "metadata": {},
   "outputs": [
    {
     "data": {
      "text/plain": [
       "Text(0.5, 1.0, 'Revenue')"
      ]
     },
     "execution_count": 9,
     "metadata": {},
     "output_type": "execute_result"
    },
    {
     "data": {
      "image/png": "[encoded data removed]",
      "text/plain": [
       "<Figure size 432x288 with 1 Axes>"
      ]
     },
     "metadata": {
      "needs_background": "light"
     },
     "output_type": "display_data"
    }
   ],
   "source": [
    "sns.boxplot(data = transit_survey_video, x = 'revenue')\n",
    "plt.title('Revenue', fontsize = 15)"
   ]
  },
  {
   "cell_type": "code",
   "execution_count": 10,
   "id": "9823eecc-a043-4bed-a5dc-fbed23eb85cf",
   "metadata": {},
   "outputs": [
    {
     "data": {
      "text/plain": [
       "Text(0.5, 1.0, 'Revenue per capita')"
      ]
     },
     "execution_count": 10,
     "metadata": {},
     "output_type": "execute_result"
    },
    {
     "data": {
      "image/png": "[encoded data removed]",
      "text/plain": [
       "<Figure size 432x288 with 1 Axes>"
      ]
     },
     "metadata": {
      "needs_background": "light"
     },
     "output_type": "display_data"
    }
   ],
   "source": [
    "rev_per_capita = transit_survey_video['revenue']/transit_survey_video['pop']\n",
    "\n",
    "sns.histplot(data = rev_per_capita)\n",
    "plt.title('Revenue per capita', fontsize = 15)"
   ]
  },
  {
   "cell_type": "code",
   "execution_count": 11,
   "id": "545aa917-1018-44b0-92a0-b7448fa59ac8",
   "metadata": {},
   "outputs": [
    {
     "data": {
      "text/plain": [
       "Text(0.5, 1.0, 'Meeting video platform')"
      ]
     },
     "execution_count": 11,
     "metadata": {},
     "output_type": "execute_result"
    },
    {
     "data": {
      "image/png": "[encoded data removed]",
      "text/plain": [
       "<Figure size 360x360 with 1 Axes>"
      ]
     },
     "metadata": {},
     "output_type": "display_data"
    }
   ],
   "source": [
    "# Have video recoding posted online or not\n",
    "plt.figure(figsize = (5,5))\n",
    "plt.pie(transit_survey_video['Video/ Audio'].value_counts().sort_index(), labels = transit_survey_video['Video/ Audio'].value_counts().sort_index().index.tolist(), autopct='%.0f%%')\n",
    "plt.title('Meeting video platform', fontsize = 15)"
   ]
  },
  {
   "cell_type": "code",
   "execution_count": 12,
   "id": "c6146017-c36f-4f36-839f-27404e11c078",
   "metadata": {},
   "outputs": [
    {
     "data": {
      "text/plain": [
       "Text(0.5, 1.0, 'Transit relevent content')"
      ]
     },
     "execution_count": 12,
     "metadata": {},
     "output_type": "execute_result"
    },
    {
     "data": {
      "image/png": "[encoded data removed]",
      "text/plain": [
       "<Figure size 360x360 with 1 Axes>"
      ]
     },
     "metadata": {},
     "output_type": "display_data"
    }
   ],
   "source": [
    "# Has transit relevent meterials?\n",
    "plt.figure(figsize = (5,5))\n",
    "plt.pie(transit_survey_video['Transit relevent ?'].value_counts().sort_index(), labels = transit_survey_video['Transit relevent ?'].value_counts().sort_index().index.tolist(), autopct='%.0f%%')\n",
    "plt.title('Transit relevent content', fontsize = 15)\n"
   ]
  },
  {
   "cell_type": "code",
   "execution_count": 13,
   "id": "536b3ee3-ed58-4fa2-b9ab-c5fc9bbb3849",
   "metadata": {},
   "outputs": [
    {
     "data": {
      "text/plain": [
       "Text(0.5, 1.0, 'Number of video posted')"
      ]
     },
     "execution_count": 13,
     "metadata": {},
     "output_type": "execute_result"
    },
    {
     "data": {
      "image/png": "[encoded data removed]",
      "text/plain": [
       "<Figure size 1080x360 with 1 Axes>"
      ]
     },
     "metadata": {
      "needs_background": "light"
     },
     "output_type": "display_data"
    }
   ],
   "source": [
    "# Number of videos posted in the past 12 months\n",
    "plt.figure(figsize = (15,5))\n",
    "sns.histplot(data = transit_survey_video['Count - video(past 12 months)'])\n",
    "plt.title('Number of video posted', fontsize = 15)"
   ]
  },
  {
   "cell_type": "markdown",
   "id": "a34acc9d-7b5f-4e7e-b4f5-aae9d1d09263",
   "metadata": {},
   "source": [
    "## Angencies responded to survey"
   ]
  },
  {
   "cell_type": "code",
   "execution_count": 14,
   "id": "9abd8463-5cbf-4f6f-8525-4ea1860830f6",
   "metadata": {},
   "outputs": [
    {
     "data": {
      "text/html": [
       "<div>\n",
       "<style scoped>\n",
       "    .dataframe tbody tr th:only-of-type {\n",
       "        vertical-align: middle;\n",
       "    }\n",
       "\n",
       "    .dataframe tbody tr th {\n",
       "        vertical-align: top;\n",
       "    }\n",
       "\n",
       "    .dataframe thead th {\n",
       "        text-align: right;\n",
       "    }\n",
       "</style>\n",
       "<table border=\"1\" class=\"dataframe\">\n",
       "  <thead>\n",
       "    <tr style=\"text-align: right;\">\n",
       "      <th></th>\n",
       "      <th>Video/ Audio</th>\n",
       "      <th>URL</th>\n",
       "      <th>Transit relevent ?</th>\n",
       "      <th>Count - video(past 12 months)</th>\n",
       "      <th>Count - Meetings (past 12 months)</th>\n",
       "      <th>Transportation Commission/City Counsil/ Planning Commission?</th>\n",
       "      <th>Mentioned Transportation Topic?</th>\n",
       "      <th>Transportation Commission Existed?</th>\n",
       "      <th>Transportation Commission video posted (&gt;2 in the last year)?</th>\n",
       "      <th>If no transportation commission, other meetings posted?</th>\n",
       "      <th>...</th>\n",
       "      <th>Zip</th>\n",
       "      <th>Phone</th>\n",
       "      <th>Primary Contact - Title</th>\n",
       "      <th>CALACT</th>\n",
       "      <th>Contact</th>\n",
       "      <th>Email.y</th>\n",
       "      <th>CATEGORY</th>\n",
       "      <th>OT</th>\n",
       "      <th>City</th>\n",
       "      <th>post_video</th>\n",
       "    </tr>\n",
       "  </thead>\n",
       "  <tbody>\n",
       "    <tr>\n",
       "      <th>4</th>\n",
       "      <td>own website</td>\n",
       "      <td>http://alpinecountyca.iqm2.com/citizens/defaul...</td>\n",
       "      <td>No</td>\n",
       "      <td>30.0</td>\n",
       "      <td>43</td>\n",
       "      <td>NaN</td>\n",
       "      <td>NaN</td>\n",
       "      <td>NaN</td>\n",
       "      <td>NaN</td>\n",
       "      <td>NaN</td>\n",
       "      <td>...</td>\n",
       "      <td>96120</td>\n",
       "      <td>530-694-2140</td>\n",
       "      <td>Community Development Manager</td>\n",
       "      <td>CALACT Member</td>\n",
       "      <td>Debbie Burkett</td>\n",
       "      <td>dburkett@alpinecountyca.gov</td>\n",
       "      <td>NaN</td>\n",
       "      <td>MPO/RTPA</td>\n",
       "      <td>Markleeville</td>\n",
       "      <td>1</td>\n",
       "    </tr>\n",
       "    <tr>\n",
       "      <th>5</th>\n",
       "      <td>youtube</td>\n",
       "      <td>https://www.youtube.com/@altamontcorridorexpre...</td>\n",
       "      <td>No</td>\n",
       "      <td>1.0</td>\n",
       "      <td>NaN</td>\n",
       "      <td>NaN</td>\n",
       "      <td>NaN</td>\n",
       "      <td>NaN</td>\n",
       "      <td>NaN</td>\n",
       "      <td>NaN</td>\n",
       "      <td>...</td>\n",
       "      <td>NaN</td>\n",
       "      <td>NaN</td>\n",
       "      <td>NaN</td>\n",
       "      <td>NaN</td>\n",
       "      <td>NaN</td>\n",
       "      <td>NaN</td>\n",
       "      <td>NaN</td>\n",
       "      <td>Independent Public Agency</td>\n",
       "      <td>Stockton</td>\n",
       "      <td>0</td>\n",
       "    </tr>\n",
       "    <tr>\n",
       "      <th>6</th>\n",
       "      <td>no</td>\n",
       "      <td>NaN</td>\n",
       "      <td>NaN</td>\n",
       "      <td>NaN</td>\n",
       "      <td>NaN</td>\n",
       "      <td>NaN</td>\n",
       "      <td>NaN</td>\n",
       "      <td>NaN</td>\n",
       "      <td>NaN</td>\n",
       "      <td>NaN</td>\n",
       "      <td>...</td>\n",
       "      <td>95642-9525</td>\n",
       "      <td>209-267-9395</td>\n",
       "      <td>General Manager</td>\n",
       "      <td>CALACT Member</td>\n",
       "      <td>Patricia Amarant</td>\n",
       "      <td>maggie@amadortransit.com</td>\n",
       "      <td>NaN</td>\n",
       "      <td>Independent Public Agency</td>\n",
       "      <td>Jackson</td>\n",
       "      <td>0</td>\n",
       "    </tr>\n",
       "    <tr>\n",
       "      <th>7</th>\n",
       "      <td>no</td>\n",
       "      <td>NaN</td>\n",
       "      <td>NaN</td>\n",
       "      <td>NaN</td>\n",
       "      <td>NaN</td>\n",
       "      <td>NaN</td>\n",
       "      <td>NaN</td>\n",
       "      <td>NaN</td>\n",
       "      <td>NaN</td>\n",
       "      <td>NaN</td>\n",
       "      <td>...</td>\n",
       "      <td>NaN</td>\n",
       "      <td>NaN</td>\n",
       "      <td>NaN</td>\n",
       "      <td>NaN</td>\n",
       "      <td>NaN</td>\n",
       "      <td>NaN</td>\n",
       "      <td>NaN</td>\n",
       "      <td>Other</td>\n",
       "      <td>Anaheim</td>\n",
       "      <td>0</td>\n",
       "    </tr>\n",
       "    <tr>\n",
       "      <th>8</th>\n",
       "      <td>no</td>\n",
       "      <td>NaN</td>\n",
       "      <td>NaN</td>\n",
       "      <td>NaN</td>\n",
       "      <td>NaN</td>\n",
       "      <td>NaN</td>\n",
       "      <td>NaN</td>\n",
       "      <td>NaN</td>\n",
       "      <td>NaN</td>\n",
       "      <td>NaN</td>\n",
       "      <td>...</td>\n",
       "      <td>93534</td>\n",
       "      <td>661-945-9445</td>\n",
       "      <td>Executive Director/Chief Executive Officer</td>\n",
       "      <td>CALACT Member</td>\n",
       "      <td>Macy Neshati</td>\n",
       "      <td>Mneshati@avta.com</td>\n",
       "      <td>NaN</td>\n",
       "      <td>Independent Public Agency</td>\n",
       "      <td>Lancaster</td>\n",
       "      <td>0</td>\n",
       "    </tr>\n",
       "  </tbody>\n",
       "</table>\n",
       "<p>5 rows × 43 columns</p>\n",
       "</div>"
      ],
      "text/plain": [
       "  Video/ Audio                                                URL  \\\n",
       "4  own website  http://alpinecountyca.iqm2.com/citizens/defaul...   \n",
       "5      youtube  https://www.youtube.com/@altamontcorridorexpre...   \n",
       "6           no                                                NaN   \n",
       "7           no                                                NaN   \n",
       "8           no                                                NaN   \n",
       "\n",
       "  Transit relevent ?  Count - video(past 12 months)  \\\n",
       "4                 No                           30.0   \n",
       "5                 No                            1.0   \n",
       "6                NaN                            NaN   \n",
       "7                NaN                            NaN   \n",
       "8                NaN                            NaN   \n",
       "\n",
       "  Count - Meetings (past 12 months)  \\\n",
       "4                                43   \n",
       "5                               NaN   \n",
       "6                               NaN   \n",
       "7                               NaN   \n",
       "8                               NaN   \n",
       "\n",
       "  Transportation Commission/City Counsil/ Planning Commission?  \\\n",
       "4                                                NaN             \n",
       "5                                                NaN             \n",
       "6                                                NaN             \n",
       "7                                                NaN             \n",
       "8                                                NaN             \n",
       "\n",
       "  Mentioned Transportation Topic? Transportation Commission Existed?  \\\n",
       "4                             NaN                                NaN   \n",
       "5                             NaN                                NaN   \n",
       "6                             NaN                                NaN   \n",
       "7                             NaN                                NaN   \n",
       "8                             NaN                                NaN   \n",
       "\n",
       "  Transportation Commission video posted (>2 in the last year)?  \\\n",
       "4                                                NaN              \n",
       "5                                                NaN              \n",
       "6                                                NaN              \n",
       "7                                                NaN              \n",
       "8                                                NaN              \n",
       "\n",
       "  If no transportation commission, other meetings posted?  ...         Zip  \\\n",
       "4                                                NaN       ...       96120   \n",
       "5                                                NaN       ...         NaN   \n",
       "6                                                NaN       ...  95642-9525   \n",
       "7                                                NaN       ...         NaN   \n",
       "8                                                NaN       ...       93534   \n",
       "\n",
       "          Phone                     Primary Contact - Title         CALACT  \\\n",
       "4  530-694-2140               Community Development Manager  CALACT Member   \n",
       "5           NaN                                         NaN            NaN   \n",
       "6  209-267-9395                             General Manager  CALACT Member   \n",
       "7           NaN                                         NaN            NaN   \n",
       "8  661-945-9445  Executive Director/Chief Executive Officer  CALACT Member   \n",
       "\n",
       "            Contact                      Email.y  CATEGORY  \\\n",
       "4    Debbie Burkett  dburkett@alpinecountyca.gov       NaN   \n",
       "5               NaN                          NaN       NaN   \n",
       "6  Patricia Amarant     maggie@amadortransit.com       NaN   \n",
       "7               NaN                          NaN       NaN   \n",
       "8      Macy Neshati            Mneshati@avta.com       NaN   \n",
       "\n",
       "                          OT          City  post_video  \n",
       "4                   MPO/RTPA  Markleeville           1  \n",
       "5  Independent Public Agency      Stockton           0  \n",
       "6  Independent Public Agency       Jackson           0  \n",
       "7                      Other       Anaheim           0  \n",
       "8  Independent Public Agency     Lancaster           0  \n",
       "\n",
       "[5 rows x 43 columns]"
      ]
     },
     "execution_count": 14,
     "metadata": {},
     "output_type": "execute_result"
    }
   ],
   "source": [
    "responded = transit_survey_video[transit_survey_video['survey_response'] == 1]\n",
    "responded.head()"
   ]
  },
  {
   "cell_type": "code",
   "execution_count": 15,
   "id": "98c9c804-91ed-4f4e-80a2-0d0a6cf335a9",
   "metadata": {},
   "outputs": [
    {
     "data": {
      "text/html": [
       "<div>\n",
       "<style scoped>\n",
       "    .dataframe tbody tr th:only-of-type {\n",
       "        vertical-align: middle;\n",
       "    }\n",
       "\n",
       "    .dataframe tbody tr th {\n",
       "        vertical-align: top;\n",
       "    }\n",
       "\n",
       "    .dataframe thead th {\n",
       "        text-align: right;\n",
       "    }\n",
       "</style>\n",
       "<table border=\"1\" class=\"dataframe\">\n",
       "  <thead>\n",
       "    <tr style=\"text-align: right;\">\n",
       "      <th></th>\n",
       "      <th>Video/ Audio</th>\n",
       "      <th>URL</th>\n",
       "      <th>Transit relevent ?</th>\n",
       "      <th>Count - video(past 12 months)</th>\n",
       "      <th>Count - Meetings (past 12 months)</th>\n",
       "      <th>Transportation Commission/City Counsil/ Planning Commission?</th>\n",
       "      <th>Mentioned Transportation Topic?</th>\n",
       "      <th>Transportation Commission Existed?</th>\n",
       "      <th>Transportation Commission video posted (&gt;2 in the last year)?</th>\n",
       "      <th>If no transportation commission, other meetings posted?</th>\n",
       "      <th>...</th>\n",
       "      <th>Zip</th>\n",
       "      <th>Phone</th>\n",
       "      <th>Primary Contact - Title</th>\n",
       "      <th>CALACT</th>\n",
       "      <th>Contact</th>\n",
       "      <th>Email.y</th>\n",
       "      <th>CATEGORY</th>\n",
       "      <th>OT</th>\n",
       "      <th>City</th>\n",
       "      <th>post_video</th>\n",
       "    </tr>\n",
       "  </thead>\n",
       "  <tbody>\n",
       "    <tr>\n",
       "      <th>1</th>\n",
       "      <td>no</td>\n",
       "      <td>NaN</td>\n",
       "      <td>NaN</td>\n",
       "      <td>NaN</td>\n",
       "      <td>NaN</td>\n",
       "      <td>NaN</td>\n",
       "      <td>NaN</td>\n",
       "      <td>NaN</td>\n",
       "      <td>NaN</td>\n",
       "      <td>NaN</td>\n",
       "      <td>...</td>\n",
       "      <td>91734</td>\n",
       "      <td>213-270-6000</td>\n",
       "      <td>Strategic Planner</td>\n",
       "      <td>CALACT Member</td>\n",
       "      <td>Eric Haack</td>\n",
       "      <td>Haack@accessla.org</td>\n",
       "      <td>NaN</td>\n",
       "      <td>Independent Public Agency</td>\n",
       "      <td>El Monte</td>\n",
       "      <td>0</td>\n",
       "    </tr>\n",
       "    <tr>\n",
       "      <th>2</th>\n",
       "      <td>granicus</td>\n",
       "      <td>https://actransit.legistar.com/Calendar.aspx</td>\n",
       "      <td>Yes</td>\n",
       "      <td>36.0</td>\n",
       "      <td>90</td>\n",
       "      <td>NaN</td>\n",
       "      <td>NaN</td>\n",
       "      <td>NaN</td>\n",
       "      <td>NaN</td>\n",
       "      <td>NaN</td>\n",
       "      <td>...</td>\n",
       "      <td>94612</td>\n",
       "      <td>510-891-7213</td>\n",
       "      <td>Accessible Services Manager</td>\n",
       "      <td>CALACT Member</td>\n",
       "      <td>Mallory Nestor-Brush</td>\n",
       "      <td>mnestor@actransit.org</td>\n",
       "      <td>NaN</td>\n",
       "      <td>Independent Public Agency</td>\n",
       "      <td>Oakland</td>\n",
       "      <td>1</td>\n",
       "    </tr>\n",
       "    <tr>\n",
       "      <th>3</th>\n",
       "      <td>own website</td>\n",
       "      <td>https://spectrumstream.com/streaming/alhambra/...</td>\n",
       "      <td>No</td>\n",
       "      <td>19.0</td>\n",
       "      <td>150</td>\n",
       "      <td>NaN</td>\n",
       "      <td>NaN</td>\n",
       "      <td>NaN</td>\n",
       "      <td>NaN</td>\n",
       "      <td>NaN</td>\n",
       "      <td>...</td>\n",
       "      <td>91801</td>\n",
       "      <td>626-570-3254</td>\n",
       "      <td>Fleet Manager</td>\n",
       "      <td>CALACT Member</td>\n",
       "      <td>Joseph Villegas</td>\n",
       "      <td>jvillegas@cityofalhambra.org</td>\n",
       "      <td>NaN</td>\n",
       "      <td>Local Government</td>\n",
       "      <td>Alhambra</td>\n",
       "      <td>1</td>\n",
       "    </tr>\n",
       "    <tr>\n",
       "      <th>9</th>\n",
       "      <td>own website</td>\n",
       "      <td>https://spectrumstream.com/streaming/arcadia/l...</td>\n",
       "      <td>No</td>\n",
       "      <td>21.0</td>\n",
       "      <td>21</td>\n",
       "      <td>NaN</td>\n",
       "      <td>NaN</td>\n",
       "      <td>NaN</td>\n",
       "      <td>NaN</td>\n",
       "      <td>NaN</td>\n",
       "      <td>...</td>\n",
       "      <td>91066-6021</td>\n",
       "      <td>626-574-5435</td>\n",
       "      <td>Transportation Services Manager</td>\n",
       "      <td>CALACT Member</td>\n",
       "      <td>Linda Hui</td>\n",
       "      <td>lhui@arcadiaca.gov</td>\n",
       "      <td>Local Government</td>\n",
       "      <td>Local Government</td>\n",
       "      <td>Arcadia</td>\n",
       "      <td>1</td>\n",
       "    </tr>\n",
       "    <tr>\n",
       "      <th>10</th>\n",
       "      <td>own website</td>\n",
       "      <td>http://arcataca.iqm2.com/Citizens/Calendar.aspx</td>\n",
       "      <td>No</td>\n",
       "      <td>68.0</td>\n",
       "      <td>128</td>\n",
       "      <td>NaN</td>\n",
       "      <td>NaN</td>\n",
       "      <td>NaN</td>\n",
       "      <td>NaN</td>\n",
       "      <td>NaN</td>\n",
       "      <td>...</td>\n",
       "      <td>NaN</td>\n",
       "      <td>NaN</td>\n",
       "      <td>NaN</td>\n",
       "      <td>NaN</td>\n",
       "      <td>NaN</td>\n",
       "      <td>NaN</td>\n",
       "      <td>NaN</td>\n",
       "      <td>Local Government</td>\n",
       "      <td>Arcata</td>\n",
       "      <td>1</td>\n",
       "    </tr>\n",
       "  </tbody>\n",
       "</table>\n",
       "<p>5 rows × 43 columns</p>\n",
       "</div>"
      ],
      "text/plain": [
       "   Video/ Audio                                                URL  \\\n",
       "1            no                                                NaN   \n",
       "2      granicus       https://actransit.legistar.com/Calendar.aspx   \n",
       "3   own website  https://spectrumstream.com/streaming/alhambra/...   \n",
       "9   own website  https://spectrumstream.com/streaming/arcadia/l...   \n",
       "10  own website    http://arcataca.iqm2.com/Citizens/Calendar.aspx   \n",
       "\n",
       "   Transit relevent ?  Count - video(past 12 months)  \\\n",
       "1                 NaN                            NaN   \n",
       "2                 Yes                           36.0   \n",
       "3                  No                           19.0   \n",
       "9                  No                           21.0   \n",
       "10                 No                           68.0   \n",
       "\n",
       "   Count - Meetings (past 12 months)  \\\n",
       "1                                NaN   \n",
       "2                                 90   \n",
       "3                                150   \n",
       "9                                 21   \n",
       "10                               128   \n",
       "\n",
       "   Transportation Commission/City Counsil/ Planning Commission?  \\\n",
       "1                                                 NaN             \n",
       "2                                                 NaN             \n",
       "3                                                 NaN             \n",
       "9                                                 NaN             \n",
       "10                                                NaN             \n",
       "\n",
       "   Mentioned Transportation Topic? Transportation Commission Existed?  \\\n",
       "1                              NaN                                NaN   \n",
       "2                              NaN                                NaN   \n",
       "3                              NaN                                NaN   \n",
       "9                              NaN                                NaN   \n",
       "10                             NaN                                NaN   \n",
       "\n",
       "   Transportation Commission video posted (>2 in the last year)?  \\\n",
       "1                                                 NaN              \n",
       "2                                                 NaN              \n",
       "3                                                 NaN              \n",
       "9                                                 NaN              \n",
       "10                                                NaN              \n",
       "\n",
       "   If no transportation commission, other meetings posted?  ...         Zip  \\\n",
       "1                                                 NaN       ...       91734   \n",
       "2                                                 NaN       ...       94612   \n",
       "3                                                 NaN       ...       91801   \n",
       "9                                                 NaN       ...  91066-6021   \n",
       "10                                                NaN       ...         NaN   \n",
       "\n",
       "           Phone          Primary Contact - Title         CALACT  \\\n",
       "1   213-270-6000                Strategic Planner  CALACT Member   \n",
       "2   510-891-7213      Accessible Services Manager  CALACT Member   \n",
       "3   626-570-3254                    Fleet Manager  CALACT Member   \n",
       "9   626-574-5435  Transportation Services Manager  CALACT Member   \n",
       "10           NaN                              NaN            NaN   \n",
       "\n",
       "                 Contact                       Email.y          CATEGORY  \\\n",
       "1             Eric Haack            Haack@accessla.org               NaN   \n",
       "2   Mallory Nestor-Brush         mnestor@actransit.org               NaN   \n",
       "3        Joseph Villegas  jvillegas@cityofalhambra.org               NaN   \n",
       "9              Linda Hui            lhui@arcadiaca.gov  Local Government   \n",
       "10                   NaN                           NaN               NaN   \n",
       "\n",
       "                           OT      City  post_video  \n",
       "1   Independent Public Agency  El Monte           0  \n",
       "2   Independent Public Agency   Oakland           1  \n",
       "3            Local Government  Alhambra           1  \n",
       "9            Local Government   Arcadia           1  \n",
       "10           Local Government    Arcata           1  \n",
       "\n",
       "[5 rows x 43 columns]"
      ]
     },
     "execution_count": 15,
     "metadata": {},
     "output_type": "execute_result"
    }
   ],
   "source": [
    "no_response = transit_survey_video[transit_survey_video['survey_response'] == 0]\n",
    "no_response.head()"
   ]
  },
  {
   "cell_type": "code",
   "execution_count": 16,
   "id": "7448e054-85a5-494b-a0ab-30607916490f",
   "metadata": {},
   "outputs": [
    {
     "data": {
      "text/plain": [
       "Text(0.5, 1.0, 'Type of cities')"
      ]
     },
     "execution_count": 16,
     "metadata": {},
     "output_type": "execute_result"
    },
    {
     "data": {
      "image/png": "[encoded data removed]",
      "text/plain": [
       "<Figure size 432x288 with 1 Axes>"
      ]
     },
     "metadata": {
      "needs_background": "light"
     },
     "output_type": "display_data"
    }
   ],
   "source": [
    "ax = sns.countplot(data = responded, x = 'id')\n",
    "\n",
    "for container in ax.containers:\n",
    "    ax.bar_label(container)\n",
    "    \n",
    "plt.ylim(0,80)\n",
    "plt.title('Type of cities', fontsize = 15)"
   ]
  },
  {
   "cell_type": "code",
   "execution_count": 17,
   "id": "370625e2-e797-4e67-9e90-d8d7ccfc6079",
   "metadata": {},
   "outputs": [
    {
     "data": {
      "text/plain": [
       "(array([0, 1, 2, 3]),\n",
       " [Text(0, 0, 'MPO/RTPA'),\n",
       "  Text(1, 0, 'Independent Public Agency'),\n",
       "  Text(2, 0, 'Other'),\n",
       "  Text(3, 0, 'Local Government')])"
      ]
     },
     "execution_count": 17,
     "metadata": {},
     "output_type": "execute_result"
    },
    {
     "data": {
      "image/png": "[encoded data removed]",
      "text/plain": [
       "<Figure size 432x288 with 1 Axes>"
      ]
     },
     "metadata": {
      "needs_background": "light"
     },
     "output_type": "display_data"
    }
   ],
   "source": [
    "ax = sns.countplot(data = responded, x = 'OT')\n",
    "\n",
    "for container in ax.containers:\n",
    "    ax.bar_label(container)\n",
    "\n",
    "plt.ylim(0,130)\n",
    "plt.title('Type of organization', fontsize = 15)\n",
    "plt.xticks(rotation = 45, horizontalalignment='right')"
   ]
  },
  {
   "cell_type": "code",
   "execution_count": 18,
   "id": "249311e9-57f7-41e1-9a18-6671ef31cffe",
   "metadata": {},
   "outputs": [
    {
     "data": {
      "text/plain": [
       "Text(0.5, 1.0, 'Population')"
      ]
     },
     "execution_count": 18,
     "metadata": {},
     "output_type": "execute_result"
    },
    {
     "data": {
      "image/png": "[encoded data removed]",
      "text/plain": [
       "<Figure size 432x288 with 1 Axes>"
      ]
     },
     "metadata": {
      "needs_background": "light"
     },
     "output_type": "display_data"
    }
   ],
   "source": [
    "sns.boxplot(data = responded, x = 'pop')\n",
    "plt.title('Population', fontsize = 15)"
   ]
  },
  {
   "cell_type": "code",
   "execution_count": 19,
   "id": "47699393-1c46-4112-a663-66716741b573",
   "metadata": {},
   "outputs": [
    {
     "data": {
      "text/plain": [
       "Text(0.5, 1.0, 'Revenue')"
      ]
     },
     "execution_count": 19,
     "metadata": {},
     "output_type": "execute_result"
    },
    {
     "data": {
      "image/png": "[encoded data removed]",
      "text/plain": [
       "<Figure size 432x288 with 1 Axes>"
      ]
     },
     "metadata": {
      "needs_background": "light"
     },
     "output_type": "display_data"
    }
   ],
   "source": [
    "sns.boxplot(data = responded, x = 'revenue')\n",
    "plt.title('Revenue', fontsize = 15)"
   ]
  },
  {
   "cell_type": "code",
   "execution_count": 20,
   "id": "d71581cf-dfff-40ed-9d8e-a247683c3bbd",
   "metadata": {},
   "outputs": [
    {
     "data": {
      "text/plain": [
       "Text(0.5, 1.0, 'Revenue per capita')"
      ]
     },
     "execution_count": 20,
     "metadata": {},
     "output_type": "execute_result"
    },
    {
     "data": {
      "image/png": "[encoded data removed]",
      "text/plain": [
       "<Figure size 432x288 with 1 Axes>"
      ]
     },
     "metadata": {
      "needs_background": "light"
     },
     "output_type": "display_data"
    }
   ],
   "source": [
    "rev_per_capita_responded = responded['revenue']/responded['pop']\n",
    "\n",
    "sns.histplot(data = rev_per_capita_responded)\n",
    "plt.title('Revenue per capita', fontsize = 15)"
   ]
  },
  {
   "cell_type": "code",
   "execution_count": 21,
   "id": "86a58514-c2e4-466d-ac44-3b6f8a8619bd",
   "metadata": {},
   "outputs": [
    {
     "data": {
      "text/plain": [
       "Text(0.5, 1.0, 'Revenue per capita')"
      ]
     },
     "execution_count": 21,
     "metadata": {},
     "output_type": "execute_result"
    },
    {
     "data": {
      "image/png": "[encoded data removed]",
      "text/plain": [
       "<Figure size 432x288 with 1 Axes>"
      ]
     },
     "metadata": {
      "needs_background": "light"
     },
     "output_type": "display_data"
    }
   ],
   "source": [
    "rev_per_capita_no_response = no_response['revenue']/no_response['pop']\n",
    "\n",
    "sns.histplot(data = rev_per_capita_no_response)\n",
    "plt.title('Revenue per capita', fontsize = 15)"
   ]
  },
  {
   "cell_type": "code",
   "execution_count": 22,
   "id": "b9d06072-c60d-4c7a-9637-11aaa17231bf",
   "metadata": {},
   "outputs": [
    {
     "data": {
      "text/plain": [
       "['Principal City', 'Suburban City', 'Small Rural City']"
      ]
     },
     "execution_count": 22,
     "metadata": {},
     "output_type": "execute_result"
    }
   ],
   "source": [
    "transit_survey['id'].value_counts().index.tolist()"
   ]
  },
  {
   "cell_type": "markdown",
   "id": "9ed68c6e-b5fc-4cd4-87e0-e0b8b8bbbd82",
   "metadata": {},
   "source": [
    "## Compare metadata and reponded data"
   ]
  },
  {
   "cell_type": "code",
   "execution_count": 23,
   "id": "08ef0973-514d-4ec7-acc5-ce2b4115e4dc",
   "metadata": {},
   "outputs": [
    {
     "data": {
      "text/plain": [
       "Text(0.5, 1.0, 'No-response')"
      ]
     },
     "execution_count": 23,
     "metadata": {},
     "output_type": "execute_result"
    },
    {
     "data": {
      "image/png": "[encoded data removed]",
      "text/plain": [
       "<Figure size 1440x1152 with 3 Axes>"
      ]
     },
     "metadata": {},
     "output_type": "display_data"
    }
   ],
   "source": [
    "fig, axs = plt.subplots(1, 3, figsize=(20, 16))\n",
    "\n",
    "fig.suptitle('Type of cities', fontsize = 20, ha='center',va='bottom')\n",
    "plt.subplots_adjust(top=1.5)\n",
    "\n",
    "plt.subplot(131)\n",
    "plt.pie(transit_survey_video['id'].value_counts().sort_index(), labels = transit_survey_video['id'].value_counts().sort_index().index.tolist(), autopct='%.0f%%')\n",
    "plt.title('All', fontsize = 15)\n",
    "\n",
    "plt.subplot(132)\n",
    "plt.pie(responded['id'].value_counts().sort_index(), labels = responded['id'].value_counts().sort_index().index.tolist(), autopct='%.0f%%')\n",
    "plt.title('Responded', fontsize = 15)\n",
    "\n",
    "plt.subplot(133)\n",
    "plt.pie(no_response['id'].value_counts().sort_index(), labels = no_response['id'].value_counts().sort_index().index.tolist(), autopct='%.0f%%')\n",
    "plt.title('No-response', fontsize = 15)\n"
   ]
  },
  {
   "cell_type": "code",
   "execution_count": 24,
   "id": "14bc58c1-72c0-4e66-a561-af32ef24429d",
   "metadata": {},
   "outputs": [
    {
     "data": {
      "text/plain": [
       "Text(0.5, 1.0, 'No-response')"
      ]
     },
     "execution_count": 24,
     "metadata": {},
     "output_type": "execute_result"
    },
    {
     "data": {
      "image/png": "[encoded data removed]",
      "text/plain": [
       "<Figure size 1440x1152 with 3 Axes>"
      ]
     },
     "metadata": {},
     "output_type": "display_data"
    }
   ],
   "source": [
    "fig, axs = plt.subplots(1, 3, figsize=(20, 16))\n",
    "\n",
    "fig.suptitle('Type of organization', fontsize = 20, ha='center',va='bottom')\n",
    "plt.subplots_adjust(top=1.5)\n",
    "\n",
    "plt.subplot(131)\n",
    "plt.pie(transit_survey_video['OT'].value_counts().sort_index(), \n",
    "        labels = transit_survey_video['OT'].value_counts().sort_index().index.tolist(), \n",
    "        autopct='%.0f%%')\n",
    "plt.title('All', fontsize = 15)\n",
    "\n",
    "plt.subplot(132)\n",
    "plt.pie(responded['OT'].value_counts().sort_index(), \n",
    "        labels = responded['OT'].value_counts().sort_index().index.tolist(), \n",
    "        autopct='%.0f%%')\n",
    "plt.title('Responded', fontsize = 15)\n",
    "\n",
    "plt.subplot(133)\n",
    "plt.pie(no_response['OT'].value_counts().sort_index(), \n",
    "        labels = no_response['OT'].value_counts().sort_index().index.tolist(), \n",
    "        autopct='%.0f%%')\n",
    "\n",
    "plt.title('No-response', fontsize = 15)"
   ]
  },
  {
   "cell_type": "code",
   "execution_count": 25,
   "id": "75a292dd-62a0-4255-9911-a4be9ad0031e",
   "metadata": {},
   "outputs": [
    {
     "data": {
      "image/png": "[encoded data removed]",
      "text/plain": [
       "<Figure size 720x360 with 1 Axes>"
      ]
     },
     "metadata": {
      "needs_background": "light"
     },
     "output_type": "display_data"
    }
   ],
   "source": [
    "# In log scale\n",
    "pop = pd.concat([transit_survey['pop'].reset_index(drop = True).rename('pop_meta'),\n",
    "                 responded['pop'].reset_index(drop = True).rename('pop_respond'),\n",
    "                 no_response['pop'].reset_index(drop = True).rename('pop_no_response')], axis = 1)\n",
    "\n",
    "plt.figure(figsize = (10,5))\n",
    "sns.boxplot(data = pop)\n",
    "plt.title('Population', fontsize = 20)\n",
    "plt.yscale('log')"
   ]
  },
  {
   "cell_type": "code",
   "execution_count": 26,
   "id": "ed5ccb5a-6998-49b6-a330-5a9d7d6daa24",
   "metadata": {},
   "outputs": [
    {
     "data": {
      "image/png": "[encoded data removed]",
      "text/plain": [
       "<Figure size 720x360 with 1 Axes>"
      ]
     },
     "metadata": {
      "needs_background": "light"
     },
     "output_type": "display_data"
    }
   ],
   "source": [
    "# In log scale\n",
    "pop = pd.concat([transit_survey['revenue'].reset_index(drop = True).rename('revenue_meta'),\n",
    "                 responded['revenue'].reset_index(drop = True).rename('revenue_respond'),\n",
    "                 no_response['revenue'].reset_index(drop = True).rename('revenue_no_response')], axis = 1)\n",
    "\n",
    "plt.figure(figsize = (10,5))\n",
    "sns.boxplot(data = pop)\n",
    "plt.title('Revenue', fontsize = 20)\n",
    "plt.yscale('log')"
   ]
  },
  {
   "cell_type": "code",
   "execution_count": 27,
   "id": "1cceb01b-9cb2-4a9b-b759-912b3dddeffc",
   "metadata": {},
   "outputs": [
    {
     "data": {
      "image/png": "[encoded data removed]",
      "text/plain": [
       "<Figure size 720x360 with 1 Axes>"
      ]
     },
     "metadata": {
      "needs_background": "light"
     },
     "output_type": "display_data"
    }
   ],
   "source": [
    "# In log scale\n",
    "pop = pd.concat([transit_survey['mile'].reset_index(drop = True).rename('mile_meta'),\n",
    "                 responded['mile'].reset_index(drop = True).rename('mile_respond'),\n",
    "                 no_response['mile'].reset_index(drop = True).rename('mile_no_response')], axis = 1)\n",
    "\n",
    "plt.figure(figsize = (10,5))\n",
    "sns.boxplot(data = pop)\n",
    "plt.title('Mile Square', fontsize = 20)\n",
    "plt.yscale('log')"
   ]
  },
  {
   "cell_type": "code",
   "execution_count": 28,
   "id": "dc77dbf8-2984-4725-81fe-5f23952e9b65",
   "metadata": {},
   "outputs": [
    {
     "data": {
      "text/html": [
       "<div>\n",
       "<style scoped>\n",
       "    .dataframe tbody tr th:only-of-type {\n",
       "        vertical-align: middle;\n",
       "    }\n",
       "\n",
       "    .dataframe tbody tr th {\n",
       "        vertical-align: top;\n",
       "    }\n",
       "\n",
       "    .dataframe thead th {\n",
       "        text-align: right;\n",
       "    }\n",
       "</style>\n",
       "<table border=\"1\" class=\"dataframe\">\n",
       "  <thead>\n",
       "    <tr style=\"text-align: right;\">\n",
       "      <th></th>\n",
       "      <th>rev_per_capita_meta</th>\n",
       "      <th>rev_per_capita_respond</th>\n",
       "      <th>rev_per_capita_no_response</th>\n",
       "    </tr>\n",
       "  </thead>\n",
       "  <tbody>\n",
       "    <tr>\n",
       "      <th>0</th>\n",
       "      <td>NaN</td>\n",
       "      <td>NaN</td>\n",
       "      <td>NaN</td>\n",
       "    </tr>\n",
       "    <tr>\n",
       "      <th>1</th>\n",
       "      <td>364.962870</td>\n",
       "      <td>9.705122</td>\n",
       "      <td>364.962870</td>\n",
       "    </tr>\n",
       "    <tr>\n",
       "      <th>2</th>\n",
       "      <td>22.784701</td>\n",
       "      <td>NaN</td>\n",
       "      <td>22.784701</td>\n",
       "    </tr>\n",
       "    <tr>\n",
       "      <th>3</th>\n",
       "      <td>NaN</td>\n",
       "      <td>47.459341</td>\n",
       "      <td>31.810854</td>\n",
       "    </tr>\n",
       "    <tr>\n",
       "      <th>4</th>\n",
       "      <td>9.705122</td>\n",
       "      <td>96.563498</td>\n",
       "      <td>NaN</td>\n",
       "    </tr>\n",
       "  </tbody>\n",
       "</table>\n",
       "</div>"
      ],
      "text/plain": [
       "   rev_per_capita_meta  rev_per_capita_respond  rev_per_capita_no_response\n",
       "0                  NaN                     NaN                         NaN\n",
       "1           364.962870                9.705122                  364.962870\n",
       "2            22.784701                     NaN                   22.784701\n",
       "3                  NaN               47.459341                   31.810854\n",
       "4             9.705122               96.563498                         NaN"
      ]
     },
     "execution_count": 28,
     "metadata": {},
     "output_type": "execute_result"
    }
   ],
   "source": [
    "rev_per_capita_combine = pd.concat([rev_per_capita.reset_index(drop = True).rename('rev_per_capita_meta'), \n",
    "                                    rev_per_capita_responded.reset_index(drop = True).rename('rev_per_capita_respond'),\n",
    "                                    rev_per_capita_no_response.reset_index(drop = True).rename('rev_per_capita_no_response')], axis = 1)\n",
    "rev_per_capita_combine.head()"
   ]
  },
  {
   "cell_type": "code",
   "execution_count": 29,
   "id": "3311fac7-f9f8-43fd-ba75-d03807b31984",
   "metadata": {},
   "outputs": [
    {
     "data": {
      "text/plain": [
       "<AxesSubplot:ylabel='Percent'>"
      ]
     },
     "execution_count": 29,
     "metadata": {},
     "output_type": "execute_result"
    },
    {
     "data": {
      "image/png": "[encoded data removed]",
      "text/plain": [
       "<Figure size 720x360 with 1 Axes>"
      ]
     },
     "metadata": {
      "needs_background": "light"
     },
     "output_type": "display_data"
    }
   ],
   "source": [
    "plt.figure(figsize=(10,5))\n",
    "sns.histplot(data = rev_per_capita_combine, stat='percent', common_norm = False, kde = True)"
   ]
  },
  {
   "cell_type": "code",
   "execution_count": 30,
   "id": "cbfe35bc-43fd-42d7-995c-6607d4367692",
   "metadata": {},
   "outputs": [
    {
     "data": {
      "text/plain": [
       "Text(0.5, 1.0, 'Revenue per capita')"
      ]
     },
     "execution_count": 30,
     "metadata": {},
     "output_type": "execute_result"
    },
    {
     "data": {
      "image/png": "[encoded data removed]",
      "text/plain": [
       "<Figure size 720x360 with 1 Axes>"
      ]
     },
     "metadata": {
      "needs_background": "light"
     },
     "output_type": "display_data"
    }
   ],
   "source": [
    "plt.figure(figsize=(10,5))\n",
    "sns.barplot(data = rev_per_capita_combine)\n",
    "plt.title('Revenue per capita', fontsize = 15)"
   ]
  },
  {
   "cell_type": "code",
   "execution_count": 31,
   "id": "fc4c5af2-582e-4eda-9c2a-6e00841bba45",
   "metadata": {},
   "outputs": [
    {
     "data": {
      "text/plain": [
       "(nan, nan)"
      ]
     },
     "execution_count": 31,
     "metadata": {},
     "output_type": "execute_result"
    }
   ],
   "source": [
    "max(rev_per_capita_combine['rev_per_capita_meta']), max(rev_per_capita_combine['rev_per_capita_respond'])"
   ]
  },
  {
   "cell_type": "markdown",
   "id": "e012a85e-b619-41e7-9c28-0e1a7a2660d7",
   "metadata": {},
   "source": [
    "# Analysis - Agencies responded to survey"
   ]
  },
  {
   "cell_type": "code",
   "execution_count": 32,
   "id": "d80ebdf4-9361-4278-a1d8-8b6a3a14ce70",
   "metadata": {},
   "outputs": [],
   "source": [
    "from sklearn.cluster import KMeans\n",
    "from sklearn.preprocessing import Normalizer\n",
    "from sklearn.decomposition import PCA  \n",
    "from sklearn.preprocessing import OneHotEncoder"
   ]
  },
  {
   "cell_type": "code",
   "execution_count": 33,
   "id": "aef2f12b-63af-4aa1-a3d3-eca3d6447adf",
   "metadata": {},
   "outputs": [
    {
     "data": {
      "text/html": [
       "<div>\n",
       "<style scoped>\n",
       "    .dataframe tbody tr th:only-of-type {\n",
       "        vertical-align: middle;\n",
       "    }\n",
       "\n",
       "    .dataframe tbody tr th {\n",
       "        vertical-align: top;\n",
       "    }\n",
       "\n",
       "    .dataframe thead th {\n",
       "        text-align: right;\n",
       "    }\n",
       "</style>\n",
       "<table border=\"1\" class=\"dataframe\">\n",
       "  <thead>\n",
       "    <tr style=\"text-align: right;\">\n",
       "      <th></th>\n",
       "      <th>Video/ Audio</th>\n",
       "      <th>URL</th>\n",
       "      <th>Transit relevent ?</th>\n",
       "      <th>Count - video(past 12 months)</th>\n",
       "      <th>Count - Meetings (past 12 months)</th>\n",
       "      <th>Transportation Commission/City Counsil/ Planning Commission?</th>\n",
       "      <th>Mentioned Transportation Topic?</th>\n",
       "      <th>Transportation Commission Existed?</th>\n",
       "      <th>Transportation Commission video posted (&gt;2 in the last year)?</th>\n",
       "      <th>If no transportation commission, other meetings posted?</th>\n",
       "      <th>...</th>\n",
       "      <th>CATEGORY</th>\n",
       "      <th>City</th>\n",
       "      <th>post_video</th>\n",
       "      <th>OT_Independent Public Agency</th>\n",
       "      <th>OT_Local Government</th>\n",
       "      <th>OT_MPO/RTPA</th>\n",
       "      <th>OT_Other</th>\n",
       "      <th>id_Principal City</th>\n",
       "      <th>id_Small Rural City</th>\n",
       "      <th>id_Suburban City</th>\n",
       "    </tr>\n",
       "  </thead>\n",
       "  <tbody>\n",
       "    <tr>\n",
       "      <th>1</th>\n",
       "      <td>no</td>\n",
       "      <td>NaN</td>\n",
       "      <td>NaN</td>\n",
       "      <td>NaN</td>\n",
       "      <td>NaN</td>\n",
       "      <td>NaN</td>\n",
       "      <td>NaN</td>\n",
       "      <td>NaN</td>\n",
       "      <td>NaN</td>\n",
       "      <td>NaN</td>\n",
       "      <td>...</td>\n",
       "      <td>NaN</td>\n",
       "      <td>El Monte</td>\n",
       "      <td>0</td>\n",
       "      <td>1</td>\n",
       "      <td>0</td>\n",
       "      <td>0</td>\n",
       "      <td>0</td>\n",
       "      <td>0</td>\n",
       "      <td>0</td>\n",
       "      <td>0</td>\n",
       "    </tr>\n",
       "    <tr>\n",
       "      <th>2</th>\n",
       "      <td>granicus</td>\n",
       "      <td>https://actransit.legistar.com/Calendar.aspx</td>\n",
       "      <td>Yes</td>\n",
       "      <td>36.0</td>\n",
       "      <td>90</td>\n",
       "      <td>NaN</td>\n",
       "      <td>NaN</td>\n",
       "      <td>NaN</td>\n",
       "      <td>NaN</td>\n",
       "      <td>NaN</td>\n",
       "      <td>...</td>\n",
       "      <td>NaN</td>\n",
       "      <td>Oakland</td>\n",
       "      <td>1</td>\n",
       "      <td>1</td>\n",
       "      <td>0</td>\n",
       "      <td>0</td>\n",
       "      <td>0</td>\n",
       "      <td>1</td>\n",
       "      <td>0</td>\n",
       "      <td>0</td>\n",
       "    </tr>\n",
       "    <tr>\n",
       "      <th>3</th>\n",
       "      <td>own website</td>\n",
       "      <td>https://spectrumstream.com/streaming/alhambra/...</td>\n",
       "      <td>No</td>\n",
       "      <td>19.0</td>\n",
       "      <td>150</td>\n",
       "      <td>NaN</td>\n",
       "      <td>NaN</td>\n",
       "      <td>NaN</td>\n",
       "      <td>NaN</td>\n",
       "      <td>NaN</td>\n",
       "      <td>...</td>\n",
       "      <td>NaN</td>\n",
       "      <td>Alhambra</td>\n",
       "      <td>1</td>\n",
       "      <td>0</td>\n",
       "      <td>1</td>\n",
       "      <td>0</td>\n",
       "      <td>0</td>\n",
       "      <td>0</td>\n",
       "      <td>0</td>\n",
       "      <td>1</td>\n",
       "    </tr>\n",
       "    <tr>\n",
       "      <th>4</th>\n",
       "      <td>own website</td>\n",
       "      <td>http://alpinecountyca.iqm2.com/citizens/defaul...</td>\n",
       "      <td>No</td>\n",
       "      <td>30.0</td>\n",
       "      <td>43</td>\n",
       "      <td>NaN</td>\n",
       "      <td>NaN</td>\n",
       "      <td>NaN</td>\n",
       "      <td>NaN</td>\n",
       "      <td>NaN</td>\n",
       "      <td>...</td>\n",
       "      <td>NaN</td>\n",
       "      <td>Markleeville</td>\n",
       "      <td>1</td>\n",
       "      <td>0</td>\n",
       "      <td>0</td>\n",
       "      <td>1</td>\n",
       "      <td>0</td>\n",
       "      <td>0</td>\n",
       "      <td>0</td>\n",
       "      <td>0</td>\n",
       "    </tr>\n",
       "    <tr>\n",
       "      <th>5</th>\n",
       "      <td>youtube</td>\n",
       "      <td>https://www.youtube.com/@altamontcorridorexpre...</td>\n",
       "      <td>No</td>\n",
       "      <td>1.0</td>\n",
       "      <td>NaN</td>\n",
       "      <td>NaN</td>\n",
       "      <td>NaN</td>\n",
       "      <td>NaN</td>\n",
       "      <td>NaN</td>\n",
       "      <td>NaN</td>\n",
       "      <td>...</td>\n",
       "      <td>NaN</td>\n",
       "      <td>Stockton</td>\n",
       "      <td>0</td>\n",
       "      <td>1</td>\n",
       "      <td>0</td>\n",
       "      <td>0</td>\n",
       "      <td>0</td>\n",
       "      <td>1</td>\n",
       "      <td>0</td>\n",
       "      <td>0</td>\n",
       "    </tr>\n",
       "  </tbody>\n",
       "</table>\n",
       "<p>5 rows × 48 columns</p>\n",
       "</div>"
      ],
      "text/plain": [
       "  Video/ Audio                                                URL  \\\n",
       "1           no                                                NaN   \n",
       "2     granicus       https://actransit.legistar.com/Calendar.aspx   \n",
       "3  own website  https://spectrumstream.com/streaming/alhambra/...   \n",
       "4  own website  http://alpinecountyca.iqm2.com/citizens/defaul...   \n",
       "5      youtube  https://www.youtube.com/@altamontcorridorexpre...   \n",
       "\n",
       "  Transit relevent ?  Count - video(past 12 months)  \\\n",
       "1                NaN                            NaN   \n",
       "2                Yes                           36.0   \n",
       "3                 No                           19.0   \n",
       "4                 No                           30.0   \n",
       "5                 No                            1.0   \n",
       "\n",
       "  Count - Meetings (past 12 months)  \\\n",
       "1                               NaN   \n",
       "2                                90   \n",
       "3                               150   \n",
       "4                                43   \n",
       "5                               NaN   \n",
       "\n",
       "  Transportation Commission/City Counsil/ Planning Commission?  \\\n",
       "1                                                NaN             \n",
       "2                                                NaN             \n",
       "3                                                NaN             \n",
       "4                                                NaN             \n",
       "5                                                NaN             \n",
       "\n",
       "  Mentioned Transportation Topic? Transportation Commission Existed?  \\\n",
       "1                             NaN                                NaN   \n",
       "2                             NaN                                NaN   \n",
       "3                             NaN                                NaN   \n",
       "4                             NaN                                NaN   \n",
       "5                             NaN                                NaN   \n",
       "\n",
       "  Transportation Commission video posted (>2 in the last year)?  \\\n",
       "1                                                NaN              \n",
       "2                                                NaN              \n",
       "3                                                NaN              \n",
       "4                                                NaN              \n",
       "5                                                NaN              \n",
       "\n",
       "  If no transportation commission, other meetings posted?  ... CATEGORY  \\\n",
       "1                                                NaN       ...      NaN   \n",
       "2                                                NaN       ...      NaN   \n",
       "3                                                NaN       ...      NaN   \n",
       "4                                                NaN       ...      NaN   \n",
       "5                                                NaN       ...      NaN   \n",
       "\n",
       "           City post_video OT_Independent Public Agency  OT_Local Government  \\\n",
       "1      El Monte          0                            1                    0   \n",
       "2       Oakland          1                            1                    0   \n",
       "3      Alhambra          1                            0                    1   \n",
       "4  Markleeville          1                            0                    0   \n",
       "5      Stockton          0                            1                    0   \n",
       "\n",
       "  OT_MPO/RTPA  OT_Other  id_Principal City  id_Small Rural City  \\\n",
       "1           0         0                  0                    0   \n",
       "2           0         0                  1                    0   \n",
       "3           0         0                  0                    0   \n",
       "4           1         0                  0                    0   \n",
       "5           0         0                  1                    0   \n",
       "\n",
       "   id_Suburban City  \n",
       "1                 0  \n",
       "2                 0  \n",
       "3                 1  \n",
       "4                 0  \n",
       "5                 0  \n",
       "\n",
       "[5 rows x 48 columns]"
      ]
     },
     "execution_count": 33,
     "metadata": {},
     "output_type": "execute_result"
    }
   ],
   "source": [
    "'''One hot encoding type of city, type of organization'''\n",
    "\n",
    "one_hot_encoded_meta = pd.get_dummies(transit_survey_video, columns = ['OT', 'id'])\n",
    "one_hot_encoded_meta.head()"
   ]
  },
  {
   "cell_type": "code",
   "execution_count": 34,
   "id": "a84188b2-c7c9-401d-b575-185686a66c60",
   "metadata": {},
   "outputs": [
    {
     "data": {
      "text/html": [
       "<div>\n",
       "<style scoped>\n",
       "    .dataframe tbody tr th:only-of-type {\n",
       "        vertical-align: middle;\n",
       "    }\n",
       "\n",
       "    .dataframe tbody tr th {\n",
       "        vertical-align: top;\n",
       "    }\n",
       "\n",
       "    .dataframe thead th {\n",
       "        text-align: right;\n",
       "    }\n",
       "</style>\n",
       "<table border=\"1\" class=\"dataframe\">\n",
       "  <thead>\n",
       "    <tr style=\"text-align: right;\">\n",
       "      <th></th>\n",
       "      <th>pop</th>\n",
       "      <th>mile</th>\n",
       "      <th>VOMS</th>\n",
       "      <th>revenue</th>\n",
       "      <th>OT_Independent Public Agency</th>\n",
       "      <th>OT_Local Government</th>\n",
       "      <th>OT_MPO/RTPA</th>\n",
       "      <th>id_Principal City</th>\n",
       "      <th>id_Small Rural City</th>\n",
       "      <th>id_Suburban City</th>\n",
       "      <th>survey_response</th>\n",
       "      <th>post_video</th>\n",
       "    </tr>\n",
       "  </thead>\n",
       "  <tbody>\n",
       "    <tr>\n",
       "      <th>2</th>\n",
       "      <td>1425275.0</td>\n",
       "      <td>364.0</td>\n",
       "      <td>794.0</td>\n",
       "      <td>520172455.0</td>\n",
       "      <td>1</td>\n",
       "      <td>0</td>\n",
       "      <td>0</td>\n",
       "      <td>1</td>\n",
       "      <td>0</td>\n",
       "      <td>0</td>\n",
       "      <td>0.0</td>\n",
       "      <td>1</td>\n",
       "    </tr>\n",
       "    <tr>\n",
       "      <th>3</th>\n",
       "      <td>83089.0</td>\n",
       "      <td>8.0</td>\n",
       "      <td>15.0</td>\n",
       "      <td>1893158.0</td>\n",
       "      <td>0</td>\n",
       "      <td>1</td>\n",
       "      <td>0</td>\n",
       "      <td>0</td>\n",
       "      <td>0</td>\n",
       "      <td>1</td>\n",
       "      <td>0.0</td>\n",
       "      <td>1</td>\n",
       "    </tr>\n",
       "    <tr>\n",
       "      <th>5</th>\n",
       "      <td>4094704.0</td>\n",
       "      <td>28.0</td>\n",
       "      <td>34.0</td>\n",
       "      <td>39739603.0</td>\n",
       "      <td>1</td>\n",
       "      <td>0</td>\n",
       "      <td>0</td>\n",
       "      <td>1</td>\n",
       "      <td>0</td>\n",
       "      <td>0</td>\n",
       "      <td>1.0</td>\n",
       "      <td>0</td>\n",
       "    </tr>\n",
       "    <tr>\n",
       "      <th>7</th>\n",
       "      <td>358000.0</td>\n",
       "      <td>50.0</td>\n",
       "      <td>77.0</td>\n",
       "      <td>16990444.0</td>\n",
       "      <td>0</td>\n",
       "      <td>0</td>\n",
       "      <td>0</td>\n",
       "      <td>1</td>\n",
       "      <td>0</td>\n",
       "      <td>0</td>\n",
       "      <td>1.0</td>\n",
       "      <td>0</td>\n",
       "    </tr>\n",
       "    <tr>\n",
       "      <th>8</th>\n",
       "      <td>349050.0</td>\n",
       "      <td>1200.0</td>\n",
       "      <td>74.0</td>\n",
       "      <td>33705489.0</td>\n",
       "      <td>1</td>\n",
       "      <td>0</td>\n",
       "      <td>0</td>\n",
       "      <td>0</td>\n",
       "      <td>0</td>\n",
       "      <td>1</td>\n",
       "      <td>1.0</td>\n",
       "      <td>0</td>\n",
       "    </tr>\n",
       "    <tr>\n",
       "      <th>...</th>\n",
       "      <td>...</td>\n",
       "      <td>...</td>\n",
       "      <td>...</td>\n",
       "      <td>...</td>\n",
       "      <td>...</td>\n",
       "      <td>...</td>\n",
       "      <td>...</td>\n",
       "      <td>...</td>\n",
       "      <td>...</td>\n",
       "      <td>...</td>\n",
       "      <td>...</td>\n",
       "      <td>...</td>\n",
       "    </tr>\n",
       "    <tr>\n",
       "      <th>219</th>\n",
       "      <td>107634.0</td>\n",
       "      <td>16.0</td>\n",
       "      <td>8.0</td>\n",
       "      <td>1301723.0</td>\n",
       "      <td>0</td>\n",
       "      <td>1</td>\n",
       "      <td>0</td>\n",
       "      <td>0</td>\n",
       "      <td>0</td>\n",
       "      <td>1</td>\n",
       "      <td>0.0</td>\n",
       "      <td>1</td>\n",
       "    </tr>\n",
       "    <tr>\n",
       "      <th>220</th>\n",
       "      <td>35288.0</td>\n",
       "      <td>2.0</td>\n",
       "      <td>10.0</td>\n",
       "      <td>2016784.0</td>\n",
       "      <td>0</td>\n",
       "      <td>1</td>\n",
       "      <td>0</td>\n",
       "      <td>0</td>\n",
       "      <td>0</td>\n",
       "      <td>1</td>\n",
       "      <td>0.0</td>\n",
       "      <td>1</td>\n",
       "    </tr>\n",
       "    <tr>\n",
       "      <th>221</th>\n",
       "      <td>64925.0</td>\n",
       "      <td>20.0</td>\n",
       "      <td>50.0</td>\n",
       "      <td>11422044.0</td>\n",
       "      <td>1</td>\n",
       "      <td>0</td>\n",
       "      <td>0</td>\n",
       "      <td>0</td>\n",
       "      <td>0</td>\n",
       "      <td>1</td>\n",
       "      <td>0.0</td>\n",
       "      <td>0</td>\n",
       "    </tr>\n",
       "    <tr>\n",
       "      <th>223</th>\n",
       "      <td>528880.0</td>\n",
       "      <td>109.0</td>\n",
       "      <td>50.0</td>\n",
       "      <td>17914239.0</td>\n",
       "      <td>1</td>\n",
       "      <td>0</td>\n",
       "      <td>0</td>\n",
       "      <td>0</td>\n",
       "      <td>1</td>\n",
       "      <td>0</td>\n",
       "      <td>0.0</td>\n",
       "      <td>0</td>\n",
       "    </tr>\n",
       "    <tr>\n",
       "      <th>225</th>\n",
       "      <td>142481.0</td>\n",
       "      <td>813.0</td>\n",
       "      <td>34.0</td>\n",
       "      <td>11609661.0</td>\n",
       "      <td>1</td>\n",
       "      <td>0</td>\n",
       "      <td>0</td>\n",
       "      <td>0</td>\n",
       "      <td>1</td>\n",
       "      <td>0</td>\n",
       "      <td>1.0</td>\n",
       "      <td>0</td>\n",
       "    </tr>\n",
       "  </tbody>\n",
       "</table>\n",
       "<p>129 rows × 12 columns</p>\n",
       "</div>"
      ],
      "text/plain": [
       "           pop    mile   VOMS      revenue  OT_Independent Public Agency  \\\n",
       "2    1425275.0   364.0  794.0  520172455.0                             1   \n",
       "3      83089.0     8.0   15.0    1893158.0                             0   \n",
       "5    4094704.0    28.0   34.0   39739603.0                             1   \n",
       "7     358000.0    50.0   77.0   16990444.0                             0   \n",
       "8     349050.0  1200.0   74.0   33705489.0                             1   \n",
       "..         ...     ...    ...          ...                           ...   \n",
       "219   107634.0    16.0    8.0    1301723.0                             0   \n",
       "220    35288.0     2.0   10.0    2016784.0                             0   \n",
       "221    64925.0    20.0   50.0   11422044.0                             1   \n",
       "223   528880.0   109.0   50.0   17914239.0                             1   \n",
       "225   142481.0   813.0   34.0   11609661.0                             1   \n",
       "\n",
       "     OT_Local Government  OT_MPO/RTPA  id_Principal City  id_Small Rural City  \\\n",
       "2                      0            0                  1                    0   \n",
       "3                      1            0                  0                    0   \n",
       "5                      0            0                  1                    0   \n",
       "7                      0            0                  1                    0   \n",
       "8                      0            0                  0                    0   \n",
       "..                   ...          ...                ...                  ...   \n",
       "219                    1            0                  0                    0   \n",
       "220                    1            0                  0                    0   \n",
       "221                    0            0                  0                    0   \n",
       "223                    0            0                  0                    1   \n",
       "225                    0            0                  0                    1   \n",
       "\n",
       "     id_Suburban City  survey_response  post_video  \n",
       "2                   0              0.0           1  \n",
       "3                   1              0.0           1  \n",
       "5                   0              1.0           0  \n",
       "7                   0              1.0           0  \n",
       "8                   1              1.0           0  \n",
       "..                ...              ...         ...  \n",
       "219                 1              0.0           1  \n",
       "220                 1              0.0           1  \n",
       "221                 1              0.0           0  \n",
       "223                 0              0.0           0  \n",
       "225                 0              1.0           0  \n",
       "\n",
       "[129 rows x 12 columns]"
      ]
     },
     "execution_count": 34,
     "metadata": {},
     "output_type": "execute_result"
    }
   ],
   "source": [
    "column = ['pop', 'mile', 'VOMS', 'revenue', 'OT_Independent Public Agency', 'OT_Local Government', 'OT_MPO/RTPA', 'id_Principal City', 'id_Small Rural City', 'id_Suburban City', 'survey_response', 'post_video']\n",
    "sub_transit_survey_video = one_hot_encoded_meta[column]\n",
    "sub_transit_survey_video.dropna()"
   ]
  },
  {
   "cell_type": "code",
   "execution_count": 35,
   "id": "061a4cc0-6369-4233-bec2-78110c17a835",
   "metadata": {},
   "outputs": [
    {
     "data": {
      "text/html": [
       "<div>\n",
       "<style scoped>\n",
       "    .dataframe tbody tr th:only-of-type {\n",
       "        vertical-align: middle;\n",
       "    }\n",
       "\n",
       "    .dataframe tbody tr th {\n",
       "        vertical-align: top;\n",
       "    }\n",
       "\n",
       "    .dataframe thead th {\n",
       "        text-align: right;\n",
       "    }\n",
       "</style>\n",
       "<table border=\"1\" class=\"dataframe\">\n",
       "  <thead>\n",
       "    <tr style=\"text-align: right;\">\n",
       "      <th></th>\n",
       "      <th>pop</th>\n",
       "      <th>mile</th>\n",
       "      <th>VOMS</th>\n",
       "      <th>revenue</th>\n",
       "      <th>OT_Independent Public Agency</th>\n",
       "      <th>OT_Local Government</th>\n",
       "      <th>OT_MPO/RTPA</th>\n",
       "      <th>id_Principal City</th>\n",
       "      <th>id_Small Rural City</th>\n",
       "      <th>id_Suburban City</th>\n",
       "      <th>survey_response</th>\n",
       "      <th>post_video</th>\n",
       "    </tr>\n",
       "  </thead>\n",
       "  <tbody>\n",
       "    <tr>\n",
       "      <th>2</th>\n",
       "      <td>0.091160</td>\n",
       "      <td>0.057851</td>\n",
       "      <td>0.185551</td>\n",
       "      <td>0.123368</td>\n",
       "      <td>0.147442</td>\n",
       "      <td>0.000000</td>\n",
       "      <td>0.0</td>\n",
       "      <td>0.132453</td>\n",
       "      <td>0.00</td>\n",
       "      <td>0.000000</td>\n",
       "      <td>0.000000</td>\n",
       "      <td>0.11547</td>\n",
       "    </tr>\n",
       "    <tr>\n",
       "      <th>3</th>\n",
       "      <td>0.005314</td>\n",
       "      <td>0.001271</td>\n",
       "      <td>0.003505</td>\n",
       "      <td>0.000449</td>\n",
       "      <td>0.000000</td>\n",
       "      <td>0.114708</td>\n",
       "      <td>0.0</td>\n",
       "      <td>0.000000</td>\n",
       "      <td>0.00</td>\n",
       "      <td>0.133631</td>\n",
       "      <td>0.000000</td>\n",
       "      <td>0.11547</td>\n",
       "    </tr>\n",
       "    <tr>\n",
       "      <th>5</th>\n",
       "      <td>0.261894</td>\n",
       "      <td>0.004450</td>\n",
       "      <td>0.007946</td>\n",
       "      <td>0.009425</td>\n",
       "      <td>0.147442</td>\n",
       "      <td>0.000000</td>\n",
       "      <td>0.0</td>\n",
       "      <td>0.132453</td>\n",
       "      <td>0.00</td>\n",
       "      <td>0.000000</td>\n",
       "      <td>0.158114</td>\n",
       "      <td>0.00000</td>\n",
       "    </tr>\n",
       "    <tr>\n",
       "      <th>7</th>\n",
       "      <td>0.022897</td>\n",
       "      <td>0.007947</td>\n",
       "      <td>0.017994</td>\n",
       "      <td>0.004030</td>\n",
       "      <td>0.000000</td>\n",
       "      <td>0.000000</td>\n",
       "      <td>0.0</td>\n",
       "      <td>0.132453</td>\n",
       "      <td>0.00</td>\n",
       "      <td>0.000000</td>\n",
       "      <td>0.158114</td>\n",
       "      <td>0.00000</td>\n",
       "    </tr>\n",
       "    <tr>\n",
       "      <th>8</th>\n",
       "      <td>0.022325</td>\n",
       "      <td>0.190717</td>\n",
       "      <td>0.017293</td>\n",
       "      <td>0.007994</td>\n",
       "      <td>0.147442</td>\n",
       "      <td>0.000000</td>\n",
       "      <td>0.0</td>\n",
       "      <td>0.000000</td>\n",
       "      <td>0.00</td>\n",
       "      <td>0.133631</td>\n",
       "      <td>0.158114</td>\n",
       "      <td>0.00000</td>\n",
       "    </tr>\n",
       "    <tr>\n",
       "      <th>...</th>\n",
       "      <td>...</td>\n",
       "      <td>...</td>\n",
       "      <td>...</td>\n",
       "      <td>...</td>\n",
       "      <td>...</td>\n",
       "      <td>...</td>\n",
       "      <td>...</td>\n",
       "      <td>...</td>\n",
       "      <td>...</td>\n",
       "      <td>...</td>\n",
       "      <td>...</td>\n",
       "      <td>...</td>\n",
       "    </tr>\n",
       "    <tr>\n",
       "      <th>219</th>\n",
       "      <td>0.006884</td>\n",
       "      <td>0.002543</td>\n",
       "      <td>0.001870</td>\n",
       "      <td>0.000309</td>\n",
       "      <td>0.000000</td>\n",
       "      <td>0.114708</td>\n",
       "      <td>0.0</td>\n",
       "      <td>0.000000</td>\n",
       "      <td>0.00</td>\n",
       "      <td>0.133631</td>\n",
       "      <td>0.000000</td>\n",
       "      <td>0.11547</td>\n",
       "    </tr>\n",
       "    <tr>\n",
       "      <th>220</th>\n",
       "      <td>0.002257</td>\n",
       "      <td>0.000318</td>\n",
       "      <td>0.002337</td>\n",
       "      <td>0.000478</td>\n",
       "      <td>0.000000</td>\n",
       "      <td>0.114708</td>\n",
       "      <td>0.0</td>\n",
       "      <td>0.000000</td>\n",
       "      <td>0.00</td>\n",
       "      <td>0.133631</td>\n",
       "      <td>0.000000</td>\n",
       "      <td>0.11547</td>\n",
       "    </tr>\n",
       "    <tr>\n",
       "      <th>221</th>\n",
       "      <td>0.004153</td>\n",
       "      <td>0.003179</td>\n",
       "      <td>0.011685</td>\n",
       "      <td>0.002709</td>\n",
       "      <td>0.147442</td>\n",
       "      <td>0.000000</td>\n",
       "      <td>0.0</td>\n",
       "      <td>0.000000</td>\n",
       "      <td>0.00</td>\n",
       "      <td>0.133631</td>\n",
       "      <td>0.000000</td>\n",
       "      <td>0.00000</td>\n",
       "    </tr>\n",
       "    <tr>\n",
       "      <th>223</th>\n",
       "      <td>0.033827</td>\n",
       "      <td>0.017323</td>\n",
       "      <td>0.011685</td>\n",
       "      <td>0.004249</td>\n",
       "      <td>0.147442</td>\n",
       "      <td>0.000000</td>\n",
       "      <td>0.0</td>\n",
       "      <td>0.000000</td>\n",
       "      <td>0.25</td>\n",
       "      <td>0.000000</td>\n",
       "      <td>0.000000</td>\n",
       "      <td>0.00000</td>\n",
       "    </tr>\n",
       "    <tr>\n",
       "      <th>225</th>\n",
       "      <td>0.009113</td>\n",
       "      <td>0.129211</td>\n",
       "      <td>0.007946</td>\n",
       "      <td>0.002753</td>\n",
       "      <td>0.147442</td>\n",
       "      <td>0.000000</td>\n",
       "      <td>0.0</td>\n",
       "      <td>0.000000</td>\n",
       "      <td>0.25</td>\n",
       "      <td>0.000000</td>\n",
       "      <td>0.158114</td>\n",
       "      <td>0.00000</td>\n",
       "    </tr>\n",
       "  </tbody>\n",
       "</table>\n",
       "<p>129 rows × 12 columns</p>\n",
       "</div>"
      ],
      "text/plain": [
       "          pop      mile      VOMS   revenue  OT_Independent Public Agency  \\\n",
       "2    0.091160  0.057851  0.185551  0.123368                      0.147442   \n",
       "3    0.005314  0.001271  0.003505  0.000449                      0.000000   \n",
       "5    0.261894  0.004450  0.007946  0.009425                      0.147442   \n",
       "7    0.022897  0.007947  0.017994  0.004030                      0.000000   \n",
       "8    0.022325  0.190717  0.017293  0.007994                      0.147442   \n",
       "..        ...       ...       ...       ...                           ...   \n",
       "219  0.006884  0.002543  0.001870  0.000309                      0.000000   \n",
       "220  0.002257  0.000318  0.002337  0.000478                      0.000000   \n",
       "221  0.004153  0.003179  0.011685  0.002709                      0.147442   \n",
       "223  0.033827  0.017323  0.011685  0.004249                      0.147442   \n",
       "225  0.009113  0.129211  0.007946  0.002753                      0.147442   \n",
       "\n",
       "     OT_Local Government  OT_MPO/RTPA  id_Principal City  id_Small Rural City  \\\n",
       "2               0.000000          0.0           0.132453                 0.00   \n",
       "3               0.114708          0.0           0.000000                 0.00   \n",
       "5               0.000000          0.0           0.132453                 0.00   \n",
       "7               0.000000          0.0           0.132453                 0.00   \n",
       "8               0.000000          0.0           0.000000                 0.00   \n",
       "..                   ...          ...                ...                  ...   \n",
       "219             0.114708          0.0           0.000000                 0.00   \n",
       "220             0.114708          0.0           0.000000                 0.00   \n",
       "221             0.000000          0.0           0.000000                 0.00   \n",
       "223             0.000000          0.0           0.000000                 0.25   \n",
       "225             0.000000          0.0           0.000000                 0.25   \n",
       "\n",
       "     id_Suburban City  survey_response  post_video  \n",
       "2            0.000000         0.000000     0.11547  \n",
       "3            0.133631         0.000000     0.11547  \n",
       "5            0.000000         0.158114     0.00000  \n",
       "7            0.000000         0.158114     0.00000  \n",
       "8            0.133631         0.158114     0.00000  \n",
       "..                ...              ...         ...  \n",
       "219          0.133631         0.000000     0.11547  \n",
       "220          0.133631         0.000000     0.11547  \n",
       "221          0.133631         0.000000     0.00000  \n",
       "223          0.000000         0.000000     0.00000  \n",
       "225          0.000000         0.158114     0.00000  \n",
       "\n",
       "[129 rows x 12 columns]"
      ]
     },
     "execution_count": 35,
     "metadata": {},
     "output_type": "execute_result"
    }
   ],
   "source": [
    "'''normalize attributes before PCA'''\n",
    "\n",
    "sub_transit_survey = one_hot_encoded_meta[column].dropna()\n",
    "Normalized_meta = sub_transit_survey.copy()\n",
    "\n",
    "column_norm = ['pop', 'mile', 'VOMS', 'revenue']\n",
    "for col in column:\n",
    "    Normalized_meta[col] = Normalizer().fit_transform(sub_transit_survey[col].values.reshape(1,-1)).reshape(-1,1)\n",
    "\n",
    "Normalized_meta"
   ]
  },
  {
   "cell_type": "markdown",
   "id": "36b605a1-51e2-4c94-bea7-e91d69c4df32",
   "metadata": {},
   "source": [
    "## Essential attributes"
   ]
  },
  {
   "cell_type": "markdown",
   "id": "7e12e537-b300-42c3-9892-aaae163011a3",
   "metadata": {},
   "source": [
    "### Linear Regression"
   ]
  },
  {
   "cell_type": "code",
   "execution_count": 36,
   "id": "873e29e3-5743-495b-be34-728cca2a1085",
   "metadata": {},
   "outputs": [
    {
     "data": {
      "text/html": [
       "<div>\n",
       "<style scoped>\n",
       "    .dataframe tbody tr th:only-of-type {\n",
       "        vertical-align: middle;\n",
       "    }\n",
       "\n",
       "    .dataframe tbody tr th {\n",
       "        vertical-align: top;\n",
       "    }\n",
       "\n",
       "    .dataframe thead th {\n",
       "        text-align: right;\n",
       "    }\n",
       "</style>\n",
       "<table border=\"1\" class=\"dataframe\">\n",
       "  <thead>\n",
       "    <tr style=\"text-align: right;\">\n",
       "      <th></th>\n",
       "      <th>pop</th>\n",
       "      <th>mile</th>\n",
       "      <th>VOMS</th>\n",
       "      <th>revenue</th>\n",
       "      <th>survey_response</th>\n",
       "      <th>post_video</th>\n",
       "    </tr>\n",
       "  </thead>\n",
       "  <tbody>\n",
       "    <tr>\n",
       "      <th>2</th>\n",
       "      <td>14.169875</td>\n",
       "      <td>5.897154</td>\n",
       "      <td>6.677083</td>\n",
       "      <td>20.069671</td>\n",
       "      <td>0.0</td>\n",
       "      <td>1</td>\n",
       "    </tr>\n",
       "    <tr>\n",
       "      <th>3</th>\n",
       "      <td>11.327668</td>\n",
       "      <td>2.079442</td>\n",
       "      <td>2.708050</td>\n",
       "      <td>14.453757</td>\n",
       "      <td>0.0</td>\n",
       "      <td>1</td>\n",
       "    </tr>\n",
       "    <tr>\n",
       "      <th>5</th>\n",
       "      <td>15.225205</td>\n",
       "      <td>3.332205</td>\n",
       "      <td>3.526361</td>\n",
       "      <td>17.497859</td>\n",
       "      <td>1.0</td>\n",
       "      <td>0</td>\n",
       "    </tr>\n",
       "    <tr>\n",
       "      <th>7</th>\n",
       "      <td>12.788288</td>\n",
       "      <td>3.912023</td>\n",
       "      <td>4.343805</td>\n",
       "      <td>16.648162</td>\n",
       "      <td>1.0</td>\n",
       "      <td>0</td>\n",
       "    </tr>\n",
       "    <tr>\n",
       "      <th>8</th>\n",
       "      <td>12.762970</td>\n",
       "      <td>7.090077</td>\n",
       "      <td>4.304065</td>\n",
       "      <td>17.333171</td>\n",
       "      <td>1.0</td>\n",
       "      <td>0</td>\n",
       "    </tr>\n",
       "    <tr>\n",
       "      <th>...</th>\n",
       "      <td>...</td>\n",
       "      <td>...</td>\n",
       "      <td>...</td>\n",
       "      <td>...</td>\n",
       "      <td>...</td>\n",
       "      <td>...</td>\n",
       "    </tr>\n",
       "    <tr>\n",
       "      <th>219</th>\n",
       "      <td>11.586492</td>\n",
       "      <td>2.772589</td>\n",
       "      <td>2.079442</td>\n",
       "      <td>14.079199</td>\n",
       "      <td>0.0</td>\n",
       "      <td>1</td>\n",
       "    </tr>\n",
       "    <tr>\n",
       "      <th>220</th>\n",
       "      <td>10.471298</td>\n",
       "      <td>0.693147</td>\n",
       "      <td>2.302585</td>\n",
       "      <td>14.517015</td>\n",
       "      <td>0.0</td>\n",
       "      <td>1</td>\n",
       "    </tr>\n",
       "    <tr>\n",
       "      <th>221</th>\n",
       "      <td>11.080988</td>\n",
       "      <td>2.995732</td>\n",
       "      <td>3.912023</td>\n",
       "      <td>16.251056</td>\n",
       "      <td>0.0</td>\n",
       "      <td>0</td>\n",
       "    </tr>\n",
       "    <tr>\n",
       "      <th>223</th>\n",
       "      <td>13.178517</td>\n",
       "      <td>4.691348</td>\n",
       "      <td>3.912023</td>\n",
       "      <td>16.701106</td>\n",
       "      <td>0.0</td>\n",
       "      <td>0</td>\n",
       "    </tr>\n",
       "    <tr>\n",
       "      <th>225</th>\n",
       "      <td>11.866964</td>\n",
       "      <td>6.700731</td>\n",
       "      <td>3.526361</td>\n",
       "      <td>16.267348</td>\n",
       "      <td>1.0</td>\n",
       "      <td>0</td>\n",
       "    </tr>\n",
       "  </tbody>\n",
       "</table>\n",
       "<p>129 rows × 6 columns</p>\n",
       "</div>"
      ],
      "text/plain": [
       "           pop      mile      VOMS    revenue  survey_response  post_video\n",
       "2    14.169875  5.897154  6.677083  20.069671              0.0           1\n",
       "3    11.327668  2.079442  2.708050  14.453757              0.0           1\n",
       "5    15.225205  3.332205  3.526361  17.497859              1.0           0\n",
       "7    12.788288  3.912023  4.343805  16.648162              1.0           0\n",
       "8    12.762970  7.090077  4.304065  17.333171              1.0           0\n",
       "..         ...       ...       ...        ...              ...         ...\n",
       "219  11.586492  2.772589  2.079442  14.079199              0.0           1\n",
       "220  10.471298  0.693147  2.302585  14.517015              0.0           1\n",
       "221  11.080988  2.995732  3.912023  16.251056              0.0           0\n",
       "223  13.178517  4.691348  3.912023  16.701106              0.0           0\n",
       "225  11.866964  6.700731  3.526361  16.267348              1.0           0\n",
       "\n",
       "[129 rows x 6 columns]"
      ]
     },
     "execution_count": 36,
     "metadata": {},
     "output_type": "execute_result"
    }
   ],
   "source": [
    "log_meta = np.log(sub_transit_survey[['pop', 'mile', 'VOMS', 'revenue']])\n",
    "log_meta[['survey_response','post_video']] = sub_transit_survey[['survey_response','post_video']]\n",
    "log_meta"
   ]
  },
  {
   "cell_type": "code",
   "execution_count": 37,
   "id": "6d5523ae-bee2-4059-bb8a-50e933d7e289",
   "metadata": {},
   "outputs": [],
   "source": [
    "import statsmodels.api as sm\n",
    "from sklearn.model_selection import train_test_split"
   ]
  },
  {
   "cell_type": "code",
   "execution_count": 38,
   "id": "4da3ae95-1bad-4466-a609-7cab79d38b3f",
   "metadata": {},
   "outputs": [
    {
     "data": {
      "text/html": [
       "<table class=\"simpletable\">\n",
       "<caption>OLS Regression Results</caption>\n",
       "<tr>\n",
       "  <th>Dep. Variable:</th>     <td>survey_response</td> <th>  R-squared:         </th> <td>   0.141</td>\n",
       "</tr>\n",
       "<tr>\n",
       "  <th>Model:</th>                   <td>OLS</td>       <th>  Adj. R-squared:    </th> <td>   0.134</td>\n",
       "</tr>\n",
       "<tr>\n",
       "  <th>Method:</th>             <td>Least Squares</td>  <th>  F-statistic:       </th> <td>   20.83</td>\n",
       "</tr>\n",
       "<tr>\n",
       "  <th>Date:</th>             <td>Sun, 18 Jun 2023</td> <th>  Prob (F-statistic):</th> <td>1.17e-05</td>\n",
       "</tr>\n",
       "<tr>\n",
       "  <th>Time:</th>                 <td>10:47:58</td>     <th>  Log-Likelihood:    </th> <td> -73.783</td>\n",
       "</tr>\n",
       "<tr>\n",
       "  <th>No. Observations:</th>      <td>   129</td>      <th>  AIC:               </th> <td>   151.6</td>\n",
       "</tr>\n",
       "<tr>\n",
       "  <th>Df Residuals:</th>          <td>   127</td>      <th>  BIC:               </th> <td>   157.3</td>\n",
       "</tr>\n",
       "<tr>\n",
       "  <th>Df Model:</th>              <td>     1</td>      <th>                     </th>     <td> </td>   \n",
       "</tr>\n",
       "<tr>\n",
       "  <th>Covariance Type:</th>      <td>nonrobust</td>    <th>                     </th>     <td> </td>   \n",
       "</tr>\n",
       "</table>\n",
       "<table class=\"simpletable\">\n",
       "<tr>\n",
       "    <td></td>       <th>coef</th>     <th>std err</th>      <th>t</th>      <th>P>|t|</th>  <th>[0.025</th>    <th>0.975]</th>  \n",
       "</tr>\n",
       "<tr>\n",
       "  <th>const</th> <td>   -1.1295</td> <td>    0.318</td> <td>   -3.555</td> <td> 0.001</td> <td>   -1.758</td> <td>   -0.501</td>\n",
       "</tr>\n",
       "<tr>\n",
       "  <th>pop</th>   <td>    0.1192</td> <td>    0.026</td> <td>    4.564</td> <td> 0.000</td> <td>    0.068</td> <td>    0.171</td>\n",
       "</tr>\n",
       "</table>\n",
       "<table class=\"simpletable\">\n",
       "<tr>\n",
       "  <th>Omnibus:</th>       <td>30.028</td> <th>  Durbin-Watson:     </th> <td>   1.607</td>\n",
       "</tr>\n",
       "<tr>\n",
       "  <th>Prob(Omnibus):</th> <td> 0.000</td> <th>  Jarque-Bera (JB):  </th> <td>  13.184</td>\n",
       "</tr>\n",
       "<tr>\n",
       "  <th>Skew:</th>          <td> 0.588</td> <th>  Prob(JB):          </th> <td> 0.00137</td>\n",
       "</tr>\n",
       "<tr>\n",
       "  <th>Kurtosis:</th>      <td> 1.965</td> <th>  Cond. No.          </th> <td>    102.</td>\n",
       "</tr>\n",
       "</table><br/><br/>Notes:<br/>[1] Standard Errors assume that the covariance matrix of the errors is correctly specified."
      ],
      "text/plain": [
       "<class 'statsmodels.iolib.summary.Summary'>\n",
       "\"\"\"\n",
       "                            OLS Regression Results                            \n",
       "==============================================================================\n",
       "Dep. Variable:        survey_response   R-squared:                       0.141\n",
       "Model:                            OLS   Adj. R-squared:                  0.134\n",
       "Method:                 Least Squares   F-statistic:                     20.83\n",
       "Date:                Sun, 18 Jun 2023   Prob (F-statistic):           1.17e-05\n",
       "Time:                        10:47:58   Log-Likelihood:                -73.783\n",
       "No. Observations:                 129   AIC:                             151.6\n",
       "Df Residuals:                     127   BIC:                             157.3\n",
       "Df Model:                           1                                         \n",
       "Covariance Type:            nonrobust                                         \n",
       "==============================================================================\n",
       "                 coef    std err          t      P>|t|      [0.025      0.975]\n",
       "------------------------------------------------------------------------------\n",
       "const         -1.1295      0.318     -3.555      0.001      -1.758      -0.501\n",
       "pop            0.1192      0.026      4.564      0.000       0.068       0.171\n",
       "==============================================================================\n",
       "Omnibus:                       30.028   Durbin-Watson:                   1.607\n",
       "Prob(Omnibus):                  0.000   Jarque-Bera (JB):               13.184\n",
       "Skew:                           0.588   Prob(JB):                      0.00137\n",
       "Kurtosis:                       1.965   Cond. No.                         102.\n",
       "==============================================================================\n",
       "\n",
       "Notes:\n",
       "[1] Standard Errors assume that the covariance matrix of the errors is correctly specified.\n",
       "\"\"\""
      ]
     },
     "execution_count": 38,
     "metadata": {},
     "output_type": "execute_result"
    }
   ],
   "source": [
    "'''\n",
    "Y(survey_response) = a x log(pop) + c\n",
    "'''\n",
    "\n",
    "Y = log_meta['survey_response']\n",
    "X = log_meta[['pop']]\n",
    "X = sm.add_constant(X)\n",
    "\n",
    "results = sm.OLS(Y,X).fit()\n",
    "results.summary()  \n"
   ]
  },
  {
   "cell_type": "code",
   "execution_count": 39,
   "id": "f5524255-8ece-4bc2-bade-d4056b8bd66a",
   "metadata": {},
   "outputs": [
    {
     "data": {
      "text/html": [
       "<table class=\"simpletable\">\n",
       "<caption>OLS Regression Results</caption>\n",
       "<tr>\n",
       "  <th>Dep. Variable:</th>     <td>survey_response</td> <th>  R-squared:         </th> <td>   0.115</td>\n",
       "</tr>\n",
       "<tr>\n",
       "  <th>Model:</th>                   <td>OLS</td>       <th>  Adj. R-squared:    </th> <td>   0.108</td>\n",
       "</tr>\n",
       "<tr>\n",
       "  <th>Method:</th>             <td>Least Squares</td>  <th>  F-statistic:       </th> <td>   16.55</td>\n",
       "</tr>\n",
       "<tr>\n",
       "  <th>Date:</th>             <td>Sun, 18 Jun 2023</td> <th>  Prob (F-statistic):</th> <td>8.26e-05</td>\n",
       "</tr>\n",
       "<tr>\n",
       "  <th>Time:</th>                 <td>10:47:59</td>     <th>  Log-Likelihood:    </th> <td> -75.676</td>\n",
       "</tr>\n",
       "<tr>\n",
       "  <th>No. Observations:</th>      <td>   129</td>      <th>  AIC:               </th> <td>   155.4</td>\n",
       "</tr>\n",
       "<tr>\n",
       "  <th>Df Residuals:</th>          <td>   127</td>      <th>  BIC:               </th> <td>   161.1</td>\n",
       "</tr>\n",
       "<tr>\n",
       "  <th>Df Model:</th>              <td>     1</td>      <th>                     </th>     <td> </td>   \n",
       "</tr>\n",
       "<tr>\n",
       "  <th>Covariance Type:</th>      <td>nonrobust</td>    <th>                     </th>     <td> </td>   \n",
       "</tr>\n",
       "</table>\n",
       "<table class=\"simpletable\">\n",
       "<tr>\n",
       "     <td></td>        <th>coef</th>     <th>std err</th>      <th>t</th>      <th>P>|t|</th>  <th>[0.025</th>    <th>0.975]</th>  \n",
       "</tr>\n",
       "<tr>\n",
       "  <th>const</th>   <td>   -0.8950</td> <td>    0.299</td> <td>   -2.996</td> <td> 0.003</td> <td>   -1.486</td> <td>   -0.304</td>\n",
       "</tr>\n",
       "<tr>\n",
       "  <th>revenue</th> <td>    0.0754</td> <td>    0.019</td> <td>    4.068</td> <td> 0.000</td> <td>    0.039</td> <td>    0.112</td>\n",
       "</tr>\n",
       "</table>\n",
       "<table class=\"simpletable\">\n",
       "<tr>\n",
       "  <th>Omnibus:</th>       <td>36.507</td> <th>  Durbin-Watson:     </th> <td>   1.561</td>\n",
       "</tr>\n",
       "<tr>\n",
       "  <th>Prob(Omnibus):</th> <td> 0.000</td> <th>  Jarque-Bera (JB):  </th> <td>  14.184</td>\n",
       "</tr>\n",
       "<tr>\n",
       "  <th>Skew:</th>          <td> 0.603</td> <th>  Prob(JB):          </th> <td>0.000832</td>\n",
       "</tr>\n",
       "<tr>\n",
       "  <th>Kurtosis:</th>      <td> 1.911</td> <th>  Cond. No.          </th> <td>    125.</td>\n",
       "</tr>\n",
       "</table><br/><br/>Notes:<br/>[1] Standard Errors assume that the covariance matrix of the errors is correctly specified."
      ],
      "text/plain": [
       "<class 'statsmodels.iolib.summary.Summary'>\n",
       "\"\"\"\n",
       "                            OLS Regression Results                            \n",
       "==============================================================================\n",
       "Dep. Variable:        survey_response   R-squared:                       0.115\n",
       "Model:                            OLS   Adj. R-squared:                  0.108\n",
       "Method:                 Least Squares   F-statistic:                     16.55\n",
       "Date:                Sun, 18 Jun 2023   Prob (F-statistic):           8.26e-05\n",
       "Time:                        10:47:59   Log-Likelihood:                -75.676\n",
       "No. Observations:                 129   AIC:                             155.4\n",
       "Df Residuals:                     127   BIC:                             161.1\n",
       "Df Model:                           1                                         \n",
       "Covariance Type:            nonrobust                                         \n",
       "==============================================================================\n",
       "                 coef    std err          t      P>|t|      [0.025      0.975]\n",
       "------------------------------------------------------------------------------\n",
       "const         -0.8950      0.299     -2.996      0.003      -1.486      -0.304\n",
       "revenue        0.0754      0.019      4.068      0.000       0.039       0.112\n",
       "==============================================================================\n",
       "Omnibus:                       36.507   Durbin-Watson:                   1.561\n",
       "Prob(Omnibus):                  0.000   Jarque-Bera (JB):               14.184\n",
       "Skew:                           0.603   Prob(JB):                     0.000832\n",
       "Kurtosis:                       1.911   Cond. No.                         125.\n",
       "==============================================================================\n",
       "\n",
       "Notes:\n",
       "[1] Standard Errors assume that the covariance matrix of the errors is correctly specified.\n",
       "\"\"\""
      ]
     },
     "execution_count": 39,
     "metadata": {},
     "output_type": "execute_result"
    }
   ],
   "source": [
    "'''\n",
    "Y(survey_response) = a x log(revenue) + c\n",
    "'''\n",
    "\n",
    "Y = log_meta['survey_response']\n",
    "X = log_meta[['revenue']]\n",
    "X = sm.add_constant(X)\n",
    "\n",
    "results = sm.OLS(Y,X).fit()\n",
    "results.summary()  \n"
   ]
  },
  {
   "cell_type": "code",
   "execution_count": 40,
   "id": "4ce86d72",
   "metadata": {},
   "outputs": [
    {
     "data": {
      "text/html": [
       "<table class=\"simpletable\">\n",
       "<caption>OLS Regression Results</caption>\n",
       "<tr>\n",
       "  <th>Dep. Variable:</th>     <td>survey_response</td> <th>  R-squared:         </th> <td>   0.155</td>\n",
       "</tr>\n",
       "<tr>\n",
       "  <th>Model:</th>                   <td>OLS</td>       <th>  Adj. R-squared:    </th> <td>   0.148</td>\n",
       "</tr>\n",
       "<tr>\n",
       "  <th>Method:</th>             <td>Least Squares</td>  <th>  F-statistic:       </th> <td>   23.23</td>\n",
       "</tr>\n",
       "<tr>\n",
       "  <th>Date:</th>             <td>Sun, 18 Jun 2023</td> <th>  Prob (F-statistic):</th> <td>4.03e-06</td>\n",
       "</tr>\n",
       "<tr>\n",
       "  <th>Time:</th>                 <td>10:47:59</td>     <th>  Log-Likelihood:    </th> <td> -72.742</td>\n",
       "</tr>\n",
       "<tr>\n",
       "  <th>No. Observations:</th>      <td>   129</td>      <th>  AIC:               </th> <td>   149.5</td>\n",
       "</tr>\n",
       "<tr>\n",
       "  <th>Df Residuals:</th>          <td>   127</td>      <th>  BIC:               </th> <td>   155.2</td>\n",
       "</tr>\n",
       "<tr>\n",
       "  <th>Df Model:</th>              <td>     1</td>      <th>                     </th>     <td> </td>   \n",
       "</tr>\n",
       "<tr>\n",
       "  <th>Covariance Type:</th>      <td>nonrobust</td>    <th>                     </th>     <td> </td>   \n",
       "</tr>\n",
       "</table>\n",
       "<table class=\"simpletable\">\n",
       "<tr>\n",
       "    <td></td>       <th>coef</th>     <th>std err</th>      <th>t</th>      <th>P>|t|</th>  <th>[0.025</th>    <th>0.975]</th>  \n",
       "</tr>\n",
       "<tr>\n",
       "  <th>const</th> <td>   -0.0866</td> <td>    0.091</td> <td>   -0.957</td> <td> 0.341</td> <td>   -0.266</td> <td>    0.093</td>\n",
       "</tr>\n",
       "<tr>\n",
       "  <th>mile</th>  <td>    0.1016</td> <td>    0.021</td> <td>    4.820</td> <td> 0.000</td> <td>    0.060</td> <td>    0.143</td>\n",
       "</tr>\n",
       "</table>\n",
       "<table class=\"simpletable\">\n",
       "<tr>\n",
       "  <th>Omnibus:</th>       <td>25.756</td> <th>  Durbin-Watson:     </th> <td>   1.592</td>\n",
       "</tr>\n",
       "<tr>\n",
       "  <th>Prob(Omnibus):</th> <td> 0.000</td> <th>  Jarque-Bera (JB):  </th> <td>  12.835</td>\n",
       "</tr>\n",
       "<tr>\n",
       "  <th>Skew:</th>          <td> 0.595</td> <th>  Prob(JB):          </th> <td> 0.00163</td>\n",
       "</tr>\n",
       "<tr>\n",
       "  <th>Kurtosis:</th>      <td> 2.014</td> <th>  Cond. No.          </th> <td>    10.8</td>\n",
       "</tr>\n",
       "</table><br/><br/>Notes:<br/>[1] Standard Errors assume that the covariance matrix of the errors is correctly specified."
      ],
      "text/plain": [
       "<class 'statsmodels.iolib.summary.Summary'>\n",
       "\"\"\"\n",
       "                            OLS Regression Results                            \n",
       "==============================================================================\n",
       "Dep. Variable:        survey_response   R-squared:                       0.155\n",
       "Model:                            OLS   Adj. R-squared:                  0.148\n",
       "Method:                 Least Squares   F-statistic:                     23.23\n",
       "Date:                Sun, 18 Jun 2023   Prob (F-statistic):           4.03e-06\n",
       "Time:                        10:47:59   Log-Likelihood:                -72.742\n",
       "No. Observations:                 129   AIC:                             149.5\n",
       "Df Residuals:                     127   BIC:                             155.2\n",
       "Df Model:                           1                                         \n",
       "Covariance Type:            nonrobust                                         \n",
       "==============================================================================\n",
       "                 coef    std err          t      P>|t|      [0.025      0.975]\n",
       "------------------------------------------------------------------------------\n",
       "const         -0.0866      0.091     -0.957      0.341      -0.266       0.093\n",
       "mile           0.1016      0.021      4.820      0.000       0.060       0.143\n",
       "==============================================================================\n",
       "Omnibus:                       25.756   Durbin-Watson:                   1.592\n",
       "Prob(Omnibus):                  0.000   Jarque-Bera (JB):               12.835\n",
       "Skew:                           0.595   Prob(JB):                      0.00163\n",
       "Kurtosis:                       2.014   Cond. No.                         10.8\n",
       "==============================================================================\n",
       "\n",
       "Notes:\n",
       "[1] Standard Errors assume that the covariance matrix of the errors is correctly specified.\n",
       "\"\"\""
      ]
     },
     "execution_count": 40,
     "metadata": {},
     "output_type": "execute_result"
    }
   ],
   "source": [
    "'''\n",
    "Y(survey_response) = a x log(mile) + c\n",
    "'''\n",
    "\n",
    "Y = log_meta['survey_response']\n",
    "X = log_meta[['mile']]\n",
    "X = sm.add_constant(X)\n",
    "\n",
    "results = sm.OLS(Y,X).fit()\n",
    "results.summary()  \n"
   ]
  },
  {
   "cell_type": "code",
   "execution_count": 41,
   "id": "0db5d097-610b-4551-a96f-ef1e34bf5503",
   "metadata": {},
   "outputs": [
    {
     "data": {
      "text/html": [
       "<table class=\"simpletable\">\n",
       "<caption>OLS Regression Results</caption>\n",
       "<tr>\n",
       "  <th>Dep. Variable:</th>     <td>survey_response</td> <th>  R-squared:         </th> <td>   0.142</td>\n",
       "</tr>\n",
       "<tr>\n",
       "  <th>Model:</th>                   <td>OLS</td>       <th>  Adj. R-squared:    </th> <td>   0.129</td>\n",
       "</tr>\n",
       "<tr>\n",
       "  <th>Method:</th>             <td>Least Squares</td>  <th>  F-statistic:       </th> <td>   10.45</td>\n",
       "</tr>\n",
       "<tr>\n",
       "  <th>Date:</th>             <td>Sun, 18 Jun 2023</td> <th>  Prob (F-statistic):</th> <td>6.32e-05</td>\n",
       "</tr>\n",
       "<tr>\n",
       "  <th>Time:</th>                 <td>10:48:00</td>     <th>  Log-Likelihood:    </th> <td> -73.678</td>\n",
       "</tr>\n",
       "<tr>\n",
       "  <th>No. Observations:</th>      <td>   129</td>      <th>  AIC:               </th> <td>   153.4</td>\n",
       "</tr>\n",
       "<tr>\n",
       "  <th>Df Residuals:</th>          <td>   126</td>      <th>  BIC:               </th> <td>   161.9</td>\n",
       "</tr>\n",
       "<tr>\n",
       "  <th>Df Model:</th>              <td>     2</td>      <th>                     </th>     <td> </td>   \n",
       "</tr>\n",
       "<tr>\n",
       "  <th>Covariance Type:</th>      <td>nonrobust</td>    <th>                     </th>     <td> </td>   \n",
       "</tr>\n",
       "</table>\n",
       "<table class=\"simpletable\">\n",
       "<tr>\n",
       "     <td></td>        <th>coef</th>     <th>std err</th>      <th>t</th>      <th>P>|t|</th>  <th>[0.025</th>    <th>0.975]</th>  \n",
       "</tr>\n",
       "<tr>\n",
       "  <th>const</th>   <td>   -1.1495</td> <td>    0.322</td> <td>   -3.572</td> <td> 0.001</td> <td>   -1.786</td> <td>   -0.513</td>\n",
       "</tr>\n",
       "<tr>\n",
       "  <th>pop</th>     <td>    0.0999</td> <td>    0.050</td> <td>    1.991</td> <td> 0.049</td> <td>    0.001</td> <td>    0.199</td>\n",
       "</tr>\n",
       "<tr>\n",
       "  <th>revenue</th> <td>    0.0159</td> <td>    0.035</td> <td>    0.453</td> <td> 0.652</td> <td>   -0.054</td> <td>    0.085</td>\n",
       "</tr>\n",
       "</table>\n",
       "<table class=\"simpletable\">\n",
       "<tr>\n",
       "  <th>Omnibus:</th>       <td>30.963</td> <th>  Durbin-Watson:     </th> <td>   1.600</td>\n",
       "</tr>\n",
       "<tr>\n",
       "  <th>Prob(Omnibus):</th> <td> 0.000</td> <th>  Jarque-Bera (JB):  </th> <td>  12.805</td>\n",
       "</tr>\n",
       "<tr>\n",
       "  <th>Skew:</th>          <td> 0.566</td> <th>  Prob(JB):          </th> <td> 0.00166</td>\n",
       "</tr>\n",
       "<tr>\n",
       "  <th>Kurtosis:</th>      <td> 1.951</td> <th>  Cond. No.          </th> <td>    171.</td>\n",
       "</tr>\n",
       "</table><br/><br/>Notes:<br/>[1] Standard Errors assume that the covariance matrix of the errors is correctly specified."
      ],
      "text/plain": [
       "<class 'statsmodels.iolib.summary.Summary'>\n",
       "\"\"\"\n",
       "                            OLS Regression Results                            \n",
       "==============================================================================\n",
       "Dep. Variable:        survey_response   R-squared:                       0.142\n",
       "Model:                            OLS   Adj. R-squared:                  0.129\n",
       "Method:                 Least Squares   F-statistic:                     10.45\n",
       "Date:                Sun, 18 Jun 2023   Prob (F-statistic):           6.32e-05\n",
       "Time:                        10:48:00   Log-Likelihood:                -73.678\n",
       "No. Observations:                 129   AIC:                             153.4\n",
       "Df Residuals:                     126   BIC:                             161.9\n",
       "Df Model:                           2                                         \n",
       "Covariance Type:            nonrobust                                         \n",
       "==============================================================================\n",
       "                 coef    std err          t      P>|t|      [0.025      0.975]\n",
       "------------------------------------------------------------------------------\n",
       "const         -1.1495      0.322     -3.572      0.001      -1.786      -0.513\n",
       "pop            0.0999      0.050      1.991      0.049       0.001       0.199\n",
       "revenue        0.0159      0.035      0.453      0.652      -0.054       0.085\n",
       "==============================================================================\n",
       "Omnibus:                       30.963   Durbin-Watson:                   1.600\n",
       "Prob(Omnibus):                  0.000   Jarque-Bera (JB):               12.805\n",
       "Skew:                           0.566   Prob(JB):                      0.00166\n",
       "Kurtosis:                       1.951   Cond. No.                         171.\n",
       "==============================================================================\n",
       "\n",
       "Notes:\n",
       "[1] Standard Errors assume that the covariance matrix of the errors is correctly specified.\n",
       "\"\"\""
      ]
     },
     "execution_count": 41,
     "metadata": {},
     "output_type": "execute_result"
    }
   ],
   "source": [
    "'''\n",
    "Y(survey_response) = a x log(pop) + b x log(revenue) + c\n",
    "'''\n",
    "\n",
    "Y = log_meta['survey_response']\n",
    "X = log_meta[['pop', 'revenue']]\n",
    "X = sm.add_constant(X)\n",
    "\n",
    "results = sm.OLS(Y,X).fit()\n",
    "results.summary()  "
   ]
  },
  {
   "cell_type": "code",
   "execution_count": 42,
   "id": "638bf753-6971-42b4-baa2-e731a56a8cf7",
   "metadata": {},
   "outputs": [
    {
     "data": {
      "text/html": [
       "<table class=\"simpletable\">\n",
       "<caption>OLS Regression Results</caption>\n",
       "<tr>\n",
       "  <th>Dep. Variable:</th>     <td>survey_response</td> <th>  R-squared:         </th> <td>   0.168</td>\n",
       "</tr>\n",
       "<tr>\n",
       "  <th>Model:</th>                   <td>OLS</td>       <th>  Adj. R-squared:    </th> <td>   0.154</td>\n",
       "</tr>\n",
       "<tr>\n",
       "  <th>Method:</th>             <td>Least Squares</td>  <th>  F-statistic:       </th> <td>   12.68</td>\n",
       "</tr>\n",
       "<tr>\n",
       "  <th>Date:</th>             <td>Sun, 18 Jun 2023</td> <th>  Prob (F-statistic):</th> <td>9.60e-06</td>\n",
       "</tr>\n",
       "<tr>\n",
       "  <th>Time:</th>                 <td>10:48:01</td>     <th>  Log-Likelihood:    </th> <td> -71.748</td>\n",
       "</tr>\n",
       "<tr>\n",
       "  <th>No. Observations:</th>      <td>   129</td>      <th>  AIC:               </th> <td>   149.5</td>\n",
       "</tr>\n",
       "<tr>\n",
       "  <th>Df Residuals:</th>          <td>   126</td>      <th>  BIC:               </th> <td>   158.1</td>\n",
       "</tr>\n",
       "<tr>\n",
       "  <th>Df Model:</th>              <td>     2</td>      <th>                     </th>     <td> </td>   \n",
       "</tr>\n",
       "<tr>\n",
       "  <th>Covariance Type:</th>      <td>nonrobust</td>    <th>                     </th>     <td> </td>   \n",
       "</tr>\n",
       "</table>\n",
       "<table class=\"simpletable\">\n",
       "<tr>\n",
       "    <td></td>       <th>coef</th>     <th>std err</th>      <th>t</th>      <th>P>|t|</th>  <th>[0.025</th>    <th>0.975]</th>  \n",
       "</tr>\n",
       "<tr>\n",
       "  <th>const</th> <td>   -0.6318</td> <td>    0.400</td> <td>   -1.580</td> <td> 0.117</td> <td>   -1.423</td> <td>    0.160</td>\n",
       "</tr>\n",
       "<tr>\n",
       "  <th>pop</th>   <td>    0.0566</td> <td>    0.040</td> <td>    1.399</td> <td> 0.164</td> <td>   -0.023</td> <td>    0.137</td>\n",
       "</tr>\n",
       "<tr>\n",
       "  <th>mile</th>  <td>    0.0661</td> <td>    0.033</td> <td>    2.010</td> <td> 0.047</td> <td>    0.001</td> <td>    0.131</td>\n",
       "</tr>\n",
       "</table>\n",
       "<table class=\"simpletable\">\n",
       "<tr>\n",
       "  <th>Omnibus:</th>       <td>24.306</td> <th>  Durbin-Watson:     </th> <td>   1.596</td>\n",
       "</tr>\n",
       "<tr>\n",
       "  <th>Prob(Omnibus):</th> <td> 0.000</td> <th>  Jarque-Bera (JB):  </th> <td>  11.431</td>\n",
       "</tr>\n",
       "<tr>\n",
       "  <th>Skew:</th>          <td> 0.539</td> <th>  Prob(JB):          </th> <td> 0.00329</td>\n",
       "</tr>\n",
       "<tr>\n",
       "  <th>Kurtosis:</th>      <td> 2.017</td> <th>  Cond. No.          </th> <td>    138.</td>\n",
       "</tr>\n",
       "</table><br/><br/>Notes:<br/>[1] Standard Errors assume that the covariance matrix of the errors is correctly specified."
      ],
      "text/plain": [
       "<class 'statsmodels.iolib.summary.Summary'>\n",
       "\"\"\"\n",
       "                            OLS Regression Results                            \n",
       "==============================================================================\n",
       "Dep. Variable:        survey_response   R-squared:                       0.168\n",
       "Model:                            OLS   Adj. R-squared:                  0.154\n",
       "Method:                 Least Squares   F-statistic:                     12.68\n",
       "Date:                Sun, 18 Jun 2023   Prob (F-statistic):           9.60e-06\n",
       "Time:                        10:48:01   Log-Likelihood:                -71.748\n",
       "No. Observations:                 129   AIC:                             149.5\n",
       "Df Residuals:                     126   BIC:                             158.1\n",
       "Df Model:                           2                                         \n",
       "Covariance Type:            nonrobust                                         \n",
       "==============================================================================\n",
       "                 coef    std err          t      P>|t|      [0.025      0.975]\n",
       "------------------------------------------------------------------------------\n",
       "const         -0.6318      0.400     -1.580      0.117      -1.423       0.160\n",
       "pop            0.0566      0.040      1.399      0.164      -0.023       0.137\n",
       "mile           0.0661      0.033      2.010      0.047       0.001       0.131\n",
       "==============================================================================\n",
       "Omnibus:                       24.306   Durbin-Watson:                   1.596\n",
       "Prob(Omnibus):                  0.000   Jarque-Bera (JB):               11.431\n",
       "Skew:                           0.539   Prob(JB):                      0.00329\n",
       "Kurtosis:                       2.017   Cond. No.                         138.\n",
       "==============================================================================\n",
       "\n",
       "Notes:\n",
       "[1] Standard Errors assume that the covariance matrix of the errors is correctly specified.\n",
       "\"\"\""
      ]
     },
     "execution_count": 42,
     "metadata": {},
     "output_type": "execute_result"
    }
   ],
   "source": [
    "'''\n",
    "Y(survey_response) = a x log(pop) + b x log(mile) + c\n",
    "'''\n",
    "\n",
    "Y = log_meta['survey_response']\n",
    "X = log_meta[['pop', 'mile']]\n",
    "X = sm.add_constant(X)\n",
    "\n",
    "results = sm.OLS(Y,X).fit()\n",
    "results.summary()  "
   ]
  },
  {
   "cell_type": "code",
   "execution_count": 43,
   "id": "1ddf9cd9",
   "metadata": {},
   "outputs": [
    {
     "data": {
      "text/html": [
       "<table class=\"simpletable\">\n",
       "<caption>OLS Regression Results</caption>\n",
       "<tr>\n",
       "  <th>Dep. Variable:</th>     <td>survey_response</td> <th>  R-squared (uncentered):</th>      <td>   0.414</td>\n",
       "</tr>\n",
       "<tr>\n",
       "  <th>Model:</th>                   <td>OLS</td>       <th>  Adj. R-squared (uncentered):</th> <td>   0.405</td>\n",
       "</tr>\n",
       "<tr>\n",
       "  <th>Method:</th>             <td>Least Squares</td>  <th>  F-statistic:       </th>          <td>   44.92</td>\n",
       "</tr>\n",
       "<tr>\n",
       "  <th>Date:</th>             <td>Sun, 18 Jun 2023</td> <th>  Prob (F-statistic):</th>          <td>1.77e-15</td>\n",
       "</tr>\n",
       "<tr>\n",
       "  <th>Time:</th>                 <td>10:48:01</td>     <th>  Log-Likelihood:    </th>          <td> -73.013</td>\n",
       "</tr>\n",
       "<tr>\n",
       "  <th>No. Observations:</th>      <td>   129</td>      <th>  AIC:               </th>          <td>   150.0</td>\n",
       "</tr>\n",
       "<tr>\n",
       "  <th>Df Residuals:</th>          <td>   127</td>      <th>  BIC:               </th>          <td>   155.7</td>\n",
       "</tr>\n",
       "<tr>\n",
       "  <th>Df Model:</th>              <td>     2</td>      <th>                     </th>              <td> </td>   \n",
       "</tr>\n",
       "<tr>\n",
       "  <th>Covariance Type:</th>      <td>nonrobust</td>    <th>                     </th>              <td> </td>   \n",
       "</tr>\n",
       "</table>\n",
       "<table class=\"simpletable\">\n",
       "<tr>\n",
       "    <td></td>      <th>coef</th>     <th>std err</th>      <th>t</th>      <th>P>|t|</th>  <th>[0.025</th>    <th>0.975]</th>  \n",
       "</tr>\n",
       "<tr>\n",
       "  <th>pop</th>  <td>   -0.0057</td> <td>    0.009</td> <td>   -0.616</td> <td> 0.539</td> <td>   -0.024</td> <td>    0.013</td>\n",
       "</tr>\n",
       "<tr>\n",
       "  <th>mile</th> <td>    0.0983</td> <td>    0.026</td> <td>    3.783</td> <td> 0.000</td> <td>    0.047</td> <td>    0.150</td>\n",
       "</tr>\n",
       "</table>\n",
       "<table class=\"simpletable\">\n",
       "<tr>\n",
       "  <th>Omnibus:</th>       <td>29.642</td> <th>  Durbin-Watson:     </th> <td>   1.588</td>\n",
       "</tr>\n",
       "<tr>\n",
       "  <th>Prob(Omnibus):</th> <td> 0.000</td> <th>  Jarque-Bera (JB):  </th> <td>  14.111</td>\n",
       "</tr>\n",
       "<tr>\n",
       "  <th>Skew:</th>          <td> 0.629</td> <th>  Prob(JB):          </th> <td>0.000863</td>\n",
       "</tr>\n",
       "<tr>\n",
       "  <th>Kurtosis:</th>      <td> 1.978</td> <th>  Cond. No.          </th> <td>    9.29</td>\n",
       "</tr>\n",
       "</table><br/><br/>Notes:<br/>[1] R² is computed without centering (uncentered) since the model does not contain a constant.<br/>[2] Standard Errors assume that the covariance matrix of the errors is correctly specified."
      ],
      "text/plain": [
       "<class 'statsmodels.iolib.summary.Summary'>\n",
       "\"\"\"\n",
       "                                 OLS Regression Results                                \n",
       "=======================================================================================\n",
       "Dep. Variable:        survey_response   R-squared (uncentered):                   0.414\n",
       "Model:                            OLS   Adj. R-squared (uncentered):              0.405\n",
       "Method:                 Least Squares   F-statistic:                              44.92\n",
       "Date:                Sun, 18 Jun 2023   Prob (F-statistic):                    1.77e-15\n",
       "Time:                        10:48:01   Log-Likelihood:                         -73.013\n",
       "No. Observations:                 129   AIC:                                      150.0\n",
       "Df Residuals:                     127   BIC:                                      155.7\n",
       "Df Model:                           2                                                  \n",
       "Covariance Type:            nonrobust                                                  \n",
       "==============================================================================\n",
       "                 coef    std err          t      P>|t|      [0.025      0.975]\n",
       "------------------------------------------------------------------------------\n",
       "pop           -0.0057      0.009     -0.616      0.539      -0.024       0.013\n",
       "mile           0.0983      0.026      3.783      0.000       0.047       0.150\n",
       "==============================================================================\n",
       "Omnibus:                       29.642   Durbin-Watson:                   1.588\n",
       "Prob(Omnibus):                  0.000   Jarque-Bera (JB):               14.111\n",
       "Skew:                           0.629   Prob(JB):                     0.000863\n",
       "Kurtosis:                       1.978   Cond. No.                         9.29\n",
       "==============================================================================\n",
       "\n",
       "Notes:\n",
       "[1] R² is computed without centering (uncentered) since the model does not contain a constant.\n",
       "[2] Standard Errors assume that the covariance matrix of the errors is correctly specified.\n",
       "\"\"\""
      ]
     },
     "execution_count": 43,
     "metadata": {},
     "output_type": "execute_result"
    }
   ],
   "source": [
    "'''\n",
    "Y(survey_response) = a x log(pop) + b x log(mile)\n",
    "'''\n",
    "\n",
    "Y = log_meta['survey_response']\n",
    "X = log_meta[['pop', 'mile']]\n",
    "\n",
    "results = sm.OLS(Y,X).fit()\n",
    "results.summary()  "
   ]
  },
  {
   "cell_type": "markdown",
   "id": "c64f4a9a-3e73-4719-b90b-c784d4c4a5da",
   "metadata": {},
   "source": [
    "### Logistic Regression"
   ]
  },
  {
   "cell_type": "code",
   "execution_count": 44,
   "id": "1718c526-a28c-4274-8165-d67c3aae21eb",
   "metadata": {},
   "outputs": [],
   "source": [
    "from sklearn import preprocessing\n",
    "from sklearn.linear_model import LogisticRegression\n",
    "from sklearn.metrics import classification_report"
   ]
  },
  {
   "cell_type": "code",
   "execution_count": 45,
   "id": "9c6eb58f-bd3a-4737-863a-fd3f010a556a",
   "metadata": {},
   "outputs": [],
   "source": [
    "def logit(Y, X):\n",
    "    # convert y values to categorical values\n",
    "    lab = preprocessing.LabelEncoder()\n",
    "    y_transformed = lab.fit_transform(Y)\n",
    "\n",
    "    X_train, X_test, y_train, y_test = train_test_split(X, y_transformed, test_size=0.5, random_state=0)\n",
    "\n",
    "    logreg = LogisticRegression()\n",
    "    logreg.fit(X_train, y_train)\n",
    "    \n",
    "    y_pred = logreg.predict(X_test)\n",
    "\n",
    "    print(classification_report(y_test, y_pred))\n",
    "    print('------------------------------------------------------')\n",
    "    print(pd.DataFrame(logreg.coef_.transpose(),X.columns.tolist(),columns=['Coefficient']))"
   ]
  },
  {
   "cell_type": "code",
   "execution_count": 46,
   "id": "ee19f1f8-861d-4a2f-b0ff-248db95ef4bf",
   "metadata": {},
   "outputs": [
    {
     "name": "stdout",
     "output_type": "stream",
     "text": [
      "              precision    recall  f1-score   support\n",
      "\n",
      "           0       0.63      1.00      0.77        41\n",
      "           1       0.00      0.00      0.00        24\n",
      "\n",
      "    accuracy                           0.63        65\n",
      "   macro avg       0.32      0.50      0.39        65\n",
      "weighted avg       0.40      0.63      0.49        65\n",
      "\n",
      "------------------------------------------------------\n",
      "      Coefficient\n",
      "pop     -0.024651\n",
      "mile     0.066242\n"
     ]
    },
    {
     "name": "stderr",
     "output_type": "stream",
     "text": [
      "/Users/Bird/miniforge3/envs/env_tensorflow/lib/python3.9/site-packages/sklearn/metrics/_classification.py:1327: UndefinedMetricWarning: Precision and F-score are ill-defined and being set to 0.0 in labels with no predicted samples. Use `zero_division` parameter to control this behavior.\n",
      "  _warn_prf(average, modifier, msg_start, len(result))\n",
      "/Users/Bird/miniforge3/envs/env_tensorflow/lib/python3.9/site-packages/sklearn/metrics/_classification.py:1327: UndefinedMetricWarning: Precision and F-score are ill-defined and being set to 0.0 in labels with no predicted samples. Use `zero_division` parameter to control this behavior.\n",
      "  _warn_prf(average, modifier, msg_start, len(result))\n",
      "/Users/Bird/miniforge3/envs/env_tensorflow/lib/python3.9/site-packages/sklearn/metrics/_classification.py:1327: UndefinedMetricWarning: Precision and F-score are ill-defined and being set to 0.0 in labels with no predicted samples. Use `zero_division` parameter to control this behavior.\n",
      "  _warn_prf(average, modifier, msg_start, len(result))\n"
     ]
    }
   ],
   "source": [
    "'''\n",
    "X = pop, mile\n",
    "'''\n",
    "Y = Normalized_meta['survey_response']\n",
    "X = Normalized_meta[['pop','mile']]\n",
    "logit(Y,X)"
   ]
  },
  {
   "cell_type": "code",
   "execution_count": 47,
   "id": "223fc4dc-22e1-4bdb-8327-6d7c680c4342",
   "metadata": {},
   "outputs": [
    {
     "name": "stdout",
     "output_type": "stream",
     "text": [
      "              precision    recall  f1-score   support\n",
      "\n",
      "           0       0.63      1.00      0.77        41\n",
      "           1       0.00      0.00      0.00        24\n",
      "\n",
      "    accuracy                           0.63        65\n",
      "   macro avg       0.32      0.50      0.39        65\n",
      "weighted avg       0.40      0.63      0.49        65\n",
      "\n",
      "------------------------------------------------------\n",
      "         Coefficient\n",
      "pop        -0.023875\n",
      "mile        0.066524\n",
      "revenue    -0.042197\n"
     ]
    },
    {
     "name": "stderr",
     "output_type": "stream",
     "text": [
      "/Users/Bird/miniforge3/envs/env_tensorflow/lib/python3.9/site-packages/sklearn/metrics/_classification.py:1327: UndefinedMetricWarning: Precision and F-score are ill-defined and being set to 0.0 in labels with no predicted samples. Use `zero_division` parameter to control this behavior.\n",
      "  _warn_prf(average, modifier, msg_start, len(result))\n",
      "/Users/Bird/miniforge3/envs/env_tensorflow/lib/python3.9/site-packages/sklearn/metrics/_classification.py:1327: UndefinedMetricWarning: Precision and F-score are ill-defined and being set to 0.0 in labels with no predicted samples. Use `zero_division` parameter to control this behavior.\n",
      "  _warn_prf(average, modifier, msg_start, len(result))\n",
      "/Users/Bird/miniforge3/envs/env_tensorflow/lib/python3.9/site-packages/sklearn/metrics/_classification.py:1327: UndefinedMetricWarning: Precision and F-score are ill-defined and being set to 0.0 in labels with no predicted samples. Use `zero_division` parameter to control this behavior.\n",
      "  _warn_prf(average, modifier, msg_start, len(result))\n"
     ]
    }
   ],
   "source": [
    "'''\n",
    "X = pop, mile, revenue\n",
    "'''\n",
    "Y = Normalized_meta['survey_response']\n",
    "X = Normalized_meta[['pop','mile', 'revenue']]\n",
    "logit(Y,X)"
   ]
  },
  {
   "cell_type": "code",
   "execution_count": 48,
   "id": "85481d2c-b138-49e5-8027-226e4f954696",
   "metadata": {},
   "outputs": [
    {
     "name": "stdout",
     "output_type": "stream",
     "text": [
      "              precision    recall  f1-score   support\n",
      "\n",
      "           0       0.63      1.00      0.77        41\n",
      "           1       0.00      0.00      0.00        24\n",
      "\n",
      "    accuracy                           0.63        65\n",
      "   macro avg       0.32      0.50      0.39        65\n",
      "weighted avg       0.40      0.63      0.49        65\n",
      "\n",
      "------------------------------------------------------\n",
      "         Coefficient\n",
      "pop        -0.028564\n",
      "mile        0.064626\n",
      "VOMS        0.250485\n",
      "revenue    -0.045943\n"
     ]
    },
    {
     "name": "stderr",
     "output_type": "stream",
     "text": [
      "/Users/Bird/miniforge3/envs/env_tensorflow/lib/python3.9/site-packages/sklearn/metrics/_classification.py:1327: UndefinedMetricWarning: Precision and F-score are ill-defined and being set to 0.0 in labels with no predicted samples. Use `zero_division` parameter to control this behavior.\n",
      "  _warn_prf(average, modifier, msg_start, len(result))\n",
      "/Users/Bird/miniforge3/envs/env_tensorflow/lib/python3.9/site-packages/sklearn/metrics/_classification.py:1327: UndefinedMetricWarning: Precision and F-score are ill-defined and being set to 0.0 in labels with no predicted samples. Use `zero_division` parameter to control this behavior.\n",
      "  _warn_prf(average, modifier, msg_start, len(result))\n",
      "/Users/Bird/miniforge3/envs/env_tensorflow/lib/python3.9/site-packages/sklearn/metrics/_classification.py:1327: UndefinedMetricWarning: Precision and F-score are ill-defined and being set to 0.0 in labels with no predicted samples. Use `zero_division` parameter to control this behavior.\n",
      "  _warn_prf(average, modifier, msg_start, len(result))\n"
     ]
    }
   ],
   "source": [
    "'''\n",
    "X = pop, mile, VOMS, revenue\n",
    "'''\n",
    "Y = Normalized_meta['survey_response']\n",
    "X = Normalized_meta[['pop','mile', 'VOMS', 'revenue']]\n",
    "logit(Y,X)"
   ]
  },
  {
   "cell_type": "code",
   "execution_count": 49,
   "id": "80aba725-d247-46cb-a174-9d2d7cd693f4",
   "metadata": {},
   "outputs": [
    {
     "name": "stdout",
     "output_type": "stream",
     "text": [
      "              precision    recall  f1-score   support\n",
      "\n",
      "           0       0.63      1.00      0.77        41\n",
      "           1       0.00      0.00      0.00        24\n",
      "\n",
      "    accuracy                           0.63        65\n",
      "   macro avg       0.32      0.50      0.39        65\n",
      "weighted avg       0.40      0.63      0.49        65\n",
      "\n",
      "------------------------------------------------------\n",
      "         Coefficient\n",
      "mile        0.063534\n",
      "VOMS        0.249920\n",
      "revenue    -0.046494\n"
     ]
    },
    {
     "name": "stderr",
     "output_type": "stream",
     "text": [
      "/Users/Bird/miniforge3/envs/env_tensorflow/lib/python3.9/site-packages/sklearn/metrics/_classification.py:1327: UndefinedMetricWarning: Precision and F-score are ill-defined and being set to 0.0 in labels with no predicted samples. Use `zero_division` parameter to control this behavior.\n",
      "  _warn_prf(average, modifier, msg_start, len(result))\n",
      "/Users/Bird/miniforge3/envs/env_tensorflow/lib/python3.9/site-packages/sklearn/metrics/_classification.py:1327: UndefinedMetricWarning: Precision and F-score are ill-defined and being set to 0.0 in labels with no predicted samples. Use `zero_division` parameter to control this behavior.\n",
      "  _warn_prf(average, modifier, msg_start, len(result))\n",
      "/Users/Bird/miniforge3/envs/env_tensorflow/lib/python3.9/site-packages/sklearn/metrics/_classification.py:1327: UndefinedMetricWarning: Precision and F-score are ill-defined and being set to 0.0 in labels with no predicted samples. Use `zero_division` parameter to control this behavior.\n",
      "  _warn_prf(average, modifier, msg_start, len(result))\n"
     ]
    }
   ],
   "source": [
    "'''\n",
    "X = mile, VOMS, revenue\n",
    "'''\n",
    "Y = Normalized_meta['survey_response']\n",
    "X = Normalized_meta[['mile', 'VOMS', 'revenue']]\n",
    "logit(Y,X)"
   ]
  },
  {
   "cell_type": "markdown",
   "id": "e30440db-32ab-4ffb-95a4-d09dcbac7982",
   "metadata": {},
   "source": [
    "### Correlation Plot"
   ]
  },
  {
   "cell_type": "code",
   "execution_count": 50,
   "id": "4310b045-3c7e-477c-935c-5b3096092ba6",
   "metadata": {},
   "outputs": [
    {
     "data": {
      "image/png": "[encoded data removed]",
      "text/plain": [
       "<Figure size 1080x720 with 2 Axes>"
      ]
     },
     "metadata": {
      "needs_background": "light"
     },
     "output_type": "display_data"
    }
   ],
   "source": [
    "fig = plt.figure(figsize=[15, 10])\n",
    "corr_matrix = Normalized_meta[['pop','mile', 'VOMS', 'revenue', 'survey_response']].corr()\n",
    "sns.heatmap(corr_matrix, annot=False)\n",
    "plt.show()"
   ]
  },
  {
   "cell_type": "markdown",
   "id": "f7784e9b-437a-4d2d-bbce-08a28cfe5fd9",
   "metadata": {},
   "source": [
    "### PCA"
   ]
  },
  {
   "cell_type": "code",
   "execution_count": 51,
   "id": "6f693563-4d28-47a0-9780-37f1a7cd1858",
   "metadata": {},
   "outputs": [
    {
     "data": {
      "image/png": "[encoded data removed]",
      "text/plain": [
       "<Figure size 720x504 with 1 Axes>"
      ]
     },
     "metadata": {
      "needs_background": "light"
     },
     "output_type": "display_data"
    },
    {
     "name": "stdout",
     "output_type": "stream",
     "text": [
      "The first TWO PC capture 79.30% of the variance\n"
     ]
    }
   ],
   "source": [
    "n_components=5\n",
    "pca = PCA(n_components)\n",
    "pca.fit(Normalized_meta[['pop', 'mile', 'VOMS', 'revenue', 'survey_response']].values)\n",
    "list_variance = pca.explained_variance_ratio_\n",
    "\n",
    "plt.figure(figsize = (10,7))\n",
    "ax = plt.gca()\n",
    "plt.plot(range(0, n_components+1), np.cumsum([0] + list(list_variance)),linewidth = 2)\n",
    "plt.plot(range(0, n_components+1), np.cumsum([0] + list(list_variance)),'.',c='r',markersize = 6)\n",
    "plt.plot(range(0, n_components+1),[0.80 for i in range(0, n_components+1)],'--',c = 'black',\n",
    "         linewidth = 1,label=\"80% of the variance\")\n",
    "plt.legend()\n",
    "plt.xlabel('Components number',fontsize = 15)\n",
    "plt.ylabel('Proportion of variance captured',fontsize = 15)\n",
    "plt.title('Amount of variance explained by PCA components',fontsize = 15, y = 1.05)\n",
    "ax.yaxis.set_ticks_position('none')\n",
    "ax.xaxis.set_ticks_position('none')\n",
    "#plt.xticks(np.arange(0, 22, step=1))\n",
    "ax.grid(True)\n",
    "plt.show()\n",
    "print(\"The first TWO PC capture {:.2f}%\".format(100*(np.cumsum([0] + list(list_variance))[2])),\"of the variance\")"
   ]
  },
  {
   "cell_type": "code",
   "execution_count": 52,
   "id": "3fe3e6bc-7375-4b29-8f3c-b4e88e1694ed",
   "metadata": {},
   "outputs": [
    {
     "data": {
      "text/plain": [
       "([<matplotlib.axis.XTick at 0x169a01b50>,\n",
       "  <matplotlib.axis.XTick at 0x169a01b20>,\n",
       "  <matplotlib.axis.XTick at 0x169a01a00>,\n",
       "  <matplotlib.axis.XTick at 0x169a29c70>,\n",
       "  <matplotlib.axis.XTick at 0x169a3a400>],\n",
       " [Text(1, 0, 'pop'),\n",
       "  Text(2, 0, 'mile'),\n",
       "  Text(3, 0, 'VOMS'),\n",
       "  Text(4, 0, 'revenue'),\n",
       "  Text(5, 0, 'survey_response')])"
      ]
     },
     "execution_count": 52,
     "metadata": {},
     "output_type": "execute_result"
    },
    {
     "data": {
      "image/png": "[encoded data removed]",
      "text/plain": [
       "<Figure size 720x1080 with 3 Axes>"
      ]
     },
     "metadata": {
      "needs_background": "light"
     },
     "output_type": "display_data"
    }
   ],
   "source": [
    "# eigenvectors = pca.components_\n",
    "eigenvectors = pca.components_.T * np.sqrt(list_variance[0:5])\n",
    "eigenvectors = eigenvectors.T\n",
    "x = range(1,6)\n",
    "i = 1\n",
    "plt.figure(figsize=(10,15))\n",
    "\n",
    "for eigenvector in eigenvectors[:3]:\n",
    "    plt.subplot(5,1,i)\n",
    "    plt.plot(x, eigenvector)\n",
    "    plt.axhline(0, color = 'black')\n",
    "    plt.xticks(np.arange(1,6))\n",
    "    plt.ylabel('PC%d' %i, fontsize=20)\n",
    "    plt.xlim([0,6])\n",
    "    plt.ylim([-0.5, 0.5])\n",
    "    plt.grid()\n",
    "    plt.tight_layout()\n",
    "    i +=1\n",
    "plt.xticks(np.arange(1, 6), ['pop', 'mile', 'VOMS', 'revenue', 'survey_response'],rotation=45,horizontalalignment='right', fontsize=15)"
   ]
  },
  {
   "cell_type": "markdown",
   "id": "c3c088ca-0c2d-4478-beaf-ef17dd3c957a",
   "metadata": {},
   "source": [
    "### K-Means"
   ]
  },
  {
   "cell_type": "code",
   "execution_count": 53,
   "id": "e277a0de-3143-4fa4-b5d0-f3abd8cf0cb1",
   "metadata": {},
   "outputs": [],
   "source": [
    "Sum_of_squared_distances = []\n",
    "\n",
    "K = range(1,10)\n",
    "\n",
    "for k in K:\n",
    "    km = KMeans(n_clusters=k)\n",
    "    km = km.fit(Normalized_meta[['pop', 'mile', 'VOMS', 'revenue', 'survey_response']].values)\n",
    "    Sum_of_squared_distances.append(km.inertia_)"
   ]
  },
  {
   "cell_type": "code",
   "execution_count": 54,
   "id": "0cf018f2-8161-4d07-9628-892d14949e7f",
   "metadata": {},
   "outputs": [
    {
     "name": "stderr",
     "output_type": "stream",
     "text": [
      "No artists with labels found to put in legend.  Note that artists whose label start with an underscore are ignored when legend() is called with no argument.\n"
     ]
    },
    {
     "data": {
      "image/png": "[encoded data removed]",
      "text/plain": [
       "<Figure size 720x432 with 1 Axes>"
      ]
     },
     "metadata": {
      "needs_background": "light"
     },
     "output_type": "display_data"
    }
   ],
   "source": [
    "plt.figure(figsize = (10,6))\n",
    "ax = plt.gca()\n",
    "plt.plot(K, Sum_of_squared_distances, linewidth = 2)\n",
    "plt.plot(K, Sum_of_squared_distances, '.', c='r',markersize = 6)\n",
    "\n",
    "plt.xlabel('Number of clusters', fontsize = 15)\n",
    "plt.ylabel('Sum of squared distances', fontsize = 15)\n",
    "plt.title('Variation of the sum of squared distances in function of the number of clusters', fontsize = 15, y = 1.05)\n",
    "ax.yaxis.set_ticks_position('none')\n",
    "ax.xaxis.set_ticks_position('none')\n",
    "plt.xlim(0,10)\n",
    "plt.ylim(0,5)\n",
    "ax.grid(True)\n",
    "plt.legend()\n",
    "plt.show()"
   ]
  },
  {
   "cell_type": "markdown",
   "id": "7e873e89-5a43-4035-b33d-7ec31564897d",
   "metadata": {},
   "source": [
    "## All attributes"
   ]
  },
  {
   "cell_type": "markdown",
   "id": "39714bcd-5f06-4ba9-9e66-017a629ff54c",
   "metadata": {},
   "source": [
    "### Correlation Plot"
   ]
  },
  {
   "cell_type": "code",
   "execution_count": 55,
   "id": "6a06fe3e-867a-4dc1-be7d-a362a0ac6f70",
   "metadata": {},
   "outputs": [
    {
     "data": {
      "image/png": "[encoded data removed]",
      "text/plain": [
       "<Figure size 1080x720 with 2 Axes>"
      ]
     },
     "metadata": {
      "needs_background": "light"
     },
     "output_type": "display_data"
    }
   ],
   "source": [
    "fig = plt.figure(figsize=[15, 10])\n",
    "corr_matrix = Normalized_meta.corr()\n",
    "sns.heatmap(corr_matrix, annot=False)\n",
    "plt.show()"
   ]
  },
  {
   "cell_type": "markdown",
   "id": "43a94263-9c9c-40b4-b754-e61f8b5fcb1f",
   "metadata": {},
   "source": [
    "### PCA"
   ]
  },
  {
   "cell_type": "code",
   "execution_count": 56,
   "id": "58e3e86e-f370-441e-968c-81c2d5f601c2",
   "metadata": {},
   "outputs": [
    {
     "data": {
      "image/png": "[encoded data removed]",
      "text/plain": [
       "<Figure size 720x504 with 1 Axes>"
      ]
     },
     "metadata": {
      "needs_background": "light"
     },
     "output_type": "display_data"
    },
    {
     "name": "stdout",
     "output_type": "stream",
     "text": [
      "The first five PC capture 80.54% of the variance\n"
     ]
    }
   ],
   "source": [
    "n_components=10\n",
    "pca = PCA(n_components)\n",
    "pca.fit(Normalized_meta.values)\n",
    "list_variance = pca.explained_variance_ratio_\n",
    "\n",
    "plt.figure(figsize = (10,7))\n",
    "ax = plt.gca()\n",
    "plt.plot(range(0, n_components+1), np.cumsum([0] + list(list_variance)),linewidth = 2)\n",
    "plt.plot(range(0, n_components+1), np.cumsum([0] + list(list_variance)),'.',c='r',markersize = 6)\n",
    "plt.plot(range(0, n_components+1),[0.80 for i in range(0, n_components+1)],'--',c = 'black',\n",
    "         linewidth = 1,label=\"80% of the variance\")\n",
    "plt.legend()\n",
    "plt.xlabel('Components number',fontsize = 15)\n",
    "plt.ylabel('Proportion of variance captured',fontsize = 15)\n",
    "plt.title('Amount of variance explained by PCA components',fontsize = 15, y = 1.05)\n",
    "ax.yaxis.set_ticks_position('none')\n",
    "ax.xaxis.set_ticks_position('none')\n",
    "#plt.xticks(np.arange(0, 22, step=1))\n",
    "ax.grid(True)\n",
    "plt.show()\n",
    "print(\"The first five PC capture {:.2f}%\".format(100*(np.cumsum([0] + list(list_variance))[5])),\"of the variance\")"
   ]
  },
  {
   "cell_type": "code",
   "execution_count": 57,
   "id": "c8cdc0df-17cb-4a6d-8e9b-fae679c46598",
   "metadata": {},
   "outputs": [
    {
     "data": {
      "text/plain": [
       "([<matplotlib.axis.XTick at 0x1698dac40>,\n",
       "  <matplotlib.axis.XTick at 0x1698dabe0>,\n",
       "  <matplotlib.axis.XTick at 0x1698cbaf0>,\n",
       "  <matplotlib.axis.XTick at 0x1698b39a0>,\n",
       "  <matplotlib.axis.XTick at 0x16614afd0>,\n",
       "  <matplotlib.axis.XTick at 0x1661f97c0>,\n",
       "  <matplotlib.axis.XTick at 0x169ade460>,\n",
       "  <matplotlib.axis.XTick at 0x169adee80>,\n",
       "  <matplotlib.axis.XTick at 0x169922580>,\n",
       "  <matplotlib.axis.XTick at 0x169adee20>,\n",
       "  <matplotlib.axis.XTick at 0x16614a370>,\n",
       "  <matplotlib.axis.XTick at 0x165f8df10>],\n",
       " [Text(1, 0, 'pop'),\n",
       "  Text(2, 0, 'mile'),\n",
       "  Text(3, 0, 'VOMS'),\n",
       "  Text(4, 0, 'revenue'),\n",
       "  Text(5, 0, 'OT_Independent Public Agency'),\n",
       "  Text(6, 0, 'OT_Local Government'),\n",
       "  Text(7, 0, 'OT_MPO/RTPA'),\n",
       "  Text(8, 0, 'id_Principal City'),\n",
       "  Text(9, 0, 'id_Small Rural City'),\n",
       "  Text(10, 0, 'id_Suburban City'),\n",
       "  Text(11, 0, 'survey_response'),\n",
       "  Text(12, 0, 'post_video')])"
      ]
     },
     "execution_count": 57,
     "metadata": {},
     "output_type": "execute_result"
    },
    {
     "data": {
      "image/png": "[encoded data removed]",
      "text/plain": [
       "<Figure size 1080x1440 with 5 Axes>"
      ]
     },
     "metadata": {
      "needs_background": "light"
     },
     "output_type": "display_data"
    }
   ],
   "source": [
    "# eigenvectors = pca.components_\n",
    "eigenvectors = pca.components_.T * np.sqrt(list_variance[0:10])\n",
    "eigenvectors = eigenvectors.T\n",
    "x = range(1,13)\n",
    "i = 1\n",
    "plt.figure(figsize=(15,20))\n",
    "\n",
    "for eigenvector in eigenvectors[:5]:\n",
    "    plt.subplot(11,1,i)\n",
    "    plt.plot(x, eigenvector)\n",
    "    plt.axhline(0, color = 'black')\n",
    "    plt.xticks(np.arange(1, 12))\n",
    "    plt.ylabel('PC%d' %i, fontsize=20)\n",
    "    plt.xlim([0,11])\n",
    "    plt.ylim([-0.5, 0.5])\n",
    "    plt.grid()\n",
    "    plt.tight_layout()\n",
    "    i +=1\n",
    "plt.xticks(np.arange(1, 13), list(column),rotation=45,horizontalalignment='right', fontsize=15)"
   ]
  },
  {
   "cell_type": "markdown",
   "id": "453cd023-17b5-4410-86df-0e27fbb7cd48",
   "metadata": {},
   "source": [
    "### K-Means"
   ]
  },
  {
   "cell_type": "code",
   "execution_count": 58,
   "id": "0b4f77ed-8a97-422b-a448-0d04c9a53dbd",
   "metadata": {},
   "outputs": [],
   "source": [
    "Sum_of_squared_distances = []\n",
    "\n",
    "K = range(1,30)\n",
    "\n",
    "for k in K:\n",
    "    km = KMeans(n_clusters=k)\n",
    "    km = km.fit(Normalized_meta.drop(columns = 'survey_response').values)\n",
    "    Sum_of_squared_distances.append(km.inertia_)"
   ]
  },
  {
   "cell_type": "code",
   "execution_count": 59,
   "id": "890e3c9b-c34d-48ec-b1d3-c31c371c90cf",
   "metadata": {},
   "outputs": [
    {
     "name": "stderr",
     "output_type": "stream",
     "text": [
      "No artists with labels found to put in legend.  Note that artists whose label start with an underscore are ignored when legend() is called with no argument.\n"
     ]
    },
    {
     "data": {
      "image/png": "[encoded data removed]",
      "text/plain": [
       "<Figure size 720x432 with 1 Axes>"
      ]
     },
     "metadata": {
      "needs_background": "light"
     },
     "output_type": "display_data"
    }
   ],
   "source": [
    "plt.figure(figsize = (10,6))\n",
    "ax = plt.gca()\n",
    "plt.plot(K, Sum_of_squared_distances, linewidth = 2)\n",
    "plt.plot(K, Sum_of_squared_distances, '.', c='r',markersize = 6)\n",
    "\n",
    "plt.xlabel('Number of clusters', fontsize = 15)\n",
    "plt.ylabel('Sum of squared distances', fontsize = 15)\n",
    "plt.title('Variation of the sum of squared distances in function of the number of clusters', fontsize = 15, y = 1.05)\n",
    "ax.yaxis.set_ticks_position('none')\n",
    "ax.xaxis.set_ticks_position('none')\n",
    "plt.xlim(0,30)\n",
    "plt.ylim(0,10)\n",
    "ax.grid(True)\n",
    "plt.legend()\n",
    "plt.show()"
   ]
  },
  {
   "cell_type": "markdown",
   "id": "0b58b4e2-f0fe-4be1-a83b-fe1b77f94d8e",
   "metadata": {},
   "source": [
    "# Analysis - Agencies post meeting videos"
   ]
  },
  {
   "cell_type": "code",
   "execution_count": 64,
   "id": "cb6374c2",
   "metadata": {},
   "outputs": [
    {
     "data": {
      "text/html": [
       "<div>\n",
       "<style scoped>\n",
       "    .dataframe tbody tr th:only-of-type {\n",
       "        vertical-align: middle;\n",
       "    }\n",
       "\n",
       "    .dataframe tbody tr th {\n",
       "        vertical-align: top;\n",
       "    }\n",
       "\n",
       "    .dataframe thead th {\n",
       "        text-align: right;\n",
       "    }\n",
       "</style>\n",
       "<table border=\"1\" class=\"dataframe\">\n",
       "  <thead>\n",
       "    <tr style=\"text-align: right;\">\n",
       "      <th></th>\n",
       "      <th>Video/ Audio</th>\n",
       "      <th>URL</th>\n",
       "      <th>Transit relevent ?</th>\n",
       "      <th>Count - video(past 12 months)</th>\n",
       "      <th>Count - Meetings (past 12 months)</th>\n",
       "      <th>Transportation Commission/City Counsil/ Planning Commission?</th>\n",
       "      <th>Mentioned Transportation Topic?</th>\n",
       "      <th>Transportation Commission Existed?</th>\n",
       "      <th>Transportation Commission video posted (&gt;2 in the last year)?</th>\n",
       "      <th>If no transportation commission, other meetings posted?</th>\n",
       "      <th>...</th>\n",
       "      <th>Zip</th>\n",
       "      <th>Phone</th>\n",
       "      <th>Primary Contact - Title</th>\n",
       "      <th>CALACT</th>\n",
       "      <th>Contact</th>\n",
       "      <th>Email.y</th>\n",
       "      <th>CATEGORY</th>\n",
       "      <th>OT</th>\n",
       "      <th>City</th>\n",
       "      <th>post_video</th>\n",
       "    </tr>\n",
       "  </thead>\n",
       "  <tbody>\n",
       "    <tr>\n",
       "      <th>2</th>\n",
       "      <td>granicus</td>\n",
       "      <td>https://actransit.legistar.com/Calendar.aspx</td>\n",
       "      <td>Yes</td>\n",
       "      <td>36.0</td>\n",
       "      <td>90</td>\n",
       "      <td>NaN</td>\n",
       "      <td>NaN</td>\n",
       "      <td>NaN</td>\n",
       "      <td>NaN</td>\n",
       "      <td>NaN</td>\n",
       "      <td>...</td>\n",
       "      <td>94612</td>\n",
       "      <td>510-891-7213</td>\n",
       "      <td>Accessible Services Manager</td>\n",
       "      <td>CALACT Member</td>\n",
       "      <td>Mallory Nestor-Brush</td>\n",
       "      <td>mnestor@actransit.org</td>\n",
       "      <td>NaN</td>\n",
       "      <td>Independent Public Agency</td>\n",
       "      <td>Oakland</td>\n",
       "      <td>1</td>\n",
       "    </tr>\n",
       "    <tr>\n",
       "      <th>3</th>\n",
       "      <td>own website</td>\n",
       "      <td>https://spectrumstream.com/streaming/alhambra/...</td>\n",
       "      <td>No</td>\n",
       "      <td>19.0</td>\n",
       "      <td>150</td>\n",
       "      <td>NaN</td>\n",
       "      <td>NaN</td>\n",
       "      <td>NaN</td>\n",
       "      <td>NaN</td>\n",
       "      <td>NaN</td>\n",
       "      <td>...</td>\n",
       "      <td>91801</td>\n",
       "      <td>626-570-3254</td>\n",
       "      <td>Fleet Manager</td>\n",
       "      <td>CALACT Member</td>\n",
       "      <td>Joseph Villegas</td>\n",
       "      <td>jvillegas@cityofalhambra.org</td>\n",
       "      <td>NaN</td>\n",
       "      <td>Local Government</td>\n",
       "      <td>Alhambra</td>\n",
       "      <td>1</td>\n",
       "    </tr>\n",
       "    <tr>\n",
       "      <th>4</th>\n",
       "      <td>own website</td>\n",
       "      <td>http://alpinecountyca.iqm2.com/citizens/defaul...</td>\n",
       "      <td>No</td>\n",
       "      <td>30.0</td>\n",
       "      <td>43</td>\n",
       "      <td>NaN</td>\n",
       "      <td>NaN</td>\n",
       "      <td>NaN</td>\n",
       "      <td>NaN</td>\n",
       "      <td>NaN</td>\n",
       "      <td>...</td>\n",
       "      <td>96120</td>\n",
       "      <td>530-694-2140</td>\n",
       "      <td>Community Development Manager</td>\n",
       "      <td>CALACT Member</td>\n",
       "      <td>Debbie Burkett</td>\n",
       "      <td>dburkett@alpinecountyca.gov</td>\n",
       "      <td>NaN</td>\n",
       "      <td>MPO/RTPA</td>\n",
       "      <td>Markleeville</td>\n",
       "      <td>1</td>\n",
       "    </tr>\n",
       "    <tr>\n",
       "      <th>9</th>\n",
       "      <td>own website</td>\n",
       "      <td>https://spectrumstream.com/streaming/arcadia/l...</td>\n",
       "      <td>No</td>\n",
       "      <td>21.0</td>\n",
       "      <td>21</td>\n",
       "      <td>NaN</td>\n",
       "      <td>NaN</td>\n",
       "      <td>NaN</td>\n",
       "      <td>NaN</td>\n",
       "      <td>NaN</td>\n",
       "      <td>...</td>\n",
       "      <td>91066-6021</td>\n",
       "      <td>626-574-5435</td>\n",
       "      <td>Transportation Services Manager</td>\n",
       "      <td>CALACT Member</td>\n",
       "      <td>Linda Hui</td>\n",
       "      <td>lhui@arcadiaca.gov</td>\n",
       "      <td>Local Government</td>\n",
       "      <td>Local Government</td>\n",
       "      <td>Arcadia</td>\n",
       "      <td>1</td>\n",
       "    </tr>\n",
       "    <tr>\n",
       "      <th>10</th>\n",
       "      <td>own website</td>\n",
       "      <td>http://arcataca.iqm2.com/Citizens/Calendar.aspx</td>\n",
       "      <td>No</td>\n",
       "      <td>68.0</td>\n",
       "      <td>128</td>\n",
       "      <td>NaN</td>\n",
       "      <td>NaN</td>\n",
       "      <td>NaN</td>\n",
       "      <td>NaN</td>\n",
       "      <td>NaN</td>\n",
       "      <td>...</td>\n",
       "      <td>NaN</td>\n",
       "      <td>NaN</td>\n",
       "      <td>NaN</td>\n",
       "      <td>NaN</td>\n",
       "      <td>NaN</td>\n",
       "      <td>NaN</td>\n",
       "      <td>NaN</td>\n",
       "      <td>Local Government</td>\n",
       "      <td>Arcata</td>\n",
       "      <td>1</td>\n",
       "    </tr>\n",
       "  </tbody>\n",
       "</table>\n",
       "<p>5 rows × 43 columns</p>\n",
       "</div>"
      ],
      "text/plain": [
       "   Video/ Audio                                                URL  \\\n",
       "2      granicus       https://actransit.legistar.com/Calendar.aspx   \n",
       "3   own website  https://spectrumstream.com/streaming/alhambra/...   \n",
       "4   own website  http://alpinecountyca.iqm2.com/citizens/defaul...   \n",
       "9   own website  https://spectrumstream.com/streaming/arcadia/l...   \n",
       "10  own website    http://arcataca.iqm2.com/Citizens/Calendar.aspx   \n",
       "\n",
       "   Transit relevent ?  Count - video(past 12 months)  \\\n",
       "2                 Yes                           36.0   \n",
       "3                  No                           19.0   \n",
       "4                  No                           30.0   \n",
       "9                  No                           21.0   \n",
       "10                 No                           68.0   \n",
       "\n",
       "   Count - Meetings (past 12 months)  \\\n",
       "2                                 90   \n",
       "3                                150   \n",
       "4                                 43   \n",
       "9                                 21   \n",
       "10                               128   \n",
       "\n",
       "   Transportation Commission/City Counsil/ Planning Commission?  \\\n",
       "2                                                 NaN             \n",
       "3                                                 NaN             \n",
       "4                                                 NaN             \n",
       "9                                                 NaN             \n",
       "10                                                NaN             \n",
       "\n",
       "   Mentioned Transportation Topic? Transportation Commission Existed?  \\\n",
       "2                              NaN                                NaN   \n",
       "3                              NaN                                NaN   \n",
       "4                              NaN                                NaN   \n",
       "9                              NaN                                NaN   \n",
       "10                             NaN                                NaN   \n",
       "\n",
       "   Transportation Commission video posted (>2 in the last year)?  \\\n",
       "2                                                 NaN              \n",
       "3                                                 NaN              \n",
       "4                                                 NaN              \n",
       "9                                                 NaN              \n",
       "10                                                NaN              \n",
       "\n",
       "   If no transportation commission, other meetings posted?  ...         Zip  \\\n",
       "2                                                 NaN       ...       94612   \n",
       "3                                                 NaN       ...       91801   \n",
       "4                                                 NaN       ...       96120   \n",
       "9                                                 NaN       ...  91066-6021   \n",
       "10                                                NaN       ...         NaN   \n",
       "\n",
       "           Phone          Primary Contact - Title         CALACT  \\\n",
       "2   510-891-7213      Accessible Services Manager  CALACT Member   \n",
       "3   626-570-3254                    Fleet Manager  CALACT Member   \n",
       "4   530-694-2140    Community Development Manager  CALACT Member   \n",
       "9   626-574-5435  Transportation Services Manager  CALACT Member   \n",
       "10           NaN                              NaN            NaN   \n",
       "\n",
       "                 Contact                       Email.y          CATEGORY  \\\n",
       "2   Mallory Nestor-Brush         mnestor@actransit.org               NaN   \n",
       "3        Joseph Villegas  jvillegas@cityofalhambra.org               NaN   \n",
       "4         Debbie Burkett   dburkett@alpinecountyca.gov               NaN   \n",
       "9              Linda Hui            lhui@arcadiaca.gov  Local Government   \n",
       "10                   NaN                           NaN               NaN   \n",
       "\n",
       "                           OT          City  post_video  \n",
       "2   Independent Public Agency       Oakland           1  \n",
       "3            Local Government      Alhambra           1  \n",
       "4                    MPO/RTPA  Markleeville           1  \n",
       "9            Local Government       Arcadia           1  \n",
       "10           Local Government        Arcata           1  \n",
       "\n",
       "[5 rows x 43 columns]"
      ]
     },
     "execution_count": 64,
     "metadata": {},
     "output_type": "execute_result"
    }
   ],
   "source": [
    "agency_video = transit_survey_video[transit_survey_video['Count - video(past 12 months)'] > 12]\n",
    "agency_video.head()"
   ]
  },
  {
   "cell_type": "code",
   "execution_count": 66,
   "id": "b005c7c9",
   "metadata": {},
   "outputs": [
    {
     "name": "stdout",
     "output_type": "stream",
     "text": [
      "Number of agencies:  226\n",
      "Number of agencies that have revenue/pop/mile data:  129\n",
      "Number of agencies that post videos:  109\n",
      "Number of agencies that post videos and have revenue/pop/mile data:  75\n"
     ]
    }
   ],
   "source": [
    "print('Number of agencies: ',len(transit_survey_video))\n",
    "print('Number of agencies that have revenue/pop/mile data: ', len(log_meta))\n",
    "print('Number of agencies that post videos: ',len(agency_video))\n",
    "print('Number of agencies that post videos and have revenue/pop/mile data: ', len(log_meta[log_meta['post_video']==1]))"
   ]
  },
  {
   "cell_type": "code",
   "execution_count": 222,
   "id": "cae112b4",
   "metadata": {},
   "outputs": [
    {
     "data": {
      "text/plain": [
       "Text(0.5, 1.0, 'Agencies post videos')"
      ]
     },
     "execution_count": 222,
     "metadata": {},
     "output_type": "execute_result"
    },
    {
     "data": {
      "image/png": "[encoded data removed]",
      "text/plain": [
       "<Figure size 1080x576 with 2 Axes>"
      ]
     },
     "metadata": {},
     "output_type": "display_data"
    }
   ],
   "source": [
    "fig, axs = plt.subplots(1, 2, figsize=(15, 8))\n",
    "\n",
    "fig.suptitle('Type of organization', fontsize = 20, ha='center',va='top')\n",
    "\n",
    "plt.subplot(121)\n",
    "plt.pie(transit_survey['OrgType'].value_counts().sort_index(), \n",
    "        labels = transit_survey['OrgType'].value_counts().sort_index().index.tolist(), \n",
    "        autopct='%.0f%%')\n",
    "plt.title('All agencies', fontsize = 15)\n",
    "\n",
    "plt.subplot(122)\n",
    "plt.pie(agency_video['OT'].value_counts().sort_index(), \n",
    "        labels = agency_video['OT'].value_counts().sort_index().index.tolist(), \n",
    "        autopct='%.0f%%')\n",
    "\n",
    "plt.title('Agencies post videos', fontsize = 15)"
   ]
  },
  {
   "cell_type": "code",
   "execution_count": 223,
   "id": "d7fe4ef9",
   "metadata": {},
   "outputs": [
    {
     "data": {
      "text/plain": [
       "Text(0.5, 1.0, 'Agencies post videos')"
      ]
     },
     "execution_count": 223,
     "metadata": {},
     "output_type": "execute_result"
    },
    {
     "data": {
      "image/png": "[encoded data removed]",
      "text/plain": [
       "<Figure size 1080x576 with 2 Axes>"
      ]
     },
     "metadata": {},
     "output_type": "display_data"
    }
   ],
   "source": [
    "fig, axs = plt.subplots(1, 2, figsize=(15, 8))\n",
    "\n",
    "fig.suptitle('Type of cities', fontsize = 20, ha='center',va='bottom')\n",
    "\n",
    "plt.subplot(121)\n",
    "plt.pie(transit_survey['id'].value_counts().sort_index(), labels = transit_survey['id'].value_counts().sort_index().index.tolist(), autopct='%.0f%%')\n",
    "plt.title('All agencies', fontsize = 15)\n",
    "\n",
    "plt.subplot(122)\n",
    "plt.pie(agency_video['id'].value_counts().sort_index(), labels = agency_video['id'].value_counts().sort_index().index.tolist(), autopct='%.0f%%')\n",
    "plt.title('Agencies post videos', fontsize = 15)"
   ]
  },
  {
   "cell_type": "markdown",
   "id": "a2a2c75c",
   "metadata": {},
   "source": [
    "## Linear Regression"
   ]
  },
  {
   "cell_type": "code",
   "execution_count": 118,
   "id": "2530565c",
   "metadata": {},
   "outputs": [
    {
     "data": {
      "text/html": [
       "<table class=\"simpletable\">\n",
       "<caption>OLS Regression Results</caption>\n",
       "<tr>\n",
       "  <th>Dep. Variable:</th>       <td>post_video</td>    <th>  R-squared:         </th> <td>   0.000</td>\n",
       "</tr>\n",
       "<tr>\n",
       "  <th>Model:</th>                   <td>OLS</td>       <th>  Adj. R-squared:    </th> <td>  -0.007</td>\n",
       "</tr>\n",
       "<tr>\n",
       "  <th>Method:</th>             <td>Least Squares</td>  <th>  F-statistic:       </th> <td> 0.06192</td>\n",
       "</tr>\n",
       "<tr>\n",
       "  <th>Date:</th>             <td>Sun, 18 Jun 2023</td> <th>  Prob (F-statistic):</th>  <td> 0.804</td> \n",
       "</tr>\n",
       "<tr>\n",
       "  <th>Time:</th>                 <td>10:08:59</td>     <th>  Log-Likelihood:    </th> <td> -91.863</td>\n",
       "</tr>\n",
       "<tr>\n",
       "  <th>No. Observations:</th>      <td>   129</td>      <th>  AIC:               </th> <td>   187.7</td>\n",
       "</tr>\n",
       "<tr>\n",
       "  <th>Df Residuals:</th>          <td>   127</td>      <th>  BIC:               </th> <td>   193.4</td>\n",
       "</tr>\n",
       "<tr>\n",
       "  <th>Df Model:</th>              <td>     1</td>      <th>                     </th>     <td> </td>   \n",
       "</tr>\n",
       "<tr>\n",
       "  <th>Covariance Type:</th>      <td>nonrobust</td>    <th>                     </th>     <td> </td>   \n",
       "</tr>\n",
       "</table>\n",
       "<table class=\"simpletable\">\n",
       "<tr>\n",
       "    <td></td>       <th>coef</th>     <th>std err</th>      <th>t</th>      <th>P>|t|</th>  <th>[0.025</th>    <th>0.975]</th>  \n",
       "</tr>\n",
       "<tr>\n",
       "  <th>const</th> <td>    0.6717</td> <td>    0.366</td> <td>    1.837</td> <td> 0.068</td> <td>   -0.052</td> <td>    1.395</td>\n",
       "</tr>\n",
       "<tr>\n",
       "  <th>pop</th>   <td>   -0.0075</td> <td>    0.030</td> <td>   -0.249</td> <td> 0.804</td> <td>   -0.067</td> <td>    0.052</td>\n",
       "</tr>\n",
       "</table>\n",
       "<table class=\"simpletable\">\n",
       "<tr>\n",
       "  <th>Omnibus:</th>       <td>979.831</td> <th>  Durbin-Watson:     </th> <td>   1.943</td>\n",
       "</tr>\n",
       "<tr>\n",
       "  <th>Prob(Omnibus):</th> <td> 0.000</td>  <th>  Jarque-Bera (JB):  </th> <td>  21.523</td>\n",
       "</tr>\n",
       "<tr>\n",
       "  <th>Skew:</th>          <td>-0.330</td>  <th>  Prob(JB):          </th> <td>2.12e-05</td>\n",
       "</tr>\n",
       "<tr>\n",
       "  <th>Kurtosis:</th>      <td> 1.111</td>  <th>  Cond. No.          </th> <td>    102.</td>\n",
       "</tr>\n",
       "</table><br/><br/>Notes:<br/>[1] Standard Errors assume that the covariance matrix of the errors is correctly specified."
      ],
      "text/plain": [
       "<class 'statsmodels.iolib.summary.Summary'>\n",
       "\"\"\"\n",
       "                            OLS Regression Results                            \n",
       "==============================================================================\n",
       "Dep. Variable:             post_video   R-squared:                       0.000\n",
       "Model:                            OLS   Adj. R-squared:                 -0.007\n",
       "Method:                 Least Squares   F-statistic:                   0.06192\n",
       "Date:                Sun, 18 Jun 2023   Prob (F-statistic):              0.804\n",
       "Time:                        10:08:59   Log-Likelihood:                -91.863\n",
       "No. Observations:                 129   AIC:                             187.7\n",
       "Df Residuals:                     127   BIC:                             193.4\n",
       "Df Model:                           1                                         \n",
       "Covariance Type:            nonrobust                                         \n",
       "==============================================================================\n",
       "                 coef    std err          t      P>|t|      [0.025      0.975]\n",
       "------------------------------------------------------------------------------\n",
       "const          0.6717      0.366      1.837      0.068      -0.052       1.395\n",
       "pop           -0.0075      0.030     -0.249      0.804      -0.067       0.052\n",
       "==============================================================================\n",
       "Omnibus:                      979.831   Durbin-Watson:                   1.943\n",
       "Prob(Omnibus):                  0.000   Jarque-Bera (JB):               21.523\n",
       "Skew:                          -0.330   Prob(JB):                     2.12e-05\n",
       "Kurtosis:                       1.111   Cond. No.                         102.\n",
       "==============================================================================\n",
       "\n",
       "Notes:\n",
       "[1] Standard Errors assume that the covariance matrix of the errors is correctly specified.\n",
       "\"\"\""
      ]
     },
     "execution_count": 118,
     "metadata": {},
     "output_type": "execute_result"
    }
   ],
   "source": [
    "'''\n",
    "Y(post_video) = a x log(pop) + c\n",
    "'''\n",
    "\n",
    "Y = log_meta['post_video']\n",
    "X = log_meta[['pop']]\n",
    "X = sm.add_constant(X)\n",
    "\n",
    "results = sm.OLS(Y,X).fit()\n",
    "results.summary()  \n"
   ]
  },
  {
   "cell_type": "code",
   "execution_count": 119,
   "id": "1f296e4b",
   "metadata": {},
   "outputs": [
    {
     "data": {
      "text/html": [
       "<table class=\"simpletable\">\n",
       "<caption>OLS Regression Results</caption>\n",
       "<tr>\n",
       "  <th>Dep. Variable:</th>       <td>post_video</td>    <th>  R-squared:         </th> <td>   0.000</td>\n",
       "</tr>\n",
       "<tr>\n",
       "  <th>Model:</th>                   <td>OLS</td>       <th>  Adj. R-squared:    </th> <td>  -0.008</td>\n",
       "</tr>\n",
       "<tr>\n",
       "  <th>Method:</th>             <td>Least Squares</td>  <th>  F-statistic:       </th> <td>0.009530</td>\n",
       "</tr>\n",
       "<tr>\n",
       "  <th>Date:</th>             <td>Sun, 18 Jun 2023</td> <th>  Prob (F-statistic):</th>  <td> 0.922</td> \n",
       "</tr>\n",
       "<tr>\n",
       "  <th>Time:</th>                 <td>10:33:52</td>     <th>  Log-Likelihood:    </th> <td> -91.890</td>\n",
       "</tr>\n",
       "<tr>\n",
       "  <th>No. Observations:</th>      <td>   129</td>      <th>  AIC:               </th> <td>   187.8</td>\n",
       "</tr>\n",
       "<tr>\n",
       "  <th>Df Residuals:</th>          <td>   127</td>      <th>  BIC:               </th> <td>   193.5</td>\n",
       "</tr>\n",
       "<tr>\n",
       "  <th>Df Model:</th>              <td>     1</td>      <th>                     </th>     <td> </td>   \n",
       "</tr>\n",
       "<tr>\n",
       "  <th>Covariance Type:</th>      <td>nonrobust</td>    <th>                     </th>     <td> </td>   \n",
       "</tr>\n",
       "</table>\n",
       "<table class=\"simpletable\">\n",
       "<tr>\n",
       "     <td></td>        <th>coef</th>     <th>std err</th>      <th>t</th>      <th>P>|t|</th>  <th>[0.025</th>    <th>0.975]</th>  \n",
       "</tr>\n",
       "<tr>\n",
       "  <th>const</th>   <td>    0.5486</td> <td>    0.339</td> <td>    1.620</td> <td> 0.108</td> <td>   -0.122</td> <td>    1.219</td>\n",
       "</tr>\n",
       "<tr>\n",
       "  <th>revenue</th> <td>    0.0021</td> <td>    0.021</td> <td>    0.098</td> <td> 0.922</td> <td>   -0.040</td> <td>    0.044</td>\n",
       "</tr>\n",
       "</table>\n",
       "<table class=\"simpletable\">\n",
       "<tr>\n",
       "  <th>Omnibus:</th>       <td>978.024</td> <th>  Durbin-Watson:     </th> <td>   1.943</td>\n",
       "</tr>\n",
       "<tr>\n",
       "  <th>Prob(Omnibus):</th> <td> 0.000</td>  <th>  Jarque-Bera (JB):  </th> <td>  21.557</td>\n",
       "</tr>\n",
       "<tr>\n",
       "  <th>Skew:</th>          <td>-0.330</td>  <th>  Prob(JB):          </th> <td>2.08e-05</td>\n",
       "</tr>\n",
       "<tr>\n",
       "  <th>Kurtosis:</th>      <td> 1.109</td>  <th>  Cond. No.          </th> <td>    125.</td>\n",
       "</tr>\n",
       "</table><br/><br/>Notes:<br/>[1] Standard Errors assume that the covariance matrix of the errors is correctly specified."
      ],
      "text/plain": [
       "<class 'statsmodels.iolib.summary.Summary'>\n",
       "\"\"\"\n",
       "                            OLS Regression Results                            \n",
       "==============================================================================\n",
       "Dep. Variable:             post_video   R-squared:                       0.000\n",
       "Model:                            OLS   Adj. R-squared:                 -0.008\n",
       "Method:                 Least Squares   F-statistic:                  0.009530\n",
       "Date:                Sun, 18 Jun 2023   Prob (F-statistic):              0.922\n",
       "Time:                        10:33:52   Log-Likelihood:                -91.890\n",
       "No. Observations:                 129   AIC:                             187.8\n",
       "Df Residuals:                     127   BIC:                             193.5\n",
       "Df Model:                           1                                         \n",
       "Covariance Type:            nonrobust                                         \n",
       "==============================================================================\n",
       "                 coef    std err          t      P>|t|      [0.025      0.975]\n",
       "------------------------------------------------------------------------------\n",
       "const          0.5486      0.339      1.620      0.108      -0.122       1.219\n",
       "revenue        0.0021      0.021      0.098      0.922      -0.040       0.044\n",
       "==============================================================================\n",
       "Omnibus:                      978.024   Durbin-Watson:                   1.943\n",
       "Prob(Omnibus):                  0.000   Jarque-Bera (JB):               21.557\n",
       "Skew:                          -0.330   Prob(JB):                     2.08e-05\n",
       "Kurtosis:                       1.109   Cond. No.                         125.\n",
       "==============================================================================\n",
       "\n",
       "Notes:\n",
       "[1] Standard Errors assume that the covariance matrix of the errors is correctly specified.\n",
       "\"\"\""
      ]
     },
     "execution_count": 119,
     "metadata": {},
     "output_type": "execute_result"
    }
   ],
   "source": [
    "'''\n",
    "Y(post_video) = a x log(revenue) + c\n",
    "'''\n",
    "\n",
    "Y = log_meta['post_video']\n",
    "X = log_meta[['revenue']]\n",
    "X = sm.add_constant(X)\n",
    "\n",
    "results = sm.OLS(Y,X).fit()\n",
    "results.summary()  \n"
   ]
  },
  {
   "cell_type": "code",
   "execution_count": 120,
   "metadata": {},
   "outputs": [
    {
     "data": {
      "text/html": [
       "<table class=\"simpletable\">\n",
       "<caption>OLS Regression Results</caption>\n",
       "<tr>\n",
       "  <th>Dep. Variable:</th>       <td>post_video</td>    <th>  R-squared:         </th> <td>   0.033</td>\n",
       "</tr>\n",
       "<tr>\n",
       "  <th>Model:</th>                   <td>OLS</td>       <th>  Adj. R-squared:    </th> <td>   0.026</td>\n",
       "</tr>\n",
       "<tr>\n",
       "  <th>Method:</th>             <td>Least Squares</td>  <th>  F-statistic:       </th> <td>   4.373</td>\n",
       "</tr>\n",
       "<tr>\n",
       "  <th>Date:</th>             <td>Sun, 18 Jun 2023</td> <th>  Prob (F-statistic):</th>  <td>0.0385</td> \n",
       "</tr>\n",
       "<tr>\n",
       "  <th>Time:</th>                 <td>10:35:00</td>     <th>  Log-Likelihood:    </th> <td> -89.711</td>\n",
       "</tr>\n",
       "<tr>\n",
       "  <th>No. Observations:</th>      <td>   129</td>      <th>  AIC:               </th> <td>   183.4</td>\n",
       "</tr>\n",
       "<tr>\n",
       "  <th>Df Residuals:</th>          <td>   127</td>      <th>  BIC:               </th> <td>   189.1</td>\n",
       "</tr>\n",
       "<tr>\n",
       "  <th>Df Model:</th>              <td>     1</td>      <th>                     </th>     <td> </td>   \n",
       "</tr>\n",
       "<tr>\n",
       "  <th>Covariance Type:</th>      <td>nonrobust</td>    <th>                     </th>     <td> </td>   \n",
       "</tr>\n",
       "</table>\n",
       "<table class=\"simpletable\">\n",
       "<tr>\n",
       "    <td></td>       <th>coef</th>     <th>std err</th>      <th>t</th>      <th>P>|t|</th>  <th>[0.025</th>    <th>0.975]</th>  \n",
       "</tr>\n",
       "<tr>\n",
       "  <th>const</th> <td>    0.7777</td> <td>    0.103</td> <td>    7.530</td> <td> 0.000</td> <td>    0.573</td> <td>    0.982</td>\n",
       "</tr>\n",
       "<tr>\n",
       "  <th>mile</th>  <td>   -0.0503</td> <td>    0.024</td> <td>   -2.091</td> <td> 0.039</td> <td>   -0.098</td> <td>   -0.003</td>\n",
       "</tr>\n",
       "</table>\n",
       "<table class=\"simpletable\">\n",
       "<tr>\n",
       "  <th>Omnibus:</th>       <td>1202.087</td> <th>  Durbin-Watson:     </th> <td>   1.934</td>\n",
       "</tr>\n",
       "<tr>\n",
       "  <th>Prob(Omnibus):</th>  <td> 0.000</td>  <th>  Jarque-Bera (JB):  </th> <td>  18.755</td>\n",
       "</tr>\n",
       "<tr>\n",
       "  <th>Skew:</th>           <td>-0.308</td>  <th>  Prob(JB):          </th> <td>8.46e-05</td>\n",
       "</tr>\n",
       "<tr>\n",
       "  <th>Kurtosis:</th>       <td> 1.236</td>  <th>  Cond. No.          </th> <td>    10.8</td>\n",
       "</tr>\n",
       "</table><br/><br/>Notes:<br/>[1] Standard Errors assume that the covariance matrix of the errors is correctly specified."
      ],
      "text/plain": [
       "<class 'statsmodels.iolib.summary.Summary'>\n",
       "\"\"\"\n",
       "                            OLS Regression Results                            \n",
       "==============================================================================\n",
       "Dep. Variable:             post_video   R-squared:                       0.033\n",
       "Model:                            OLS   Adj. R-squared:                  0.026\n",
       "Method:                 Least Squares   F-statistic:                     4.373\n",
       "Date:                Sun, 18 Jun 2023   Prob (F-statistic):             0.0385\n",
       "Time:                        10:35:00   Log-Likelihood:                -89.711\n",
       "No. Observations:                 129   AIC:                             183.4\n",
       "Df Residuals:                     127   BIC:                             189.1\n",
       "Df Model:                           1                                         \n",
       "Covariance Type:            nonrobust                                         \n",
       "==============================================================================\n",
       "                 coef    std err          t      P>|t|      [0.025      0.975]\n",
       "------------------------------------------------------------------------------\n",
       "const          0.7777      0.103      7.530      0.000       0.573       0.982\n",
       "mile          -0.0503      0.024     -2.091      0.039      -0.098      -0.003\n",
       "==============================================================================\n",
       "Omnibus:                     1202.087   Durbin-Watson:                   1.934\n",
       "Prob(Omnibus):                  0.000   Jarque-Bera (JB):               18.755\n",
       "Skew:                          -0.308   Prob(JB):                     8.46e-05\n",
       "Kurtosis:                       1.236   Cond. No.                         10.8\n",
       "==============================================================================\n",
       "\n",
       "Notes:\n",
       "[1] Standard Errors assume that the covariance matrix of the errors is correctly specified.\n",
       "\"\"\""
      ]
     },
     "execution_count": 120,
     "metadata": {},
     "output_type": "execute_result"
    }
   ],
   "source": [
    "'''\n",
    "Y(post_video) = a x log(mile) + c\n",
    "'''\n",
    "\n",
    "Y = log_meta['post_video']\n",
    "X = log_meta[['mile']]\n",
    "X = sm.add_constant(X)\n",
    "\n",
    "results = sm.OLS(Y,X).fit()\n",
    "results.summary()  \n"
   ]
  },
  {
   "cell_type": "code",
   "execution_count": 121,
   "id": "a73fa4f0",
   "metadata": {},
   "outputs": [
    {
     "data": {
      "text/html": [
       "<table class=\"simpletable\">\n",
       "<caption>OLS Regression Results</caption>\n",
       "<tr>\n",
       "  <th>Dep. Variable:</th>       <td>post_video</td>    <th>  R-squared:         </th> <td>   0.003</td>\n",
       "</tr>\n",
       "<tr>\n",
       "  <th>Model:</th>                   <td>OLS</td>       <th>  Adj. R-squared:    </th> <td>  -0.013</td>\n",
       "</tr>\n",
       "<tr>\n",
       "  <th>Method:</th>             <td>Least Squares</td>  <th>  F-statistic:       </th> <td>  0.2057</td>\n",
       "</tr>\n",
       "<tr>\n",
       "  <th>Date:</th>             <td>Sun, 18 Jun 2023</td> <th>  Prob (F-statistic):</th>  <td> 0.814</td> \n",
       "</tr>\n",
       "<tr>\n",
       "  <th>Time:</th>                 <td>10:35:58</td>     <th>  Log-Likelihood:    </th> <td> -91.684</td>\n",
       "</tr>\n",
       "<tr>\n",
       "  <th>No. Observations:</th>      <td>   129</td>      <th>  AIC:               </th> <td>   189.4</td>\n",
       "</tr>\n",
       "<tr>\n",
       "  <th>Df Residuals:</th>          <td>   126</td>      <th>  BIC:               </th> <td>   197.9</td>\n",
       "</tr>\n",
       "<tr>\n",
       "  <th>Df Model:</th>              <td>     2</td>      <th>                     </th>     <td> </td>   \n",
       "</tr>\n",
       "<tr>\n",
       "  <th>Covariance Type:</th>      <td>nonrobust</td>    <th>                     </th>     <td> </td>   \n",
       "</tr>\n",
       "</table>\n",
       "<table class=\"simpletable\">\n",
       "<tr>\n",
       "     <td></td>        <th>coef</th>     <th>std err</th>      <th>t</th>      <th>P>|t|</th>  <th>[0.025</th>    <th>0.975]</th>  \n",
       "</tr>\n",
       "<tr>\n",
       "  <th>const</th>   <td>    0.6418</td> <td>    0.370</td> <td>    1.735</td> <td> 0.085</td> <td>   -0.090</td> <td>    1.374</td>\n",
       "</tr>\n",
       "<tr>\n",
       "  <th>pop</th>     <td>   -0.0366</td> <td>    0.058</td> <td>   -0.634</td> <td> 0.527</td> <td>   -0.151</td> <td>    0.078</td>\n",
       "</tr>\n",
       "<tr>\n",
       "  <th>revenue</th> <td>    0.0238</td> <td>    0.040</td> <td>    0.591</td> <td> 0.555</td> <td>   -0.056</td> <td>    0.104</td>\n",
       "</tr>\n",
       "</table>\n",
       "<table class=\"simpletable\">\n",
       "<tr>\n",
       "  <th>Omnibus:</th>       <td>992.567</td> <th>  Durbin-Watson:     </th> <td>   1.946</td>\n",
       "</tr>\n",
       "<tr>\n",
       "  <th>Prob(Omnibus):</th> <td> 0.000</td>  <th>  Jarque-Bera (JB):  </th> <td>  21.319</td>\n",
       "</tr>\n",
       "<tr>\n",
       "  <th>Skew:</th>          <td>-0.330</td>  <th>  Prob(JB):          </th> <td>2.35e-05</td>\n",
       "</tr>\n",
       "<tr>\n",
       "  <th>Kurtosis:</th>      <td> 1.121</td>  <th>  Cond. No.          </th> <td>    171.</td>\n",
       "</tr>\n",
       "</table><br/><br/>Notes:<br/>[1] Standard Errors assume that the covariance matrix of the errors is correctly specified."
      ],
      "text/plain": [
       "<class 'statsmodels.iolib.summary.Summary'>\n",
       "\"\"\"\n",
       "                            OLS Regression Results                            \n",
       "==============================================================================\n",
       "Dep. Variable:             post_video   R-squared:                       0.003\n",
       "Model:                            OLS   Adj. R-squared:                 -0.013\n",
       "Method:                 Least Squares   F-statistic:                    0.2057\n",
       "Date:                Sun, 18 Jun 2023   Prob (F-statistic):              0.814\n",
       "Time:                        10:35:58   Log-Likelihood:                -91.684\n",
       "No. Observations:                 129   AIC:                             189.4\n",
       "Df Residuals:                     126   BIC:                             197.9\n",
       "Df Model:                           2                                         \n",
       "Covariance Type:            nonrobust                                         \n",
       "==============================================================================\n",
       "                 coef    std err          t      P>|t|      [0.025      0.975]\n",
       "------------------------------------------------------------------------------\n",
       "const          0.6418      0.370      1.735      0.085      -0.090       1.374\n",
       "pop           -0.0366      0.058     -0.634      0.527      -0.151       0.078\n",
       "revenue        0.0238      0.040      0.591      0.555      -0.056       0.104\n",
       "==============================================================================\n",
       "Omnibus:                      992.567   Durbin-Watson:                   1.946\n",
       "Prob(Omnibus):                  0.000   Jarque-Bera (JB):               21.319\n",
       "Skew:                          -0.330   Prob(JB):                     2.35e-05\n",
       "Kurtosis:                       1.121   Cond. No.                         171.\n",
       "==============================================================================\n",
       "\n",
       "Notes:\n",
       "[1] Standard Errors assume that the covariance matrix of the errors is correctly specified.\n",
       "\"\"\""
      ]
     },
     "execution_count": 121,
     "metadata": {},
     "output_type": "execute_result"
    }
   ],
   "source": [
    "'''\n",
    "Y(post_video) = a x log(pop) + b x log(revenue) + c\n",
    "'''\n",
    "\n",
    "Y = log_meta['post_video']\n",
    "X = log_meta[['pop', 'revenue']]\n",
    "X = sm.add_constant(X)\n",
    "\n",
    "results = sm.OLS(Y,X).fit()\n",
    "results.summary()  "
   ]
  },
  {
   "cell_type": "code",
   "execution_count": 122,
   "id": "86229687",
   "metadata": {},
   "outputs": [
    {
     "data": {
      "text/html": [
       "<table class=\"simpletable\">\n",
       "<caption>OLS Regression Results</caption>\n",
       "<tr>\n",
       "  <th>Dep. Variable:</th>       <td>post_video</td>    <th>  R-squared:         </th> <td>   0.068</td>\n",
       "</tr>\n",
       "<tr>\n",
       "  <th>Model:</th>                   <td>OLS</td>       <th>  Adj. R-squared:    </th> <td>   0.053</td>\n",
       "</tr>\n",
       "<tr>\n",
       "  <th>Method:</th>             <td>Least Squares</td>  <th>  F-statistic:       </th> <td>   4.576</td>\n",
       "</tr>\n",
       "<tr>\n",
       "  <th>Date:</th>             <td>Sun, 18 Jun 2023</td> <th>  Prob (F-statistic):</th>  <td>0.0121</td> \n",
       "</tr>\n",
       "<tr>\n",
       "  <th>Time:</th>                 <td>10:36:40</td>     <th>  Log-Likelihood:    </th> <td> -87.372</td>\n",
       "</tr>\n",
       "<tr>\n",
       "  <th>No. Observations:</th>      <td>   129</td>      <th>  AIC:               </th> <td>   180.7</td>\n",
       "</tr>\n",
       "<tr>\n",
       "  <th>Df Residuals:</th>          <td>   126</td>      <th>  BIC:               </th> <td>   189.3</td>\n",
       "</tr>\n",
       "<tr>\n",
       "  <th>Df Model:</th>              <td>     2</td>      <th>                     </th>     <td> </td>   \n",
       "</tr>\n",
       "<tr>\n",
       "  <th>Covariance Type:</th>      <td>nonrobust</td>    <th>                     </th>     <td> </td>   \n",
       "</tr>\n",
       "</table>\n",
       "<table class=\"simpletable\">\n",
       "<tr>\n",
       "    <td></td>       <th>coef</th>     <th>std err</th>      <th>t</th>      <th>P>|t|</th>  <th>[0.025</th>    <th>0.975]</th>  \n",
       "</tr>\n",
       "<tr>\n",
       "  <th>const</th> <td>   -0.1710</td> <td>    0.451</td> <td>   -0.379</td> <td> 0.705</td> <td>   -1.064</td> <td>    0.722</td>\n",
       "</tr>\n",
       "<tr>\n",
       "  <th>pop</th>   <td>    0.0985</td> <td>    0.046</td> <td>    2.157</td> <td> 0.033</td> <td>    0.008</td> <td>    0.189</td>\n",
       "</tr>\n",
       "<tr>\n",
       "  <th>mile</th>  <td>   -0.1119</td> <td>    0.037</td> <td>   -3.014</td> <td> 0.003</td> <td>   -0.185</td> <td>   -0.038</td>\n",
       "</tr>\n",
       "</table>\n",
       "<table class=\"simpletable\">\n",
       "<tr>\n",
       "  <th>Omnibus:</th>       <td>3275.495</td> <th>  Durbin-Watson:     </th> <td>   1.943</td>\n",
       "</tr>\n",
       "<tr>\n",
       "  <th>Prob(Omnibus):</th>  <td> 0.000</td>  <th>  Jarque-Bera (JB):  </th> <td>  16.288</td>\n",
       "</tr>\n",
       "<tr>\n",
       "  <th>Skew:</th>           <td>-0.359</td>  <th>  Prob(JB):          </th> <td>0.000290</td>\n",
       "</tr>\n",
       "<tr>\n",
       "  <th>Kurtosis:</th>       <td> 1.414</td>  <th>  Cond. No.          </th> <td>    138.</td>\n",
       "</tr>\n",
       "</table><br/><br/>Notes:<br/>[1] Standard Errors assume that the covariance matrix of the errors is correctly specified."
      ],
      "text/plain": [
       "<class 'statsmodels.iolib.summary.Summary'>\n",
       "\"\"\"\n",
       "                            OLS Regression Results                            \n",
       "==============================================================================\n",
       "Dep. Variable:             post_video   R-squared:                       0.068\n",
       "Model:                            OLS   Adj. R-squared:                  0.053\n",
       "Method:                 Least Squares   F-statistic:                     4.576\n",
       "Date:                Sun, 18 Jun 2023   Prob (F-statistic):             0.0121\n",
       "Time:                        10:36:40   Log-Likelihood:                -87.372\n",
       "No. Observations:                 129   AIC:                             180.7\n",
       "Df Residuals:                     126   BIC:                             189.3\n",
       "Df Model:                           2                                         \n",
       "Covariance Type:            nonrobust                                         \n",
       "==============================================================================\n",
       "                 coef    std err          t      P>|t|      [0.025      0.975]\n",
       "------------------------------------------------------------------------------\n",
       "const         -0.1710      0.451     -0.379      0.705      -1.064       0.722\n",
       "pop            0.0985      0.046      2.157      0.033       0.008       0.189\n",
       "mile          -0.1119      0.037     -3.014      0.003      -0.185      -0.038\n",
       "==============================================================================\n",
       "Omnibus:                     3275.495   Durbin-Watson:                   1.943\n",
       "Prob(Omnibus):                  0.000   Jarque-Bera (JB):               16.288\n",
       "Skew:                          -0.359   Prob(JB):                     0.000290\n",
       "Kurtosis:                       1.414   Cond. No.                         138.\n",
       "==============================================================================\n",
       "\n",
       "Notes:\n",
       "[1] Standard Errors assume that the covariance matrix of the errors is correctly specified.\n",
       "\"\"\""
      ]
     },
     "execution_count": 122,
     "metadata": {},
     "output_type": "execute_result"
    }
   ],
   "source": [
    "'''\n",
    "Y(post_video) = a x log(pop) + b x log(mile) + c\n",
    "'''\n",
    "\n",
    "Y = log_meta['post_video']\n",
    "X = log_meta[['pop', 'mile']]\n",
    "X = sm.add_constant(X)\n",
    "\n",
    "results = sm.OLS(Y,X).fit()\n",
    "results.summary()  "
   ]
  },
  {
   "cell_type": "code",
   "execution_count": null,
   "id": "140ccfdd",
   "metadata": {},
   "outputs": [],
   "source": []
  }
 ],
 "metadata": {
  "kernelspec": {
   "display_name": "IPython - tensorflow",
   "language": "python",
   "name": "env_tensorflow"
  },
  "language_info": {
   "codemirror_mode": {
    "name": "ipython",
    "version": 3
   },
   "file_extension": ".py",
   "mimetype": "text/x-python",
   "name": "python",
   "nbconvert_exporter": "python",
   "pygments_lexer": "ipython3",
   "version": "3.9.7"
  }
 },
 "nbformat": 4,
 "nbformat_minor": 5
}
